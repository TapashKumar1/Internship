{
 "cells": [
  {
   "cell_type": "markdown",
   "id": "834a348d",
   "metadata": {},
   "source": [
    "Q1.Write a python program to display all the header tags from wikipedia.org and make data frame"
   ]
  },
  {
   "cell_type": "markdown",
   "id": "2cea353f",
   "metadata": {},
   "source": [
    "Importing Necessary Libraries "
   ]
  },
  {
   "cell_type": "code",
   "execution_count": 10,
   "id": "6f501c93",
   "metadata": {},
   "outputs": [],
   "source": [
    "from bs4 import BeautifulSoup\n",
    "import requests\n",
    "import pandas as pd"
   ]
  },
  {
   "cell_type": "markdown",
   "id": "fb2c7812",
   "metadata": {},
   "source": [
    "Asking for permission for the source code"
   ]
  },
  {
   "cell_type": "code",
   "execution_count": 2,
   "id": "80dcb391",
   "metadata": {},
   "outputs": [
    {
     "data": {
      "text/plain": [
       "<Response [200]>"
      ]
     },
     "execution_count": 2,
     "metadata": {},
     "output_type": "execute_result"
    }
   ],
   "source": [
    "url = \"https://en.wikipedia.org/wiki/Main_Page\"\n",
    "response = requests.get(url)\n",
    "response"
   ]
  },
  {
   "cell_type": "code",
   "execution_count": 3,
   "id": "88520f1f",
   "metadata": {},
   "outputs": [
    {
     "data": {
      "text/plain": [
       "<!DOCTYPE html>\n",
       "\n",
       "<html class=\"client-nojs vector-feature-language-in-header-enabled vector-feature-language-in-main-page-header-disabled vector-feature-sticky-header-disabled vector-feature-page-tools-pinned-disabled vector-feature-toc-pinned-clientpref-1 vector-feature-main-menu-pinned-disabled vector-feature-limited-width-clientpref-1 vector-feature-limited-width-content-enabled vector-feature-zebra-design-disabled vector-feature-custom-font-size-clientpref-0 vector-feature-client-preferences-disabled vector-feature-typography-survey-disabled vector-toc-not-available\" dir=\"ltr\" lang=\"en\">\n",
       "<head>\n",
       "<meta charset=\"utf-8\"/>\n",
       "<title>Wikipedia, the free encyclopedia</title>\n",
       "<script>(function(){var className=\"client-js vector-feature-language-in-header-enabled vector-feature-language-in-main-page-header-disabled vector-feature-sticky-header-disabled vector-feature-page-tools-pinned-disabled vector-feature-toc-pinned-clientpref-1 vector-feature-main-menu-pinned-disabled vector-feature-limited-width-clientpref-1 vector-feature-limited-width-content-enabled vector-feature-zebra-design-disabled vector-feature-custom-font-size-clientpref-0 vector-feature-client-preferences-disabled vector-feature-typography-survey-disabled vector-toc-not-available\";var cookie=document.cookie.match(/(?:^|; )enwikimwclientpreferences=([^;]+)/);if(cookie){cookie[1].split('%2C').forEach(function(pref){className=className.replace(new RegExp('(^| )'+pref.replace(/-clientpref-\\w+$|[^\\w-]+/g,'')+'-clientpref-\\\\w+( |$)'),'$1'+pref+'$2');});}document.documentElement.className=className;}());RLCONF={\"wgBreakFrames\":false,\"wgSeparatorTransformTable\":[\"\",\"\"],\"wgDigitTransformTable\":[\"\",\"\"],\n",
       "\"wgDefaultDateFormat\":\"dmy\",\"wgMonthNames\":[\"\",\"January\",\"February\",\"March\",\"April\",\"May\",\"June\",\"July\",\"August\",\"September\",\"October\",\"November\",\"December\"],\"wgRequestId\":\"34fd38c4-3c08-4fc9-88f0-d78c9533b0ed\",\"wgCanonicalNamespace\":\"\",\"wgCanonicalSpecialPageName\":false,\"wgNamespaceNumber\":0,\"wgPageName\":\"Main_Page\",\"wgTitle\":\"Main Page\",\"wgCurRevisionId\":1114291180,\"wgRevisionId\":1114291180,\"wgArticleId\":15580374,\"wgIsArticle\":true,\"wgIsRedirect\":false,\"wgAction\":\"view\",\"wgUserName\":null,\"wgUserGroups\":[\"*\"],\"wgCategories\":[],\"wgPageViewLanguage\":\"en\",\"wgPageContentLanguage\":\"en\",\"wgPageContentModel\":\"wikitext\",\"wgRelevantPageName\":\"Main_Page\",\"wgRelevantArticleId\":15580374,\"wgIsProbablyEditable\":false,\"wgRelevantPageIsProbablyEditable\":false,\"wgRestrictionEdit\":[\"sysop\"],\"wgRestrictionMove\":[\"sysop\"],\"wgIsMainPage\":true,\"wgNoticeProject\":\"wikipedia\",\"wgFlaggedRevsParams\":{\"tags\":{\"status\":{\"levels\":1}}},\"wgMediaViewerOnClick\":true,\"wgMediaViewerEnabledByDefault\":true,\"wgPopupsFlags\"\n",
       ":10,\"wgVisualEditor\":{\"pageLanguageCode\":\"en\",\"pageLanguageDir\":\"ltr\",\"pageVariantFallbacks\":\"en\"},\"wgMFDisplayWikibaseDescriptions\":{\"search\":true,\"watchlist\":true,\"tagline\":false,\"nearby\":true},\"wgWMESchemaEditAttemptStepOversample\":false,\"wgWMEPageLength\":3000,\"wgULSCurrentAutonym\":\"English\",\"wgCentralAuthMobileDomain\":false,\"wgEditSubmitButtonLabelPublish\":true,\"wgULSPosition\":\"interlanguage\",\"wgULSisCompactLinksEnabled\":true,\"wgULSisLanguageSelectorEmpty\":false,\"wgWikibaseItemId\":\"Q5296\",\"wgCheckUserClientHintsHeadersJsApi\":[\"architecture\",\"bitness\",\"brands\",\"fullVersionList\",\"mobile\",\"model\",\"platform\",\"platformVersion\"],\"GEHomepageSuggestedEditsEnableTopics\":true,\"wgGETopicsMatchModeEnabled\":false,\"wgGEStructuredTaskRejectionReasonTextInputEnabled\":false,\"wgGELevelingUpEnabledForUser\":false};RLSTATE={\"skins.vector.user.styles\":\"ready\",\"ext.globalCssJs.user.styles\":\"ready\",\"site.styles\":\"ready\",\"user.styles\":\"ready\",\"skins.vector.user\":\"ready\",\"ext.globalCssJs.user\":\"ready\",\n",
       "\"user\":\"ready\",\"user.options\":\"loading\",\"codex-search-styles\":\"ready\",\"skins.vector.styles\":\"ready\",\"skins.vector.icons\":\"ready\",\"ext.visualEditor.desktopArticleTarget.noscript\":\"ready\",\"ext.uls.interlanguage\":\"ready\",\"ext.wikimediaBadges\":\"ready\"};RLPAGEMODULES=[\"site\",\"mediawiki.page.ready\",\"skins.vector.js\",\"ext.centralNotice.geoIP\",\"ext.centralNotice.startUp\",\"ext.gadget.ReferenceTooltips\",\"ext.gadget.switcher\",\"ext.urlShortener.toolbar\",\"ext.centralauth.centralautologin\",\"mmv.head\",\"mmv.bootstrap.autostart\",\"ext.popups\",\"ext.visualEditor.desktopArticleTarget.init\",\"ext.visualEditor.targetLoader\",\"ext.echo.centralauth\",\"ext.eventLogging\",\"ext.wikimediaEvents\",\"ext.navigationTiming\",\"ext.uls.interface\",\"ext.cx.eventlogging.campaigns\",\"wikibase.client.vector-2022\",\"ext.checkUser.clientHints\",\"ext.growthExperiments.SuggestedEditSession\"];</script>\n",
       "<script>(RLQ=window.RLQ||[]).push(function(){mw.loader.impl(function(){return[\"user.options@12s5i\",function($,jQuery,require,module){mw.user.tokens.set({\"patrolToken\":\"+\\\\\",\"watchToken\":\"+\\\\\",\"csrfToken\":\"+\\\\\"});\n",
       "}];});});</script>\n",
       "<link href=\"/w/load.php?lang=en&amp;modules=codex-search-styles%7Cext.uls.interlanguage%7Cext.visualEditor.desktopArticleTarget.noscript%7Cext.wikimediaBadges%7Cskins.vector.icons%2Cstyles&amp;only=styles&amp;skin=vector-2022\" rel=\"stylesheet\"/>\n",
       "<script async=\"\" src=\"/w/load.php?lang=en&amp;modules=startup&amp;only=scripts&amp;raw=1&amp;skin=vector-2022\"></script>\n",
       "<meta content=\"\" name=\"ResourceLoaderDynamicStyles\"/>\n",
       "<link href=\"/w/load.php?lang=en&amp;modules=site.styles&amp;only=styles&amp;skin=vector-2022\" rel=\"stylesheet\"/>\n",
       "<meta content=\"MediaWiki 1.42.0-wmf.5\" name=\"generator\"/>\n",
       "<meta content=\"origin\" name=\"referrer\"/>\n",
       "<meta content=\"origin-when-cross-origin\" name=\"referrer\"/>\n",
       "<meta content=\"max-image-preview:standard\" name=\"robots\"/>\n",
       "<meta content=\"telephone=no\" name=\"format-detection\"/>\n",
       "<meta content=\"https://upload.wikimedia.org/wikipedia/commons/thumb/f/f8/Australiformis_Distribution.png/1200px-Australiformis_Distribution.png\" property=\"og:image\"/>\n",
       "<meta content=\"1200\" property=\"og:image:width\"/>\n",
       "<meta content=\"721\" property=\"og:image:height\"/>\n",
       "<meta content=\"https://upload.wikimedia.org/wikipedia/commons/thumb/f/f8/Australiformis_Distribution.png/800px-Australiformis_Distribution.png\" property=\"og:image\"/>\n",
       "<meta content=\"800\" property=\"og:image:width\"/>\n",
       "<meta content=\"481\" property=\"og:image:height\"/>\n",
       "<meta content=\"https://upload.wikimedia.org/wikipedia/commons/thumb/f/f8/Australiformis_Distribution.png/640px-Australiformis_Distribution.png\" property=\"og:image\"/>\n",
       "<meta content=\"640\" property=\"og:image:width\"/>\n",
       "<meta content=\"385\" property=\"og:image:height\"/>\n",
       "<meta content=\"width=1000\" name=\"viewport\"/>\n",
       "<meta content=\"Wikipedia, the free encyclopedia\" property=\"og:title\"/>\n",
       "<meta content=\"website\" property=\"og:type\"/>\n",
       "<link href=\"//upload.wikimedia.org\" rel=\"preconnect\"/>\n",
       "<link href=\"//en.m.wikipedia.org/wiki/Main_Page\" media=\"only screen and (max-width: 720px)\" rel=\"alternate\"/>\n",
       "<link href=\"/w/api.php?action=featuredfeed&amp;feed=potd&amp;feedformat=atom\" rel=\"alternate\" title=\"Wikipedia picture of the day feed\" type=\"application/atom+xml\"/>\n",
       "<link href=\"/w/api.php?action=featuredfeed&amp;feed=featured&amp;feedformat=atom\" rel=\"alternate\" title=\"Wikipedia featured articles feed\" type=\"application/atom+xml\"/>\n",
       "<link href=\"/w/api.php?action=featuredfeed&amp;feed=onthisday&amp;feedformat=atom\" rel=\"alternate\" title='Wikipedia \"On this day...\" feed' type=\"application/atom+xml\"/>\n",
       "<link href=\"/static/apple-touch/wikipedia.png\" rel=\"apple-touch-icon\"/>\n",
       "<link href=\"/static/favicon/wikipedia.ico\" rel=\"icon\"/>\n",
       "<link href=\"/w/opensearch_desc.php\" rel=\"search\" title=\"Wikipedia (en)\" type=\"application/opensearchdescription+xml\"/>\n",
       "<link href=\"//en.wikipedia.org/w/api.php?action=rsd\" rel=\"EditURI\" type=\"application/rsd+xml\"/>\n",
       "<link href=\"https://en.wikipedia.org/wiki/Main_Page\" rel=\"canonical\"/>\n",
       "<link href=\"https://creativecommons.org/licenses/by-sa/4.0/deed.en\" rel=\"license\"/>\n",
       "<link href=\"/w/index.php?title=Special:RecentChanges&amp;feed=atom\" rel=\"alternate\" title=\"Wikipedia Atom feed\" type=\"application/atom+xml\"/>\n",
       "<link href=\"//meta.wikimedia.org\" rel=\"dns-prefetch\">\n",
       "<link href=\"//login.wikimedia.org\" rel=\"dns-prefetch\"/>\n",
       "</link></head>\n",
       "<body class=\"skin-vector skin-vector-search-vue mediawiki ltr sitedir-ltr mw-hide-empty-elt ns-0 ns-subject page-Main_Page rootpage-Main_Page skin-vector-2022 action-view\"><a class=\"mw-jump-link\" href=\"#bodyContent\">Jump to content</a>\n",
       "<div class=\"vector-header-container\">\n",
       "<header class=\"vector-header mw-header\">\n",
       "<div class=\"vector-header-start\">\n",
       "<nav aria-label=\"Site\" class=\"vector-main-menu-landmark\" role=\"navigation\">\n",
       "<div class=\"vector-dropdown vector-main-menu-dropdown vector-button-flush-left vector-button-flush-right\" id=\"vector-main-menu-dropdown\">\n",
       "<input aria-haspopup=\"true\" aria-label=\"Main menu\" class=\"vector-dropdown-checkbox\" data-event-name=\"ui.dropdown-vector-main-menu-dropdown\" id=\"vector-main-menu-dropdown-checkbox\" role=\"button\" type=\"checkbox\"/>\n",
       "<label aria-hidden=\"true\" class=\"vector-dropdown-label cdx-button cdx-button--fake-button cdx-button--fake-button--enabled cdx-button--weight-quiet cdx-button--icon-only\" for=\"vector-main-menu-dropdown-checkbox\" id=\"vector-main-menu-dropdown-label\"><span class=\"vector-icon mw-ui-icon-menu mw-ui-icon-wikimedia-menu\"></span>\n",
       "<span class=\"vector-dropdown-label-text\">Main menu</span>\n",
       "</label>\n",
       "<div class=\"vector-dropdown-content\">\n",
       "<div class=\"vector-unpinned-container\" id=\"vector-main-menu-unpinned-container\">\n",
       "<div class=\"vector-main-menu vector-pinnable-element\" id=\"vector-main-menu\">\n",
       "<div class=\"vector-pinnable-header vector-main-menu-pinnable-header vector-pinnable-header-unpinned\" data-feature-name=\"main-menu-pinned\" data-pinnable-element-id=\"vector-main-menu\" data-pinned-container-id=\"vector-main-menu-pinned-container\" data-unpinned-container-id=\"vector-main-menu-unpinned-container\">\n",
       "<div class=\"vector-pinnable-header-label\">Main menu</div>\n",
       "<button class=\"vector-pinnable-header-toggle-button vector-pinnable-header-pin-button\" data-event-name=\"pinnable-header.vector-main-menu.pin\">move to sidebar</button>\n",
       "<button class=\"vector-pinnable-header-toggle-button vector-pinnable-header-unpin-button\" data-event-name=\"pinnable-header.vector-main-menu.unpin\">hide</button>\n",
       "</div>\n",
       "<div class=\"vector-menu mw-portlet mw-portlet-navigation\" id=\"p-navigation\">\n",
       "<div class=\"vector-menu-heading\">\n",
       "\t\tNavigation\n",
       "\t</div>\n",
       "<div class=\"vector-menu-content\">\n",
       "<ul class=\"vector-menu-content-list\">\n",
       "<li class=\"mw-list-item\" id=\"n-mainpage-description\"><a accesskey=\"z\" href=\"/wiki/Main_Page\" title=\"Visit the main page [z]\"><span>Main page</span></a></li><li class=\"mw-list-item\" id=\"n-contents\"><a href=\"/wiki/Wikipedia:Contents\" title=\"Guides to browsing Wikipedia\"><span>Contents</span></a></li><li class=\"mw-list-item\" id=\"n-currentevents\"><a href=\"/wiki/Portal:Current_events\" title=\"Articles related to current events\"><span>Current events</span></a></li><li class=\"mw-list-item\" id=\"n-randompage\"><a accesskey=\"x\" href=\"/wiki/Special:Random\" title=\"Visit a randomly selected article [x]\"><span>Random article</span></a></li><li class=\"mw-list-item\" id=\"n-aboutsite\"><a href=\"/wiki/Wikipedia:About\" title=\"Learn about Wikipedia and how it works\"><span>About Wikipedia</span></a></li><li class=\"mw-list-item\" id=\"n-contactpage\"><a href=\"//en.wikipedia.org/wiki/Wikipedia:Contact_us\" title=\"How to contact Wikipedia\"><span>Contact us</span></a></li><li class=\"mw-list-item\" id=\"n-sitesupport\"><a href=\"https://donate.wikimedia.org/wiki/Special:FundraiserRedirector?utm_source=donate&amp;utm_medium=sidebar&amp;utm_campaign=C13_en.wikipedia.org&amp;uselang=en\" title=\"Support us by donating to the Wikimedia Foundation\"><span>Donate</span></a></li>\n",
       "</ul>\n",
       "</div>\n",
       "</div>\n",
       "<div class=\"vector-menu mw-portlet mw-portlet-interaction\" id=\"p-interaction\">\n",
       "<div class=\"vector-menu-heading\">\n",
       "\t\tContribute\n",
       "\t</div>\n",
       "<div class=\"vector-menu-content\">\n",
       "<ul class=\"vector-menu-content-list\">\n",
       "<li class=\"mw-list-item\" id=\"n-help\"><a href=\"/wiki/Help:Contents\" title=\"Guidance on how to use and edit Wikipedia\"><span>Help</span></a></li><li class=\"mw-list-item\" id=\"n-introduction\"><a href=\"/wiki/Help:Introduction\" title=\"Learn how to edit Wikipedia\"><span>Learn to edit</span></a></li><li class=\"mw-list-item\" id=\"n-portal\"><a href=\"/wiki/Wikipedia:Community_portal\" title=\"The hub for editors\"><span>Community portal</span></a></li><li class=\"mw-list-item\" id=\"n-recentchanges\"><a accesskey=\"r\" href=\"/wiki/Special:RecentChanges\" title=\"A list of recent changes to Wikipedia [r]\"><span>Recent changes</span></a></li><li class=\"mw-list-item\" id=\"n-upload\"><a href=\"/wiki/Wikipedia:File_upload_wizard\" title=\"Add images or other media for use on Wikipedia\"><span>Upload file</span></a></li>\n",
       "</ul>\n",
       "</div>\n",
       "</div>\n",
       "</div>\n",
       "</div>\n",
       "</div>\n",
       "</div>\n",
       "</nav>\n",
       "<a class=\"mw-logo\" href=\"/wiki/Main_Page\">\n",
       "<img alt=\"\" aria-hidden=\"true\" class=\"mw-logo-icon\" height=\"50\" src=\"/static/images/icons/wikipedia.png\" width=\"50\"/>\n",
       "<span class=\"mw-logo-container\">\n",
       "<img alt=\"Wikipedia\" class=\"mw-logo-wordmark\" src=\"/static/images/mobile/copyright/wikipedia-wordmark-en.svg\" style=\"width: 7.5em; height: 1.125em;\"/>\n",
       "<img alt=\"The Free Encyclopedia\" class=\"mw-logo-tagline\" height=\"13\" src=\"/static/images/mobile/copyright/wikipedia-tagline-en.svg\" style=\"width: 7.3125em; height: 0.8125em;\" width=\"117\"/>\n",
       "</span>\n",
       "</a>\n",
       "</div>\n",
       "<div class=\"vector-header-end\">\n",
       "<div class=\"vector-search-box-vue vector-search-box-collapses vector-search-box-show-thumbnail vector-search-box-auto-expand-width vector-search-box\" id=\"p-search\" role=\"search\">\n",
       "<a accesskey=\"f\" class=\"cdx-button cdx-button--fake-button cdx-button--fake-button--enabled cdx-button--weight-quiet cdx-button--icon-only search-toggle\" href=\"/wiki/Special:Search\" id=\"\" title=\"Search Wikipedia [f]\"><span class=\"vector-icon mw-ui-icon-search mw-ui-icon-wikimedia-search\"></span>\n",
       "<span>Search</span>\n",
       "</a>\n",
       "<div class=\"vector-typeahead-search-container\">\n",
       "<div class=\"cdx-typeahead-search cdx-typeahead-search--show-thumbnail cdx-typeahead-search--auto-expand-width\">\n",
       "<form action=\"/w/index.php\" class=\"cdx-search-input cdx-search-input--has-end-button\" id=\"searchform\">\n",
       "<div class=\"cdx-search-input__input-wrapper\" data-search-loc=\"header-moved\" id=\"simpleSearch\">\n",
       "<div class=\"cdx-text-input cdx-text-input--has-start-icon\">\n",
       "<input accesskey=\"f\" aria-label=\"Search Wikipedia\" autocapitalize=\"sentences\" class=\"cdx-text-input__input\" id=\"searchInput\" name=\"search\" placeholder=\"Search Wikipedia\" title=\"Search Wikipedia [f]\" type=\"search\"/>\n",
       "<span class=\"cdx-text-input__icon cdx-text-input__start-icon\"></span>\n",
       "</div>\n",
       "<input name=\"title\" type=\"hidden\" value=\"Special:Search\"/>\n",
       "</div>\n",
       "<button class=\"cdx-button cdx-search-input__end-button\">Search</button>\n",
       "</form>\n",
       "</div>\n",
       "</div>\n",
       "</div>\n",
       "<nav aria-label=\"Personal tools\" class=\"vector-user-links vector-user-links-wide\" role=\"navigation\">\n",
       "<div class=\"vector-user-links-main\">\n",
       "<div class=\"vector-menu mw-portlet emptyPortlet\" id=\"p-vector-user-menu-preferences\">\n",
       "<div class=\"vector-menu-content\">\n",
       "<ul class=\"vector-menu-content-list\">\n",
       "</ul>\n",
       "</div>\n",
       "</div>\n",
       "<div class=\"vector-menu mw-portlet emptyPortlet\" id=\"p-vector-user-menu-userpage\">\n",
       "<div class=\"vector-menu-content\">\n",
       "<ul class=\"vector-menu-content-list\">\n",
       "</ul>\n",
       "</div>\n",
       "</div>\n",
       "<div class=\"vector-menu mw-portlet emptyPortlet\" id=\"p-vector-user-menu-notifications\">\n",
       "<div class=\"vector-menu-content\">\n",
       "<ul class=\"vector-menu-content-list\">\n",
       "</ul>\n",
       "</div>\n",
       "</div>\n",
       "<div class=\"vector-menu mw-portlet\" id=\"p-vector-user-menu-overflow\">\n",
       "<div class=\"vector-menu-content\">\n",
       "<ul class=\"vector-menu-content-list\">\n",
       "<li class=\"user-links-collapsible-item mw-list-item user-links-collapsible-item\" id=\"pt-createaccount-2\"><a class=\"\" data-mw=\"interface\" href=\"/w/index.php?title=Special:CreateAccount&amp;returnto=Main+Page\" title=\"You are encouraged to create an account and log in; however, it is not mandatory\"><span>Create account</span></a>\n",
       "</li>\n",
       "<li class=\"user-links-collapsible-item mw-list-item user-links-collapsible-item\" id=\"pt-login-2\"><a accesskey=\"o\" class=\"\" data-mw=\"interface\" href=\"/w/index.php?title=Special:UserLogin&amp;returnto=Main+Page\" title=\"You're encouraged to log in; however, it's not mandatory. [o]\"><span>Log in</span></a>\n",
       "</li>\n",
       "</ul>\n",
       "</div>\n",
       "</div>\n",
       "</div>\n",
       "<div class=\"vector-dropdown vector-user-menu vector-button-flush-right vector-user-menu-logged-out\" id=\"vector-user-links-dropdown\" title=\"Log in and more options\">\n",
       "<input aria-haspopup=\"true\" aria-label=\"Personal tools\" class=\"vector-dropdown-checkbox\" data-event-name=\"ui.dropdown-vector-user-links-dropdown\" id=\"vector-user-links-dropdown-checkbox\" role=\"button\" type=\"checkbox\"/>\n",
       "<label aria-hidden=\"true\" class=\"vector-dropdown-label cdx-button cdx-button--fake-button cdx-button--fake-button--enabled cdx-button--weight-quiet cdx-button--icon-only\" for=\"vector-user-links-dropdown-checkbox\" id=\"vector-user-links-dropdown-label\"><span class=\"vector-icon mw-ui-icon-ellipsis mw-ui-icon-wikimedia-ellipsis\"></span>\n",
       "<span class=\"vector-dropdown-label-text\">Personal tools</span>\n",
       "</label>\n",
       "<div class=\"vector-dropdown-content\">\n",
       "<div class=\"vector-menu mw-portlet mw-portlet-personal user-links-collapsible-item\" id=\"p-personal\" title=\"User menu\">\n",
       "<div class=\"vector-menu-content\">\n",
       "<ul class=\"vector-menu-content-list\">\n",
       "<li class=\"user-links-collapsible-item mw-list-item\" id=\"pt-createaccount\"><a href=\"/w/index.php?title=Special:CreateAccount&amp;returnto=Main+Page\" title=\"You are encouraged to create an account and log in; however, it is not mandatory\"><span class=\"vector-icon mw-ui-icon-userAdd mw-ui-icon-wikimedia-userAdd\"></span> <span>Create account</span></a></li><li class=\"user-links-collapsible-item mw-list-item\" id=\"pt-login\"><a accesskey=\"o\" href=\"/w/index.php?title=Special:UserLogin&amp;returnto=Main+Page\" title=\"You're encouraged to log in; however, it's not mandatory. [o]\"><span class=\"vector-icon mw-ui-icon-logIn mw-ui-icon-wikimedia-logIn\"></span> <span>Log in</span></a></li>\n",
       "</ul>\n",
       "</div>\n",
       "</div>\n",
       "<div class=\"vector-menu mw-portlet mw-portlet-user-menu-anon-editor\" id=\"p-user-menu-anon-editor\">\n",
       "<div class=\"vector-menu-heading\">\n",
       "\t\tPages for logged out editors <a aria-label=\"Learn more about editing\" href=\"/wiki/Help:Introduction\"><span>learn more</span></a>\n",
       "</div>\n",
       "<div class=\"vector-menu-content\">\n",
       "<ul class=\"vector-menu-content-list\">\n",
       "<li class=\"mw-list-item\" id=\"pt-anoncontribs\"><a accesskey=\"y\" href=\"/wiki/Special:MyContributions\" title=\"A list of edits made from this IP address [y]\"><span>Contributions</span></a></li><li class=\"mw-list-item\" id=\"pt-anontalk\"><a accesskey=\"n\" href=\"/wiki/Special:MyTalk\" title=\"Discussion about edits from this IP address [n]\"><span>Talk</span></a></li>\n",
       "</ul>\n",
       "</div>\n",
       "</div>\n",
       "</div>\n",
       "</div>\n",
       "</nav>\n",
       "</div>\n",
       "</header>\n",
       "</div>\n",
       "<div class=\"mw-page-container\">\n",
       "<div class=\"mw-page-container-inner\">\n",
       "<div class=\"vector-sitenotice-container\">\n",
       "<div id=\"siteNotice\"><!-- CentralNotice --></div>\n",
       "</div>\n",
       "<div class=\"vector-main-menu-container\">\n",
       "<div id=\"mw-navigation\">\n",
       "<nav aria-label=\"Site\" class=\"vector-main-menu-landmark\" id=\"mw-panel\" role=\"navigation\">\n",
       "<div class=\"vector-pinned-container\" id=\"vector-main-menu-pinned-container\">\n",
       "</div>\n",
       "</nav>\n",
       "</div>\n",
       "</div>\n",
       "<div class=\"mw-content-container\">\n",
       "<main class=\"mw-body\" id=\"content\" role=\"main\">\n",
       "<header class=\"mw-body-header vector-page-titlebar vector-page-titlebar-blank\">\n",
       "<h1 class=\"firstHeading mw-first-heading\" id=\"firstHeading\" style=\"display: none\"><span class=\"mw-page-title-main\">Main Page</span></h1>\n",
       "<div class=\"mw-indicators\">\n",
       "</div>\n",
       "</header>\n",
       "<div class=\"vector-page-toolbar\">\n",
       "<div class=\"vector-page-toolbar-container\">\n",
       "<div id=\"left-navigation\">\n",
       "<nav aria-label=\"Namespaces\">\n",
       "<div class=\"vector-menu vector-menu-tabs mw-portlet mw-portlet-associated-pages\" id=\"p-associated-pages\">\n",
       "<div class=\"vector-menu-content\">\n",
       "<ul class=\"vector-menu-content-list\">\n",
       "<li class=\"selected vector-tab-noicon mw-list-item\" id=\"ca-nstab-main\"><a accesskey=\"c\" href=\"/wiki/Main_Page\" title=\"View the content page [c]\"><span>Main Page</span></a></li><li class=\"vector-tab-noicon mw-list-item\" id=\"ca-talk\"><a accesskey=\"t\" href=\"/wiki/Talk:Main_Page\" rel=\"discussion\" title=\"Discuss improvements to the content page [t]\"><span>Talk</span></a></li>\n",
       "</ul>\n",
       "</div>\n",
       "</div>\n",
       "<div class=\"vector-dropdown emptyPortlet\" id=\"p-variants\">\n",
       "<input aria-haspopup=\"true\" aria-label=\"Change language variant\" class=\"vector-dropdown-checkbox\" data-event-name=\"ui.dropdown-p-variants\" id=\"p-variants-checkbox\" role=\"button\" type=\"checkbox\"/>\n",
       "<label aria-hidden=\"true\" class=\"vector-dropdown-label cdx-button cdx-button--fake-button cdx-button--fake-button--enabled cdx-button--weight-quiet\" for=\"p-variants-checkbox\" id=\"p-variants-label\"><span class=\"vector-dropdown-label-text\">English</span>\n",
       "</label>\n",
       "<div class=\"vector-dropdown-content\">\n",
       "<div class=\"vector-menu mw-portlet mw-portlet-variants emptyPortlet\" id=\"p-variants\">\n",
       "<div class=\"vector-menu-content\">\n",
       "<ul class=\"vector-menu-content-list\">\n",
       "</ul>\n",
       "</div>\n",
       "</div>\n",
       "</div>\n",
       "</div>\n",
       "</nav>\n",
       "</div>\n",
       "<div class=\"vector-collapsible\" id=\"right-navigation\">\n",
       "<nav aria-label=\"Views\">\n",
       "<div class=\"vector-menu vector-menu-tabs mw-portlet mw-portlet-views\" id=\"p-views\">\n",
       "<div class=\"vector-menu-content\">\n",
       "<ul class=\"vector-menu-content-list\">\n",
       "<li class=\"selected vector-tab-noicon mw-list-item\" id=\"ca-view\"><a href=\"/wiki/Main_Page\"><span>Read</span></a></li><li class=\"vector-tab-noicon mw-list-item\" id=\"ca-viewsource\"><a accesskey=\"e\" href=\"/w/index.php?title=Main_Page&amp;action=edit\" title=\"This page is protected.\n",
       "You can view its source [e]\"><span>View source</span></a></li><li class=\"vector-tab-noicon mw-list-item\" id=\"ca-history\"><a accesskey=\"h\" href=\"/w/index.php?title=Main_Page&amp;action=history\" title=\"Past revisions of this page [h]\"><span>View history</span></a></li>\n",
       "</ul>\n",
       "</div>\n",
       "</div>\n",
       "</nav>\n",
       "<nav aria-label=\"Page tools\" class=\"vector-page-tools-landmark\">\n",
       "<div class=\"vector-dropdown vector-page-tools-dropdown\" id=\"vector-page-tools-dropdown\">\n",
       "<input aria-haspopup=\"true\" aria-label=\"Tools\" class=\"vector-dropdown-checkbox\" data-event-name=\"ui.dropdown-vector-page-tools-dropdown\" id=\"vector-page-tools-dropdown-checkbox\" role=\"button\" type=\"checkbox\"/>\n",
       "<label aria-hidden=\"true\" class=\"vector-dropdown-label cdx-button cdx-button--fake-button cdx-button--fake-button--enabled cdx-button--weight-quiet\" for=\"vector-page-tools-dropdown-checkbox\" id=\"vector-page-tools-dropdown-label\"><span class=\"vector-dropdown-label-text\">Tools</span>\n",
       "</label>\n",
       "<div class=\"vector-dropdown-content\">\n",
       "<div class=\"vector-unpinned-container\" id=\"vector-page-tools-unpinned-container\">\n",
       "<div class=\"vector-page-tools vector-pinnable-element\" id=\"vector-page-tools\">\n",
       "<div class=\"vector-pinnable-header vector-page-tools-pinnable-header vector-pinnable-header-unpinned\" data-feature-name=\"page-tools-pinned\" data-pinnable-element-id=\"vector-page-tools\" data-pinned-container-id=\"vector-page-tools-pinned-container\" data-unpinned-container-id=\"vector-page-tools-unpinned-container\">\n",
       "<div class=\"vector-pinnable-header-label\">Tools</div>\n",
       "<button class=\"vector-pinnable-header-toggle-button vector-pinnable-header-pin-button\" data-event-name=\"pinnable-header.vector-page-tools.pin\">move to sidebar</button>\n",
       "<button class=\"vector-pinnable-header-toggle-button vector-pinnable-header-unpin-button\" data-event-name=\"pinnable-header.vector-page-tools.unpin\">hide</button>\n",
       "</div>\n",
       "<div class=\"vector-menu mw-portlet mw-portlet-cactions emptyPortlet vector-has-collapsible-items\" id=\"p-cactions\" title=\"More options\">\n",
       "<div class=\"vector-menu-heading\">\n",
       "\t\tActions\n",
       "\t</div>\n",
       "<div class=\"vector-menu-content\">\n",
       "<ul class=\"vector-menu-content-list\">\n",
       "<li class=\"selected vector-more-collapsible-item mw-list-item\" id=\"ca-more-view\"><a href=\"/wiki/Main_Page\"><span>Read</span></a></li><li class=\"vector-more-collapsible-item mw-list-item\" id=\"ca-more-viewsource\"><a href=\"/w/index.php?title=Main_Page&amp;action=edit\"><span>View source</span></a></li><li class=\"vector-more-collapsible-item mw-list-item\" id=\"ca-more-history\"><a href=\"/w/index.php?title=Main_Page&amp;action=history\"><span>View history</span></a></li>\n",
       "</ul>\n",
       "</div>\n",
       "</div>\n",
       "<div class=\"vector-menu mw-portlet mw-portlet-tb\" id=\"p-tb\">\n",
       "<div class=\"vector-menu-heading\">\n",
       "\t\tGeneral\n",
       "\t</div>\n",
       "<div class=\"vector-menu-content\">\n",
       "<ul class=\"vector-menu-content-list\">\n",
       "<li class=\"mw-list-item\" id=\"t-whatlinkshere\"><a accesskey=\"j\" href=\"/wiki/Special:WhatLinksHere/Main_Page\" title=\"List of all English Wikipedia pages containing links to this page [j]\"><span>What links here</span></a></li><li class=\"mw-list-item\" id=\"t-recentchangeslinked\"><a accesskey=\"k\" href=\"/wiki/Special:RecentChangesLinked/Main_Page\" rel=\"nofollow\" title=\"Recent changes in pages linked from this page [k]\"><span>Related changes</span></a></li><li class=\"mw-list-item\" id=\"t-upload\"><a accesskey=\"u\" href=\"/wiki/Wikipedia:File_Upload_Wizard\" title=\"Upload files [u]\"><span>Upload file</span></a></li><li class=\"mw-list-item\" id=\"t-specialpages\"><a accesskey=\"q\" href=\"/wiki/Special:SpecialPages\" title=\"A list of all special pages [q]\"><span>Special pages</span></a></li><li class=\"mw-list-item\" id=\"t-permalink\"><a href=\"/w/index.php?title=Main_Page&amp;oldid=1114291180\" title=\"Permanent link to this revision of this page\"><span>Permanent link</span></a></li><li class=\"mw-list-item\" id=\"t-info\"><a href=\"/w/index.php?title=Main_Page&amp;action=info\" title=\"More information about this page\"><span>Page information</span></a></li><li class=\"mw-list-item\" id=\"t-cite\"><a href=\"/w/index.php?title=Special:CiteThisPage&amp;page=Main_Page&amp;id=1114291180&amp;wpFormIdentifier=titleform\" title=\"Information on how to cite this page\"><span>Cite this page</span></a></li><li class=\"mw-list-item\" id=\"t-urlshortener\"><a href=\"/w/index.php?title=Special:UrlShortener&amp;url=https%3A%2F%2Fen.wikipedia.org%2Fwiki%2FMain_Page\"><span>Get shortened URL</span></a></li><li class=\"mw-list-item\" id=\"t-wikibase\"><a accesskey=\"g\" href=\"https://www.wikidata.org/wiki/Special:EntityPage/Q5296\" title=\"Structured data on this page hosted by Wikidata [g]\"><span>Wikidata item</span></a></li>\n",
       "</ul>\n",
       "</div>\n",
       "</div>\n",
       "<div class=\"vector-menu mw-portlet mw-portlet-coll-print_export\" id=\"p-coll-print_export\">\n",
       "<div class=\"vector-menu-heading\">\n",
       "\t\tPrint/export\n",
       "\t</div>\n",
       "<div class=\"vector-menu-content\">\n",
       "<ul class=\"vector-menu-content-list\">\n",
       "<li class=\"mw-list-item\" id=\"coll-download-as-rl\"><a href=\"/w/index.php?title=Special:DownloadAsPdf&amp;page=Main_Page&amp;action=show-download-screen\" title=\"Download this page as a PDF file\"><span>Download as PDF</span></a></li><li class=\"mw-list-item\" id=\"t-print\"><a accesskey=\"p\" href=\"/w/index.php?title=Main_Page&amp;printable=yes\" title=\"Printable version of this page [p]\"><span>Printable version</span></a></li>\n",
       "</ul>\n",
       "</div>\n",
       "</div>\n",
       "<div class=\"vector-menu mw-portlet mw-portlet-wikibase-otherprojects\" id=\"p-wikibase-otherprojects\">\n",
       "<div class=\"vector-menu-heading\">\n",
       "\t\tIn other projects\n",
       "\t</div>\n",
       "<div class=\"vector-menu-content\">\n",
       "<ul class=\"vector-menu-content-list\">\n",
       "<li class=\"wb-otherproject-link wb-otherproject-commons mw-list-item\"><a href=\"https://commons.wikimedia.org/wiki/Main_Page\" hreflang=\"en\"><span>Wikimedia Commons</span></a></li><li class=\"wb-otherproject-link wb-otherproject-foundation mw-list-item\"><a href=\"https://foundation.wikimedia.org/wiki/Home\" hreflang=\"en\"><span>Wikimedia Foundation</span></a></li><li class=\"wb-otherproject-link wb-otherproject-mediawiki mw-list-item\"><a href=\"https://www.mediawiki.org/wiki/MediaWiki\" hreflang=\"en\"><span>MediaWiki</span></a></li><li class=\"wb-otherproject-link wb-otherproject-meta mw-list-item\"><a href=\"https://meta.wikimedia.org/wiki/Main_Page\" hreflang=\"en\"><span>Meta-Wiki</span></a></li><li class=\"wb-otherproject-link wb-otherproject-outreach mw-list-item\"><a href=\"https://outreach.wikimedia.org/wiki/Main_Page\" hreflang=\"en\"><span>Wikimedia Outreach</span></a></li><li class=\"wb-otherproject-link wb-otherproject-sources mw-list-item\"><a href=\"https://wikisource.org/wiki/Main_Page\" hreflang=\"en\"><span>Multilingual Wikisource</span></a></li><li class=\"wb-otherproject-link wb-otherproject-species mw-list-item\"><a href=\"https://species.wikimedia.org/wiki/Main_Page\" hreflang=\"en\"><span>Wikispecies</span></a></li><li class=\"wb-otherproject-link wb-otherproject-wikibooks mw-list-item\"><a href=\"https://en.wikibooks.org/wiki/Main_Page\" hreflang=\"en\"><span>Wikibooks</span></a></li><li class=\"wb-otherproject-link wb-otherproject-wikidata mw-list-item\"><a href=\"https://www.wikidata.org/wiki/Wikidata:Main_Page\" hreflang=\"en\"><span>Wikidata</span></a></li><li class=\"wb-otherproject-link wb-otherproject-wikifunctions mw-list-item\"><a href=\"https://www.wikifunctions.org/wiki/Wikifunctions:Main_Page\" hreflang=\"en\"><span>Wikifunctions</span></a></li><li class=\"wb-otherproject-link wb-otherproject-wikimania badge-Q70893996 mw-list-item\" title=\"\"><a href=\"https://wikimania.wikimedia.org/wiki/Wikimania\" hreflang=\"en\"><span>Wikimania</span></a></li><li class=\"wb-otherproject-link wb-otherproject-wikinews mw-list-item\"><a href=\"https://en.wikinews.org/wiki/Main_Page\" hreflang=\"en\"><span>Wikinews</span></a></li><li class=\"wb-otherproject-link wb-otherproject-wikiquote mw-list-item\"><a href=\"https://en.wikiquote.org/wiki/Main_Page\" hreflang=\"en\"><span>Wikiquote</span></a></li><li class=\"wb-otherproject-link wb-otherproject-wikisource mw-list-item\"><a href=\"https://en.wikisource.org/wiki/Main_Page\" hreflang=\"en\"><span>Wikisource</span></a></li><li class=\"wb-otherproject-link wb-otherproject-wikiversity mw-list-item\"><a href=\"https://en.wikiversity.org/wiki/Wikiversity:Main_Page\" hreflang=\"en\"><span>Wikiversity</span></a></li><li class=\"wb-otherproject-link wb-otherproject-wikivoyage mw-list-item\"><a href=\"https://en.wikivoyage.org/wiki/Main_Page\" hreflang=\"en\"><span>Wikivoyage</span></a></li><li class=\"wb-otherproject-link wb-otherproject-wiktionary mw-list-item\"><a href=\"https://en.wiktionary.org/wiki/Wiktionary:Main_Page\" hreflang=\"en\"><span>Wiktionary</span></a></li>\n",
       "</ul>\n",
       "</div>\n",
       "</div>\n",
       "</div>\n",
       "</div>\n",
       "</div>\n",
       "</div>\n",
       "</nav>\n",
       "</div>\n",
       "</div>\n",
       "</div>\n",
       "<div class=\"vector-column-end\">\n",
       "<nav aria-label=\"Page tools\" class=\"vector-page-tools-landmark vector-sticky-pinned-container\">\n",
       "<div class=\"vector-pinned-container\" id=\"vector-page-tools-pinned-container\">\n",
       "</div>\n",
       "</nav>\n",
       "</div>\n",
       "<div aria-labelledby=\"firstHeading\" class=\"vector-body\" data-mw-ve-target-container=\"\" id=\"bodyContent\">\n",
       "<div class=\"vector-body-before-content\">\n",
       "<div class=\"noprint\" id=\"siteSub\">From Wikipedia, the free encyclopedia</div>\n",
       "</div>\n",
       "<div id=\"contentSub\"><div id=\"mw-content-subtitle\"></div></div>\n",
       "<div class=\"mw-body-content\" id=\"mw-content-text\"><div class=\"mw-content-ltr mw-parser-output\" dir=\"ltr\" lang=\"en\"><style data-mw-deduplicate=\"TemplateStyles:r1131603205\">.mw-parser-output .mp-box{border:1px solid #aaa;padding:0 0.5em 0.5em;margin-top:4px}.mw-parser-output .mp-h2,body.skin-timeless .mw-parser-output .mp-h2{border:1px solid #aaa;margin:0.5em 0;padding:0.2em 0.4em;font-size:120%;font-weight:bold;font-family:inherit}.mw-parser-output .mp-later{font-size:85%;font-weight:normal}.mw-parser-output #mp-topbanner{background:#f9f9f9;border-color:#ddd}.mw-parser-output #mp-welcomecount{text-align:center;margin:0.4em}.mw-parser-output #mp-welcome{font-size:162%;padding:0.1em}.mw-parser-output #mp-welcome h1{font-size:inherit;font-family:inherit;display:inline;border:none}.mw-parser-output #mp-free{font-size:95%}.mw-parser-output #articlecount{font-size:85%}.mw-parser-output .mp-contains-float::after{content:\"\";display:block;clear:both}.mw-parser-output #mp-banner{background:#fffaf5;border-color:#f2e0ce}.mw-parser-output #mp-left{background:#f5fffa;border-color:#cef2e0}.mw-parser-output #mp-left .mp-h2{background:#cef2e0;border-color:#a3bfb1}.mw-parser-output #mp-right{background:#f5faff;border-color:#cedff2}.mw-parser-output #mp-right .mp-h2{background:#cedff2;border-color:#a3b0bf}.mw-parser-output #mp-middle{background:#fff5fa;border-color:#f2cedd}.mw-parser-output #mp-middle .mp-h2{background:#f2cedd;border-color:#bfa3af}.mw-parser-output #mp-lower{background:#faf5ff;border-color:#ddcef2}.mw-parser-output #mp-lower .mp-h2{background:#ddcef2;border-color:#afa3bf}.mw-parser-output #mp-bottom{border-color:#e2e2e2}.mw-parser-output #mp-bottom .mp-h2{background:#eee;border-color:#ddd}@media(max-width:875px){.mw-parser-output #mp-tfp table,.mw-parser-output #mp-tfp tr,.mw-parser-output #mp-tfp td,.mw-parser-output #mp-tfp tbody{display:block!important;width:100%!important;box-sizing:border-box}.mw-parser-output #mp-tfp tr:first-child td:first-child a{text-align:center;display:table;margin:0 auto}}@media(min-width:875px){.mw-parser-output #mp-upper{display:flex}.mw-parser-output #mp-left{flex:1 1 55%;margin-right:2px}.mw-parser-output #mp-right{flex:1 1 45%;margin-left:2px}}</style>\n",
       "<div class=\"mp-box\" id=\"mp-topbanner\">\n",
       "<div id=\"mp-welcomecount\">\n",
       "<div id=\"mp-welcome\"><h1><span class=\"mw-headline\" id=\"Welcome_to_Wikipedia\">Welcome to <a href=\"/wiki/Wikipedia\" title=\"Wikipedia\">Wikipedia</a></span></h1>,</div>\n",
       "<div id=\"mp-free\">the <a href=\"/wiki/Free_content\" title=\"Free content\">free</a> <a href=\"/wiki/Encyclopedia\" title=\"Encyclopedia\">encyclopedia</a> that <a href=\"/wiki/Help:Introduction_to_Wikipedia\" title=\"Help:Introduction to Wikipedia\">anyone can edit</a>.</div>\n",
       "<div id=\"articlecount\"><a href=\"/wiki/Special:Statistics\" title=\"Special:Statistics\">6,746,541</a> articles in <a href=\"/wiki/English_language\" title=\"English language\">English</a></div>\n",
       "</div>\n",
       "</div>\n",
       "<div id=\"mp-upper\">\n",
       "<div class=\"MainPageBG mp-box\" id=\"mp-left\">\n",
       "<h2 class=\"mp-h2\" id=\"mp-tfa-h2\"><span id=\"From_today.27s_featured_article\"></span><span class=\"mw-headline\" id=\"From_today's_featured_article\">From today's featured article</span></h2>\n",
       "<div class=\"mp-contains-float\" id=\"mp-tfa\"><div id=\"mp-tfa-img\" style=\"float: left; margin: 0.5em 0.9em 0.4em 0em;\">\n",
       "<div class=\"thumbinner mp-thumb\" style=\"background: transparent; border: none; padding: 0; max-width: 181px;\">\n",
       "<span typeof=\"mw:File\"><a class=\"mw-file-description\" href=\"/wiki/File:Australiformis_Distribution.png\" title=\"Regional distribution of Australiformis\"><img alt=\"Regional distribution of Australiformis\" class=\"mw-file-element\" data-file-height=\"1382\" data-file-width=\"2300\" decoding=\"async\" height=\"109\" src=\"//upload.wikimedia.org/wikipedia/commons/thumb/f/f8/Australiformis_Distribution.png/181px-Australiformis_Distribution.png\" srcset=\"//upload.wikimedia.org/wikipedia/commons/thumb/f/f8/Australiformis_Distribution.png/272px-Australiformis_Distribution.png 1.5x, //upload.wikimedia.org/wikipedia/commons/thumb/f/f8/Australiformis_Distribution.png/362px-Australiformis_Distribution.png 2x\" width=\"181\"/></a></span><div class=\"thumbcaption\" style=\"padding: 0.25em 0; word-wrap: break-word;\">Regional distribution of <i>Australiformis</i></div></div>\n",
       "</div>\n",
       "<p><i><b><a href=\"/wiki/Australiformis\" title=\"Australiformis\">Australiformis</a></b></i> is a <a href=\"/wiki/Monotypic_taxon\" title=\"Monotypic taxon\">monotypic</a> genus of <a href=\"/wiki/Acanthocephala\" title=\"Acanthocephala\">acan­tho­cephalans</a> (thorny-headed or spiny-headed <a href=\"/wiki/Parasitism\" title=\"Parasitism\">parasitic</a> worms) that infest <a href=\"/wiki/Marsupial\" title=\"Marsupial\">marsupials</a> in Australia and New Guinea. The worm's body consists of a long trunk and a <a href=\"/wiki/Proboscis\" title=\"Proboscis\">proboscis</a> armed with hooks, which it uses to pierce and hold the gut wall of its host. The only species in the genus, <i>Australiformis semoni</i>, resembles species in the genus <i><a href=\"/wiki/Moniliformis\" title=\"Moniliformis\">Moniliformis</a></i> but lacks spiral muscles in the outer wall of the proboscis receptacle. The proboscis is armed with 12 rows of 13 to 15 hooks which are used to attach themselves to the small or large intestine of the host. The female worms range from 95 to 197 mm long, virtually all of which is the trunk, and 1.75 to 3.5 mm wide. There is pronounced <a href=\"/wiki/Sexual_dimorphism\" title=\"Sexual dimorphism\">sexual dimorphism</a> in this species as females are around twice the size of the males, whose trunks range from 46 to 80 mm long and are about 2 mm wide. Infestation of marsupials by <i>A. semoni</i> may cause debilitating inflammation of the stomach (<a href=\"/wiki/Gastritis\" title=\"Gastritis\">gastritis</a>) with <a href=\"/wiki/Granuloma\" title=\"Granuloma\">granulomatous</a> ulcers. (<b><a href=\"/wiki/Australiformis\" title=\"Australiformis\">Full article...</a></b>)\n",
       "</p>\n",
       "<div class=\"tfa-recent\" style=\"text-align: right;\">\n",
       "Recently featured: <style data-mw-deduplicate=\"TemplateStyles:r1129693374\">.mw-parser-output .hlist dl,.mw-parser-output .hlist ol,.mw-parser-output .hlist ul{margin:0;padding:0}.mw-parser-output .hlist dd,.mw-parser-output .hlist dt,.mw-parser-output .hlist li{margin:0;display:inline}.mw-parser-output .hlist.inline,.mw-parser-output .hlist.inline dl,.mw-parser-output .hlist.inline ol,.mw-parser-output .hlist.inline ul,.mw-parser-output .hlist dl dl,.mw-parser-output .hlist dl ol,.mw-parser-output .hlist dl ul,.mw-parser-output .hlist ol dl,.mw-parser-output .hlist ol ol,.mw-parser-output .hlist ol ul,.mw-parser-output .hlist ul dl,.mw-parser-output .hlist ul ol,.mw-parser-output .hlist ul ul{display:inline}.mw-parser-output .hlist .mw-empty-li{display:none}.mw-parser-output .hlist dt::after{content:\": \"}.mw-parser-output .hlist dd::after,.mw-parser-output .hlist li::after{content:\" · \";font-weight:bold}.mw-parser-output .hlist dd:last-child::after,.mw-parser-output .hlist dt:last-child::after,.mw-parser-output .hlist li:last-child::after{content:none}.mw-parser-output .hlist dd dd:first-child::before,.mw-parser-output .hlist dd dt:first-child::before,.mw-parser-output .hlist dd li:first-child::before,.mw-parser-output .hlist dt dd:first-child::before,.mw-parser-output .hlist dt dt:first-child::before,.mw-parser-output .hlist dt li:first-child::before,.mw-parser-output .hlist li dd:first-child::before,.mw-parser-output .hlist li dt:first-child::before,.mw-parser-output .hlist li li:first-child::before{content:\" (\";font-weight:normal}.mw-parser-output .hlist dd dd:last-child::after,.mw-parser-output .hlist dd dt:last-child::after,.mw-parser-output .hlist dd li:last-child::after,.mw-parser-output .hlist dt dd:last-child::after,.mw-parser-output .hlist dt dt:last-child::after,.mw-parser-output .hlist dt li:last-child::after,.mw-parser-output .hlist li dd:last-child::after,.mw-parser-output .hlist li dt:last-child::after,.mw-parser-output .hlist li li:last-child::after{content:\")\";font-weight:normal}.mw-parser-output .hlist ol{counter-reset:listitem}.mw-parser-output .hlist ol>li{counter-increment:listitem}.mw-parser-output .hlist ol>li::before{content:\" \"counter(listitem)\"\\a0 \"}.mw-parser-output .hlist dd ol>li:first-child::before,.mw-parser-output .hlist dt ol>li:first-child::before,.mw-parser-output .hlist li ol>li:first-child::before{content:\" (\"counter(listitem)\"\\a0 \"}</style><div class=\"hlist inline\">\n",
       "<ul><li><a href=\"/wiki/Interstate_40_in_Tennessee\" title=\"Interstate 40 in Tennessee\">Interstate 40 in Tennessee</a></li>\n",
       "<li><a href=\"/wiki/Jessie_Murray\" title=\"Jessie Murray\">Jessie Murray</a></li>\n",
       "<li><a href=\"/wiki/90377_Sedna\" title=\"90377 Sedna\">90377 Sedna</a></li></ul>\n",
       "</div></div>\n",
       "<link href=\"mw-data:TemplateStyles:r1129693374\" rel=\"mw-deduplicated-inline-style\"/><div class=\"hlist tfa-footer noprint\" style=\"text-align:right;\">\n",
       "<ul><li><b><a href=\"/wiki/Wikipedia:Today%27s_featured_article/November_2023\" title=\"Wikipedia:Today's featured article/November 2023\">Archive</a></b></li>\n",
       "<li><b><a class=\"extiw\" href=\"https://lists.wikimedia.org/postorius/lists/daily-article-l.lists.wikimedia.org/\" title=\"mail:daily-article-l\">By email</a></b></li>\n",
       "<li><b><a href=\"/wiki/Wikipedia:Featured_articles\" title=\"Wikipedia:Featured articles\">More featured articles</a></b></li>\n",
       "<li><b><a href=\"/wiki/Wikipedia:About_Today%27s_featured_article\" title=\"Wikipedia:About Today's featured article\">About</a></b></li></ul>\n",
       "</div></div>\n",
       "<h2 class=\"mp-h2\" id=\"mp-dyk-h2\"><span class=\"mw-headline\" id=\"Did_you_know_...\">Did you know ...</span></h2>\n",
       "<div class=\"mp-contains-float\" id=\"mp-dyk\">\n",
       "<div class=\"dyk-img\" style=\"float: right; margin-left: 0.5em;\">\n",
       "<div class=\"thumbinner mp-thumb\" style=\"background: transparent; border: none; padding: 0; max-width: 190px;\">\n",
       "<span typeof=\"mw:File\"><a class=\"mw-file-description\" href=\"/wiki/File:Carinotetraodon_travancoricus_by_Parazelsus_(cropped).jpg\" title=\"An adult dwarf pufferfish\"><img alt=\"An adult dwarf pufferfish\" class=\"mw-file-element\" data-file-height=\"643\" data-file-width=\"1187\" decoding=\"async\" height=\"103\" src=\"//upload.wikimedia.org/wikipedia/commons/thumb/9/91/Carinotetraodon_travancoricus_by_Parazelsus_%28cropped%29.jpg/190px-Carinotetraodon_travancoricus_by_Parazelsus_%28cropped%29.jpg\" srcset=\"//upload.wikimedia.org/wikipedia/commons/thumb/9/91/Carinotetraodon_travancoricus_by_Parazelsus_%28cropped%29.jpg/285px-Carinotetraodon_travancoricus_by_Parazelsus_%28cropped%29.jpg 1.5x, //upload.wikimedia.org/wikipedia/commons/thumb/9/91/Carinotetraodon_travancoricus_by_Parazelsus_%28cropped%29.jpg/380px-Carinotetraodon_travancoricus_by_Parazelsus_%28cropped%29.jpg 2x\" width=\"190\"/></a></span><div class=\"thumbcaption\" style=\"padding: 0.25em 0; word-wrap: break-word;\">An adult dwarf pufferfish</div></div>\n",
       "</div>\n",
       "<ul><li>... that at a maximum <a href=\"/wiki/Fish_measurement\" title=\"Fish measurement\">standard length</a> of roughly 2 cm (0.8 in), <b><a href=\"/wiki/Dwarf_pufferfish\" title=\"Dwarf pufferfish\">dwarf pufferfish</a></b> are some of the smallest pufferfish in the world?</li>\n",
       "<li>... that Swiss athlete <b><a href=\"/wiki/Clara_Thalmann\" title=\"Clara Thalmann\">Clara Thalmann</a></b> arrived in Barcelona to compete in the <a href=\"/wiki/People%27s_Olympiad\" title=\"People's Olympiad\">People's Olympiad</a> but ended up fighting in the <a href=\"/wiki/Spanish_Civil_War\" title=\"Spanish Civil War\">Spanish Civil War</a>?</li>\n",
       "<li>... that Hende's Hut on <b><a href=\"/wiki/Roberts_Point_Track\" title=\"Roberts Point Track\">Roberts Point Track</a></b>, a tramping track in New Zealand, originally had no windows?</li>\n",
       "<li>... that soprano <b><a href=\"/wiki/Rachel_Yakar\" title=\"Rachel Yakar\">Rachel Yakar</a></b>, who received international attention in 1977 as <a href=\"/wiki/L%27incoronazione_di_Poppea\" title=\"L'incoronazione di Poppea\">Poppea</a> with <a href=\"/wiki/Nikolaus_Harnoncourt\" title=\"Nikolaus Harnoncourt\">Nikolaus Harnoncourt</a>, was also described as an \"ideal\" <a href=\"/wiki/Pell%C3%A9as_et_M%C3%A9lisande_(opera)\" title=\"Pelléas et Mélisande (opera)\">Mélisande</a> and \"a Mozartian at heart and in style\"?</li>\n",
       "<li>... that in its first full month on the air, <b><a href=\"/wiki/KTRV-TV\" title=\"KTRV-TV\">an Idaho TV station</a></b> had the highest prime-time viewing share of any independent station in the United States?</li>\n",
       "<li>... that in the 1909 election to the <b><a href=\"/wiki/Surabaya_City_Regional_House_of_Representatives\" title=\"Surabaya City Regional House of Representatives\">city council of Surabaya</a></b>, less than 1 percent of the population could vote?</li>\n",
       "<li>... that each performance of the <i><b><a href=\"/wiki/Tale_of_the_Moon_Cuckoo\" title=\"Tale of the Moon Cuckoo\">Tale of the Moon Cuckoo</a></b></i> lasted for an entire month?</li>\n",
       "<li>... that the Korean restaurant in Japan <b><a href=\"/wiki/Saikabo\" title=\"Saikabo\">Saikabo</a></b> suffered a 30% drop in sales after the South Korean president visited the disputed <a href=\"/wiki/Liancourt_Rocks\" title=\"Liancourt Rocks\">Liancourt Rocks</a>?</li></ul>\n",
       "<link href=\"mw-data:TemplateStyles:r1129693374\" rel=\"mw-deduplicated-inline-style\"/><div class=\"hlist dyk-footer noprint\" style=\"margin-top: 0.5em; text-align: right;\">\n",
       "<ul><li><b><a href=\"/wiki/Wikipedia:Recent_additions\" title=\"Wikipedia:Recent additions\">Archive</a></b></li>\n",
       "<li><b><a href=\"/wiki/Help:Your_first_article\" title=\"Help:Your first article\">Start a new article</a></b></li>\n",
       "<li><b><a href=\"/wiki/Template_talk:Did_you_know\" title=\"Template talk:Did you know\">Nominate an article</a></b></li></ul>\n",
       "</div>\n",
       "</div>\n",
       "</div>\n",
       "<div class=\"MainPageBG mp-box\" id=\"mp-right\">\n",
       "<h2 class=\"mp-h2\" id=\"mp-itn-h2\"><span class=\"mw-headline\" id=\"In_the_news\">In the news</span></h2>\n",
       "<div class=\"mp-contains-float\" id=\"mp-itn\"><style data-mw-deduplicate=\"TemplateStyles:r1053378754\">.mw-parser-output .itn-img{float:right;margin-left:0.5em;margin-top:0.2em}</style><div class=\"itn-img\" role=\"figure\">\n",
       "<div class=\"thumbinner mp-thumb\" style=\"background: transparent; border: none; padding: 0; max-width: 122px;\">\n",
       "<span typeof=\"mw:File\"><a class=\"mw-file-description\" href=\"/wiki/File:Ryan_blaney_(52866797550)_(cropped).jpg\" title=\"Ryan Blaney in May 2023\"><img alt=\"Ryan Blaney in May 2023\" class=\"mw-file-element\" data-file-height=\"680\" data-file-width=\"519\" decoding=\"async\" height=\"160\" src=\"//upload.wikimedia.org/wikipedia/commons/thumb/b/b5/Ryan_blaney_%2852866797550%29_%28cropped%29.jpg/122px-Ryan_blaney_%2852866797550%29_%28cropped%29.jpg\" srcset=\"//upload.wikimedia.org/wikipedia/commons/thumb/b/b5/Ryan_blaney_%2852866797550%29_%28cropped%29.jpg/183px-Ryan_blaney_%2852866797550%29_%28cropped%29.jpg 1.5x, //upload.wikimedia.org/wikipedia/commons/thumb/b/b5/Ryan_blaney_%2852866797550%29_%28cropped%29.jpg/244px-Ryan_blaney_%2852866797550%29_%28cropped%29.jpg 2x\" width=\"122\"/></a></span><div class=\"thumbcaption\" style=\"padding: 0.25em 0; word-wrap: break-word; text-align: left;\">Ryan Blaney</div></div>\n",
       "</div>\n",
       "<ul><li>In the <b><a href=\"/wiki/Myanmar_civil_war_(2021%E2%80%93present)\" title=\"Myanmar civil war (2021–present)\">Myanmar civil war</a></b>, <a href=\"/wiki/Three_Brotherhood_Alliance\" title=\"Three Brotherhood Alliance\">opposition forces</a> capture multiple cities in <b><a href=\"/wiki/Operation_1027\" title=\"Operation 1027\">a major offensive</a></b> against the <a href=\"/wiki/State_Administration_Council\" title=\"State Administration Council\">ruling military junta</a>.</li>\n",
       "<li>In <a href=\"/wiki/Stock_car_racing\" title=\"Stock car racing\">stock car racing</a>, <a href=\"/wiki/Ryan_Blaney\" title=\"Ryan Blaney\">Ryan Blaney</a> <i>(pictured)</i> wins <b><a href=\"/wiki/2023_NASCAR_Cup_Series\" title=\"2023 NASCAR Cup Series\">the NASCAR Cup Series</a></b> championship.</li>\n",
       "<li>In baseball, the <a href=\"/wiki/Hanshin_Tigers\" title=\"Hanshin Tigers\">Hanshin Tigers</a> defeat the <a href=\"/wiki/Orix_Buffaloes\" title=\"Orix Buffaloes\">Orix Buffaloes</a> to win <b><a href=\"/wiki/2023_Japan_Series\" title=\"2023 Japan Series\">the Japan Series</a></b>.</li>\n",
       "<li><b><a href=\"/wiki/2023_Nepal_earthquake\" title=\"2023 Nepal earthquake\">An earthquake</a></b> strikes <a href=\"/wiki/Karnali_Province\" title=\"Karnali Province\">Karnali Province</a>, Nepal, leaving more than 150 people dead.</li></ul>\n",
       "<div class=\"itn-footer\" style=\"margin-top: 0.5em;\">\n",
       "<div><b><a href=\"/wiki/Portal:Current_events\" title=\"Portal:Current events\">Ongoing</a></b>: <link href=\"mw-data:TemplateStyles:r1129693374\" rel=\"mw-deduplicated-inline-style\"/><div class=\"hlist inline\">\n",
       "<ul><li><a href=\"/wiki/2023_Israel%E2%80%93Hamas_war\" title=\"2023 Israel–Hamas war\">Israel–Hamas war</a></li>\n",
       "<li><a href=\"/wiki/Russian_invasion_of_Ukraine\" title=\"Russian invasion of Ukraine\">Russian invasion of Ukraine</a>\n",
       "<ul><li><a href=\"/wiki/Timeline_of_the_Russian_invasion_of_Ukraine_(1_September_2023_%E2%80%93_present)\" title=\"Timeline of the Russian invasion of Ukraine (1 September 2023 – present)\">timeline</a></li></ul></li>\n",
       "<li><a href=\"/wiki/War_in_Sudan_(2023)\" title=\"War in Sudan (2023)\">War in Sudan</a></li></ul></div></div>\n",
       "<div><b><a href=\"/wiki/Deaths_in_2023\" title=\"Deaths in 2023\">Recent deaths</a></b>: <link href=\"mw-data:TemplateStyles:r1129693374\" rel=\"mw-deduplicated-inline-style\"/><div class=\"hlist inline\">\n",
       "<ul><li><a href=\"/wiki/Ociel_Baena\" title=\"Ociel Baena\">Ociel Baena</a></li>\n",
       "<li><a href=\"/wiki/Peter_Seidler\" title=\"Peter Seidler\">Peter Seidler</a></li>\n",
       "<li><a href=\"/wiki/Vivian_Silver\" title=\"Vivian Silver\">Vivian Silver</a></li>\n",
       "<li><a href=\"/wiki/Hiroyuki_Hosoda\" title=\"Hiroyuki Hosoda\">Hiroyuki Hosoda</a></li>\n",
       "<li><a href=\"/wiki/John_Nuttall_(athlete)\" title=\"John Nuttall (athlete)\">John Nuttall</a></li>\n",
       "<li><span class=\"nowrap\"><a href=\"/wiki/M._Russell_Ballard\" title=\"M. Russell Ballard\">M. Russell Ballard</a></span></li></ul></div></div></div>\n",
       "<link href=\"mw-data:TemplateStyles:r1129693374\" rel=\"mw-deduplicated-inline-style\"/><div class=\"hlist itn-footer noprint\" style=\"text-align:right;\">\n",
       "<ul><li><b><a href=\"/wiki/Wikipedia:In_the_news/Candidates\" title=\"Wikipedia:In the news/Candidates\">Nominate an article</a></b></li></ul>\n",
       "</div></div>\n",
       "<h2 class=\"mp-h2\" id=\"mp-otd-h2\"><span class=\"mw-headline\" id=\"On_this_day\">On this day</span></h2>\n",
       "<div class=\"mp-contains-float\" id=\"mp-otd\">\n",
       "<p><b><a href=\"/wiki/November_17\" title=\"November 17\">November 17</a></b>\n",
       "</p>\n",
       "<div id=\"mp-otd-img\" style=\"float:right;margin-left:0.5em;\">\n",
       "<div class=\"thumbinner mp-thumb\" style=\"background: transparent; border: none; padding: 0; max-width: 162px;\">\n",
       "<span typeof=\"mw:File\"><a class=\"mw-file-description\" href=\"/wiki/File:Hatshetsup-temple-1by7.jpg\" title=\"Deir el-Bahari\"><img alt=\"Deir el-Bahari\" class=\"mw-file-element\" data-file-height=\"768\" data-file-width=\"1024\" decoding=\"async\" height=\"122\" src=\"//upload.wikimedia.org/wikipedia/commons/thumb/9/94/Hatshetsup-temple-1by7.jpg/162px-Hatshetsup-temple-1by7.jpg\" srcset=\"//upload.wikimedia.org/wikipedia/commons/thumb/9/94/Hatshetsup-temple-1by7.jpg/243px-Hatshetsup-temple-1by7.jpg 1.5x, //upload.wikimedia.org/wikipedia/commons/thumb/9/94/Hatshetsup-temple-1by7.jpg/324px-Hatshetsup-temple-1by7.jpg 2x\" width=\"162\"/></a></span><div class=\"thumbcaption\" style=\"padding: 0.25em 0; word-wrap: break-word;\">Deir el-Bahari</div></div>\n",
       "</div>\n",
       "<ul><li><a href=\"/wiki/1292\" title=\"1292\">1292</a> – <b><a href=\"/wiki/John_Balliol\" title=\"John Balliol\">John Balliol</a></b> was chosen to be <a href=\"/wiki/List_of_Scottish_monarchs\" title=\"List of Scottish monarchs\">King of Scots</a> over <a href=\"/wiki/Robert_de_Brus,_5th_Lord_of_Annandale\" title=\"Robert de Brus, 5th Lord of Annandale\">Robert de Brus</a>.</li>\n",
       "<li><a href=\"/wiki/1943\" title=\"1943\">1943</a> – <a href=\"/wiki/World_War_II\" title=\"World War II\">World War II</a>: Australian forces launched an assault on <a href=\"/wiki/Sattelberg\" title=\"Sattelberg\">Sattelberg</a>, New Guinea, against Japanese forces, initiating the <b><a href=\"/wiki/Battle_of_Sattelberg\" title=\"Battle of Sattelberg\">Battle of Sattelberg</a></b>.</li>\n",
       "<li><a href=\"/wiki/1989\" title=\"1989\">1989</a> – <a href=\"/wiki/Walt_Disney_Pictures\" title=\"Walt Disney Pictures\">Walt Disney Pictures</a> released <i><b><a href=\"/wiki/The_Little_Mermaid_(1989_film)\" title=\"The Little Mermaid (1989 film)\">The Little Mermaid</a></b></i> to theatres, starting the <a href=\"/wiki/Disney_Renaissance\" title=\"Disney Renaissance\">Disney Renaissance</a>.</li>\n",
       "<li><a href=\"/wiki/1997\" title=\"1997\">1997</a> – Sixty-two people <b><a href=\"/wiki/Luxor_massacre\" title=\"Luxor massacre\">were killed</a></b> by <a href=\"/wiki/Islamic_terrorism\" title=\"Islamic terrorism\">Islamist terrorists</a> outside <a href=\"/wiki/Deir_el-Bahari\" title=\"Deir el-Bahari\">Deir el-Bahari</a> <i>(pictured)</i> in <a href=\"/wiki/Luxor\" title=\"Luxor\">Luxor</a>, one of Egypt's top tourist attractions.</li>\n",
       "<li><a href=\"/wiki/2013\" title=\"2013\">2013</a> – <b><a href=\"/wiki/Tornado_outbreak_of_November_17,_2013\" title=\"Tornado outbreak of November 17, 2013\">An outbreak of 77 confirmed tornadoes</a></b> occurred in seven U.S. states; it became the largest November tornado outbreak in <a href=\"/wiki/Illinois\" title=\"Illinois\">Illinois</a> and <a href=\"/wiki/Indiana\" title=\"Indiana\">Indiana</a>.</li></ul>\n",
       "<link href=\"mw-data:TemplateStyles:r1129693374\" rel=\"mw-deduplicated-inline-style\"/><div class=\"hlist\" style=\"margin-top: 0.5em;\"><ul><li><b><a href=\"/wiki/Chen_Jinfeng\" title=\"Chen Jinfeng\">Chen Jinfeng</a></b>  (<abbr title=\"died\">d.</abbr> 935)</li><li><b><a href=\"/wiki/Nikephoros_Melissenos\" title=\"Nikephoros Melissenos\">Nikephoros Melissenos</a></b>  (<abbr title=\"died\">d.</abbr> 1104)</li><li><b><a href=\"/wiki/Grace_Abbott\" title=\"Grace Abbott\">Grace Abbott</a></b>  (<abbr title=\"born\">b.</abbr> 1878)</li><li><b><a href=\"/wiki/Cyril_Ramaphosa\" title=\"Cyril Ramaphosa\">Cyril Ramaphosa</a></b>  (<abbr title=\"born\">b.</abbr> 1952)</li></ul></div>\n",
       "<div style=\"margin-top:0.5em;\">\n",
       "More anniversaries: <link href=\"mw-data:TemplateStyles:r1129693374\" rel=\"mw-deduplicated-inline-style\"/><div class=\"hlist inline nowraplinks\">\n",
       "<ul><li><a href=\"/wiki/November_16\" title=\"November 16\">November 16</a></li>\n",
       "<li><b><a href=\"/wiki/November_17\" title=\"November 17\">November 17</a></b></li>\n",
       "<li><a href=\"/wiki/November_18\" title=\"November 18\">November 18</a></li></ul>\n",
       "</div></div>\n",
       "<link href=\"mw-data:TemplateStyles:r1129693374\" rel=\"mw-deduplicated-inline-style\"/><div class=\"hlist otd-footer noprint\" style=\"text-align:right;\">\n",
       "<ul><li><b><a href=\"/wiki/Wikipedia:Selected_anniversaries/November\" title=\"Wikipedia:Selected anniversaries/November\">Archive</a></b></li>\n",
       "<li><b><a class=\"extiw\" href=\"https://lists.wikimedia.org/postorius/lists/daily-article-l.lists.wikimedia.org/\" title=\"mail:daily-article-l\">By email</a></b></li>\n",
       "<li><b><a href=\"/wiki/List_of_days_of_the_year\" title=\"List of days of the year\">List of days of the year</a></b></li></ul>\n",
       "</div></div>\n",
       "</div>\n",
       "</div>\n",
       "<div class=\"MainPageBG mp-box\" id=\"mp-middle\">\n",
       "<h2 class=\"mp-h2\" id=\"mp-tfl-h2\"><span id=\"From_today.27s_featured_list\"></span><span class=\"mw-headline\" id=\"From_today's_featured_list\">From today's featured list</span></h2>\n",
       "<div class=\"mp-contains-float\" id=\"mp-tfl\"><div id=\"mp-tfl-img\" style=\"float:right;margin:0.5em 0 0.4em 0.9em;\"><div class=\"thumbinner mp-thumb\" style=\"background: transparent; border: none; padding: 0; max-width: 178px;\">\n",
       "<span typeof=\"mw:File\"><a class=\"mw-file-description\" href=\"/wiki/File:Connecticut_in_United_States.svg\" title=\"Location of Connecticut in the United States\"><img alt=\"Location of Connecticut in the United States\" class=\"mw-file-element\" data-file-height=\"731\" data-file-width=\"1181\" decoding=\"async\" height=\"110\" src=\"//upload.wikimedia.org/wikipedia/commons/thumb/6/6e/Connecticut_in_United_States.svg/178px-Connecticut_in_United_States.svg.png\" srcset=\"//upload.wikimedia.org/wikipedia/commons/thumb/6/6e/Connecticut_in_United_States.svg/267px-Connecticut_in_United_States.svg.png 1.5x, //upload.wikimedia.org/wikipedia/commons/thumb/6/6e/Connecticut_in_United_States.svg/356px-Connecticut_in_United_States.svg.png 2x\" width=\"178\"/></a></span><div class=\"thumbcaption\" style=\"padding: 0.25em 0; word-wrap: break-word;\">Location of Connecticut in the United States</div></div>\n",
       "</div>\n",
       "<p><b><a href=\"/wiki/United_States_presidential_elections_in_Connecticut\" title=\"United States presidential elections in Connecticut\">Connecticut has participated</a></b> in all fifty-nine <a href=\"/wiki/United_States_presidential_election\" title=\"United States presidential election\">United States presidential elections</a> since the <a href=\"/wiki/American_Revolution\" title=\"American Revolution\">American Revolution</a>. In the early days of the United States, <a href=\"/wiki/Connecticut\" title=\"Connecticut\">Connecticut</a> was known for supporting the <a href=\"/wiki/Conservatism_in_the_United_States\" title=\"Conservatism in the United States\">conservative</a> Federalist Party. In the <a href=\"/wiki/Second_Party_System\" title=\"Second Party System\">Second Party System</a>, Connecticut leaned towards the anti-<a href=\"/wiki/Jacksonian_democracy\" title=\"Jacksonian democracy\">Jackson</a> candidates. Following the <a href=\"/wiki/American_Civil_War\" title=\"American Civil War\">Civil War</a>, Connecticut was a <a href=\"/wiki/Swing_state\" title=\"Swing state\">swing state</a> for a long time until 1896. Thereafter until 1932, Connecticut was a <a href=\"/wiki/Republican_Party_(United_States)\" title=\"Republican Party (United States)\">Republican</a> stronghold. During the <a href=\"/wiki/Great_Depression\" title=\"Great Depression\">Great Depression</a>, Connecticut began to pivot in support of Democratic candidates. After that, although the Republican Party won Connecticut several times in the presidential election, its advantage was no longer as significant as it had previously been. Since 1992, the state has voted consistently for the <a href=\"/wiki/Democratic_Party_(United_States)\" title=\"Democratic Party (United States)\">Democratic</a> candidates. (<b><a href=\"/wiki/United_States_presidential_elections_in_Connecticut\" title=\"United States presidential elections in Connecticut\">Full list...</a></b>)\n",
       "</p>\n",
       "<div class=\"tfl-recent\" style=\"text-align: right;\">\n",
       "Recently featured: <link href=\"mw-data:TemplateStyles:r1129693374\" rel=\"mw-deduplicated-inline-style\"/><div class=\"hlist inline\">\n",
       "<ul><li><a href=\"/wiki/Julia_Michaels_discography\" title=\"Julia Michaels discography\">Julia Michaels discography</a></li>\n",
       "<li><a href=\"/wiki/List_of_accolades_received_by_Skyfall\" title=\"List of accolades received by Skyfall\">Accolades received by <i>Skyfall</i></a></li>\n",
       "<li><a href=\"/wiki/List_of_operettas_by_John_Philip_Sousa\" title=\"List of operettas by John Philip Sousa\">Operettas by John Philip Sousa</a></li></ul>\n",
       "</div></div>\n",
       "<link href=\"mw-data:TemplateStyles:r1129693374\" rel=\"mw-deduplicated-inline-style\"/><div class=\"hlist tfl-footer noprint\" style=\"text-align:right;\">\n",
       "<ul><li><b><a href=\"/wiki/Wikipedia:Today%27s_featured_list/November_2023\" title=\"Wikipedia:Today's featured list/November 2023\">Archive</a></b></li>\n",
       "<li><b><a href=\"/wiki/Wikipedia:Featured_lists\" title=\"Wikipedia:Featured lists\">More featured lists</a></b></li></ul>\n",
       "</div></div>\n",
       "</div>\n",
       "<div class=\"MainPageBG mp-box\" id=\"mp-lower\">\n",
       "<h2 class=\"mp-h2\" id=\"mp-tfp-h2\"><span id=\"Today.27s_featured_picture\"></span><span class=\"mw-headline\" id=\"Today's_featured_picture\">Today's featured picture</span></h2>\n",
       "<div id=\"mp-tfp\">\n",
       "<table role=\"presentation\" style=\"margin:0 3px 3px; width:100%; box-sizing:border-box; text-align:left; background-color:transparent; border-collapse:collapse;\">\n",
       "<tbody><tr>\n",
       "<td style=\"padding:0 0.9em 0 0; width:400px;\"><span typeof=\"mw:File\"><a class=\"mw-file-description\" href=\"/wiki/File:Red_Fish_at_Papah%C4%81naumoku%C4%81kea_(cropped).jpg\" title=\"Sargocentron xantherythrum\"><img alt=\"Sargocentron xantherythrum\" class=\"mw-file-element\" data-file-height=\"2043\" data-file-width=\"2395\" decoding=\"async\" height=\"341\" src=\"//upload.wikimedia.org/wikipedia/commons/thumb/d/d3/Red_Fish_at_Papah%C4%81naumoku%C4%81kea_%28cropped%29.jpg/400px-Red_Fish_at_Papah%C4%81naumoku%C4%81kea_%28cropped%29.jpg\" srcset=\"//upload.wikimedia.org/wikipedia/commons/thumb/d/d3/Red_Fish_at_Papah%C4%81naumoku%C4%81kea_%28cropped%29.jpg/600px-Red_Fish_at_Papah%C4%81naumoku%C4%81kea_%28cropped%29.jpg 1.5x, //upload.wikimedia.org/wikipedia/commons/thumb/d/d3/Red_Fish_at_Papah%C4%81naumoku%C4%81kea_%28cropped%29.jpg/800px-Red_Fish_at_Papah%C4%81naumoku%C4%81kea_%28cropped%29.jpg 2x\" width=\"400\"/></a></span>\n",
       "</td>\n",
       "<td style=\"padding:0 6px 0 0\">\n",
       "<p><i><b><a href=\"/wiki/Sargocentron_xantherythrum\" title=\"Sargocentron xantherythrum\">Sargocentron xantherythrum</a></b></i>, commonly known as the Hawaiian squirrelfish or striped squirrelfish, is a member of the <a href=\"/wiki/Holocentrinae\" title=\"Holocentrinae\">squirrelfish</a> family that is endemic to the <a href=\"/wiki/Hawaiian_Islands\" title=\"Hawaiian Islands\">Hawaiian Islands</a>. Growing to a length of 17 centimeters (6.7 in), the fish has a red coloration with white stripes running along the body, as well as sharp gill spines and rough scales that can cause the fish to be snagged in netting materials. It is a <a href=\"/wiki/Nocturnality\" title=\"Nocturnality\">nocturnal species</a> that is much more active at night. It inhabits seaward reefs below the surge zone, and is common near caves and ledges, feeding mainly on worms, crustaceans and starfish. It is occasionally available in the <a href=\"/wiki/Aquarium\" title=\"Aquarium\">aquarium</a> trade. This school of <i>S. xantherythrum</i> was photographed in the <a href=\"/wiki/French_Frigate_Shoals\" title=\"French Frigate Shoals\">French Frigate Shoals</a>, part of the <a href=\"/wiki/Papah%C4%81naumoku%C4%81kea_Marine_National_Monument\" title=\"Papahānaumokuākea Marine National Monument\">Papahānaumokuākea Marine National Monument</a> in <a href=\"/wiki/Hawaii\" title=\"Hawaii\">Hawaii</a>.\n",
       "</p>\n",
       "<p style=\"text-align:left;\"><small>Photograph credit: James Watt</small></p>\n",
       "<div class=\"potd-recent\" style=\"text-align:right;\">\n",
       "Recently featured: <link href=\"mw-data:TemplateStyles:r1129693374\" rel=\"mw-deduplicated-inline-style\"/><div class=\"hlist inline\">\n",
       "<ul><li><a href=\"/wiki/Template:POTD/2023-11-16\" title=\"Template:POTD/2023-11-16\">Vang Vieng</a></li>\n",
       "<li><a href=\"/wiki/Template:POTD/2023-11-15\" title=\"Template:POTD/2023-11-15\">Prehnite</a></li>\n",
       "<li><a href=\"/wiki/Template:POTD/2023-11-14\" title=\"Template:POTD/2023-11-14\">Pied kingfisher</a></li></ul>\n",
       "</div></div>\n",
       "<link href=\"mw-data:TemplateStyles:r1129693374\" rel=\"mw-deduplicated-inline-style\"/><div class=\"hlist potd-footer noprint\" style=\"text-align:right;\">\n",
       "<ul><li><b><a href=\"/wiki/Wikipedia:Picture_of_the_day/Archive\" title=\"Wikipedia:Picture of the day/Archive\">Archive</a></b></li>\n",
       "<li><b><a href=\"/wiki/Wikipedia:Featured_pictures\" title=\"Wikipedia:Featured pictures\">More featured pictures</a></b></li></ul>\n",
       "</div>\n",
       "</td></tr></tbody></table></div>\n",
       "</div>\n",
       "<div class=\"mp-box\" id=\"mp-bottom\">\n",
       "<h2 class=\"mp-h2\" id=\"mp-other\"><span class=\"mw-headline\" id=\"Other_areas_of_Wikipedia\">Other areas of Wikipedia</span></h2>\n",
       "<div id=\"mp-other-content\">\n",
       "<ul><li><b><a href=\"/wiki/Wikipedia:Community_portal\" title=\"Wikipedia:Community portal\">Community portal</a></b> – The central hub for editors, with resources, links, tasks, and announcements.</li>\n",
       "<li><b><a href=\"/wiki/Wikipedia:Village_pump\" title=\"Wikipedia:Village pump\">Village pump</a></b> – Forum for discussions about Wikipedia itself, including policies and technical issues.</li>\n",
       "<li><b><a href=\"/wiki/Wikipedia:News\" title=\"Wikipedia:News\">Site news</a></b> – Sources of news about Wikipedia and the broader Wikimedia movement.</li>\n",
       "<li><b><a href=\"/wiki/Wikipedia:Teahouse\" title=\"Wikipedia:Teahouse\">Teahouse</a></b> – Ask basic questions about using or editing Wikipedia.</li>\n",
       "<li><b><a href=\"/wiki/Wikipedia:Help_desk\" title=\"Wikipedia:Help desk\">Help desk</a></b> – Ask questions about using or editing Wikipedia.</li>\n",
       "<li><b><a href=\"/wiki/Wikipedia:Reference_desk\" title=\"Wikipedia:Reference desk\">Reference desk</a></b> – Ask research questions about encyclopedic topics.</li>\n",
       "<li><b><a href=\"/wiki/Wikipedia:Contents/Portals\" title=\"Wikipedia:Contents/Portals\">Content portals</a></b> – A unique way to navigate the encyclopedia.</li></ul>\n",
       "</div>\n",
       "<h2 class=\"mp-h2\" id=\"mp-sister\"><span id=\"Wikipedia.27s_sister_projects\"></span><span class=\"mw-headline\" id=\"Wikipedia's_sister_projects\">Wikipedia's sister projects</span></h2>\n",
       "<div id=\"mp-sister-content\"><style data-mw-deduplicate=\"TemplateStyles:r1007624485\">.mw-parser-output #sister-projects-list{display:flex;flex-wrap:wrap}.mw-parser-output #sister-projects-list li{display:inline-block}.mw-parser-output #sister-projects-list li span{font-weight:bold}.mw-parser-output #sister-projects-list li>div{display:inline-block;vertical-align:middle;padding:6px 4px}.mw-parser-output #sister-projects-list li>div:first-child{text-align:center}@media(min-width:360px){.mw-parser-output #sister-projects-list li{width:33%;min-width:20em;white-space:nowrap;flex:1 0 25%}.mw-parser-output #sister-projects-list li>div:first-child{min-width:50px}}</style>\n",
       "<p>Wikipedia is written by volunteer editors and hosted by the <a href=\"/wiki/Wikimedia_Foundation\" title=\"Wikimedia Foundation\">Wikimedia Foundation</a>, a non-profit organization that also hosts a range of other volunteer <a class=\"extiw\" href=\"https://wikimediafoundation.org/our-work/wikimedia-projects/\" title=\"foundationsite:our-work/wikimedia-projects/\">projects</a>:\n",
       "</p>\n",
       "<style data-mw-deduplicate=\"TemplateStyles:r1126788409\">.mw-parser-output .plainlist ol,.mw-parser-output .plainlist ul{line-height:inherit;list-style:none;margin:0;padding:0}.mw-parser-output .plainlist ol li,.mw-parser-output .plainlist ul li{margin-bottom:0}</style><div class=\"plainlist\">\n",
       "<ul id=\"sister-projects-list\">\n",
       "<li>\n",
       "<div><span typeof=\"mw:File\"><a href=\"https://commons.wikimedia.org/wiki/\" title=\"Commons\"><img alt=\"Commons logo\" class=\"mw-file-element\" data-file-height=\"1376\" data-file-width=\"1024\" decoding=\"async\" height=\"42\" src=\"//upload.wikimedia.org/wikipedia/en/thumb/4/4a/Commons-logo.svg/31px-Commons-logo.svg.png\" srcset=\"//upload.wikimedia.org/wikipedia/en/thumb/4/4a/Commons-logo.svg/47px-Commons-logo.svg.png 1.5x, //upload.wikimedia.org/wikipedia/en/thumb/4/4a/Commons-logo.svg/62px-Commons-logo.svg.png 2x\" width=\"31\"/></a></span></div>\n",
       "<div><span><a class=\"extiw\" href=\"https://commons.wikimedia.org/wiki/\" title=\"c:\">Commons</a></span><br/>Free media repository</div>\n",
       "</li>\n",
       "<li>\n",
       "<div><span typeof=\"mw:File\"><a href=\"https://www.mediawiki.org/wiki/\" title=\"MediaWiki\"><img alt=\"MediaWiki logo\" class=\"mw-file-element\" data-file-height=\"100\" data-file-width=\"100\" decoding=\"async\" height=\"35\" src=\"//upload.wikimedia.org/wikipedia/commons/thumb/a/a6/MediaWiki-2020-icon.svg/35px-MediaWiki-2020-icon.svg.png\" srcset=\"//upload.wikimedia.org/wikipedia/commons/thumb/a/a6/MediaWiki-2020-icon.svg/53px-MediaWiki-2020-icon.svg.png 1.5x, //upload.wikimedia.org/wikipedia/commons/thumb/a/a6/MediaWiki-2020-icon.svg/70px-MediaWiki-2020-icon.svg.png 2x\" width=\"35\"/></a></span></div>\n",
       "<div><span><a class=\"extiw\" href=\"https://www.mediawiki.org/wiki/\" title=\"mw:\">MediaWiki</a></span><br/>Wiki software development</div>\n",
       "</li>\n",
       "<li>\n",
       "<div><span typeof=\"mw:File\"><a href=\"https://meta.wikimedia.org/wiki/\" title=\"Meta-Wiki\"><img alt=\"Meta-Wiki logo\" class=\"mw-file-element\" data-file-height=\"900\" data-file-width=\"900\" decoding=\"async\" height=\"35\" src=\"//upload.wikimedia.org/wikipedia/commons/thumb/7/75/Wikimedia_Community_Logo.svg/35px-Wikimedia_Community_Logo.svg.png\" srcset=\"//upload.wikimedia.org/wikipedia/commons/thumb/7/75/Wikimedia_Community_Logo.svg/53px-Wikimedia_Community_Logo.svg.png 1.5x, //upload.wikimedia.org/wikipedia/commons/thumb/7/75/Wikimedia_Community_Logo.svg/70px-Wikimedia_Community_Logo.svg.png 2x\" width=\"35\"/></a></span></div>\n",
       "<div><span><a class=\"extiw\" href=\"https://meta.wikimedia.org/wiki/\" title=\"m:\">Meta-Wiki</a></span><br/>Wikimedia project coordination</div>\n",
       "</li>\n",
       "<li>\n",
       "<div><span typeof=\"mw:File\"><a href=\"https://en.wikibooks.org/wiki/\" title=\"Wikibooks\"><img alt=\"Wikibooks logo\" class=\"mw-file-element\" data-file-height=\"300\" data-file-width=\"300\" decoding=\"async\" height=\"35\" src=\"//upload.wikimedia.org/wikipedia/commons/thumb/f/fa/Wikibooks-logo.svg/35px-Wikibooks-logo.svg.png\" srcset=\"//upload.wikimedia.org/wikipedia/commons/thumb/f/fa/Wikibooks-logo.svg/53px-Wikibooks-logo.svg.png 1.5x, //upload.wikimedia.org/wikipedia/commons/thumb/f/fa/Wikibooks-logo.svg/70px-Wikibooks-logo.svg.png 2x\" width=\"35\"/></a></span></div>\n",
       "<div><span><a class=\"extiw\" href=\"https://en.wikibooks.org/wiki/\" title=\"b:\">Wikibooks</a></span><br/>Free textbooks and manuals</div>\n",
       "</li>\n",
       "<li>\n",
       "<div><span typeof=\"mw:File\"><a href=\"https://www.wikidata.org/wiki/\" title=\"Wikidata\"><img alt=\"Wikidata logo\" class=\"mw-file-element\" data-file-height=\"590\" data-file-width=\"1050\" decoding=\"async\" height=\"26\" src=\"//upload.wikimedia.org/wikipedia/commons/thumb/f/ff/Wikidata-logo.svg/47px-Wikidata-logo.svg.png\" srcset=\"//upload.wikimedia.org/wikipedia/commons/thumb/f/ff/Wikidata-logo.svg/71px-Wikidata-logo.svg.png 1.5x, //upload.wikimedia.org/wikipedia/commons/thumb/f/ff/Wikidata-logo.svg/94px-Wikidata-logo.svg.png 2x\" width=\"47\"/></a></span></div>\n",
       "<div><span><a class=\"extiw\" href=\"https://www.wikidata.org/wiki/\" title=\"d:\">Wikidata</a></span><br/>Free knowledge base</div>\n",
       "</li>\n",
       "<li>\n",
       "<div><span typeof=\"mw:File\"><a href=\"https://en.wikinews.org/wiki/\" title=\"Wikinews\"><img alt=\"Wikinews logo\" class=\"mw-file-element\" data-file-height=\"415\" data-file-width=\"759\" decoding=\"async\" height=\"28\" src=\"//upload.wikimedia.org/wikipedia/commons/thumb/2/24/Wikinews-logo.svg/51px-Wikinews-logo.svg.png\" srcset=\"//upload.wikimedia.org/wikipedia/commons/thumb/2/24/Wikinews-logo.svg/77px-Wikinews-logo.svg.png 1.5x, //upload.wikimedia.org/wikipedia/commons/thumb/2/24/Wikinews-logo.svg/102px-Wikinews-logo.svg.png 2x\" width=\"51\"/></a></span></div>\n",
       "<div><span><a class=\"extiw\" href=\"https://en.wikinews.org/wiki/\" title=\"n:\">Wikinews</a></span><br/>Free-content news</div>\n",
       "</li>\n",
       "<li>\n",
       "<div><span typeof=\"mw:File\"><a href=\"https://en.wikiquote.org/wiki/\" title=\"Wikiquote\"><img alt=\"Wikiquote logo\" class=\"mw-file-element\" data-file-height=\"355\" data-file-width=\"300\" decoding=\"async\" height=\"41\" src=\"//upload.wikimedia.org/wikipedia/commons/thumb/f/fa/Wikiquote-logo.svg/35px-Wikiquote-logo.svg.png\" srcset=\"//upload.wikimedia.org/wikipedia/commons/thumb/f/fa/Wikiquote-logo.svg/53px-Wikiquote-logo.svg.png 1.5x, //upload.wikimedia.org/wikipedia/commons/thumb/f/fa/Wikiquote-logo.svg/70px-Wikiquote-logo.svg.png 2x\" width=\"35\"/></a></span></div>\n",
       "<div><span><a class=\"extiw\" href=\"https://en.wikiquote.org/wiki/\" title=\"q:\">Wikiquote</a></span><br/>Collection of quotations</div>\n",
       "</li>\n",
       "<li>\n",
       "<div><span typeof=\"mw:File\"><a href=\"https://en.wikisource.org/wiki/\" title=\"Wikisource\"><img alt=\"Wikisource logo\" class=\"mw-file-element\" data-file-height=\"430\" data-file-width=\"410\" decoding=\"async\" height=\"37\" src=\"//upload.wikimedia.org/wikipedia/commons/thumb/4/4c/Wikisource-logo.svg/35px-Wikisource-logo.svg.png\" srcset=\"//upload.wikimedia.org/wikipedia/commons/thumb/4/4c/Wikisource-logo.svg/53px-Wikisource-logo.svg.png 1.5x, //upload.wikimedia.org/wikipedia/commons/thumb/4/4c/Wikisource-logo.svg/70px-Wikisource-logo.svg.png 2x\" width=\"35\"/></a></span></div>\n",
       "<div><span><a class=\"extiw\" href=\"https://en.wikisource.org/wiki/\" title=\"s:\">Wikisource</a></span><br/>Free-content library</div>\n",
       "</li>\n",
       "<li>\n",
       "<div><span typeof=\"mw:File\"><a href=\"https://species.wikimedia.org/wiki/\" title=\"Wikispecies\"><img alt=\"Wikispecies logo\" class=\"mw-file-element\" data-file-height=\"1103\" data-file-width=\"941\" decoding=\"async\" height=\"41\" src=\"//upload.wikimedia.org/wikipedia/commons/thumb/d/df/Wikispecies-logo.svg/35px-Wikispecies-logo.svg.png\" srcset=\"//upload.wikimedia.org/wikipedia/commons/thumb/d/df/Wikispecies-logo.svg/53px-Wikispecies-logo.svg.png 1.5x, //upload.wikimedia.org/wikipedia/commons/thumb/d/df/Wikispecies-logo.svg/70px-Wikispecies-logo.svg.png 2x\" width=\"35\"/></a></span></div>\n",
       "<div><span><a class=\"extiw\" href=\"https://species.wikimedia.org/wiki/\" title=\"species:\">Wikispecies</a></span><br/>Directory of species</div>\n",
       "</li>\n",
       "<li>\n",
       "<div><span typeof=\"mw:File\"><a href=\"https://en.wikiversity.org/wiki/\" title=\"Wikiversity\"><img alt=\"Wikiversity logo\" class=\"mw-file-element\" data-file-height=\"512\" data-file-width=\"626\" decoding=\"async\" height=\"34\" src=\"//upload.wikimedia.org/wikipedia/commons/thumb/0/0b/Wikiversity_logo_2017.svg/41px-Wikiversity_logo_2017.svg.png\" srcset=\"//upload.wikimedia.org/wikipedia/commons/thumb/0/0b/Wikiversity_logo_2017.svg/62px-Wikiversity_logo_2017.svg.png 1.5x, //upload.wikimedia.org/wikipedia/commons/thumb/0/0b/Wikiversity_logo_2017.svg/82px-Wikiversity_logo_2017.svg.png 2x\" width=\"41\"/></a></span></div>\n",
       "<div><span><a class=\"extiw\" href=\"https://en.wikiversity.org/wiki/\" title=\"v:\">Wikiversity</a></span><br/>Free learning tools</div>\n",
       "</li>\n",
       "<li>\n",
       "<div><span typeof=\"mw:File\"><a href=\"https://en.wikivoyage.org/wiki/\" title=\"Wikivoyage\"><img alt=\"Wikivoyage logo\" class=\"mw-file-element\" data-file-height=\"193\" data-file-width=\"193\" decoding=\"async\" height=\"35\" src=\"//upload.wikimedia.org/wikipedia/commons/thumb/d/dd/Wikivoyage-Logo-v3-icon.svg/35px-Wikivoyage-Logo-v3-icon.svg.png\" srcset=\"//upload.wikimedia.org/wikipedia/commons/thumb/d/dd/Wikivoyage-Logo-v3-icon.svg/53px-Wikivoyage-Logo-v3-icon.svg.png 1.5x, //upload.wikimedia.org/wikipedia/commons/thumb/d/dd/Wikivoyage-Logo-v3-icon.svg/70px-Wikivoyage-Logo-v3-icon.svg.png 2x\" width=\"35\"/></a></span></div>\n",
       "<div><span><a class=\"extiw\" href=\"https://en.wikivoyage.org/wiki/\" title=\"voy:\">Wikivoyage</a></span><br/>Free travel guide</div>\n",
       "</li>\n",
       "<li>\n",
       "<div><span typeof=\"mw:File\"><a href=\"https://en.wiktionary.org/wiki/\" title=\"Wiktionary\"><img alt=\"Wiktionary logo\" class=\"mw-file-element\" data-file-height=\"391\" data-file-width=\"391\" decoding=\"async\" height=\"35\" src=\"//upload.wikimedia.org/wikipedia/en/thumb/0/06/Wiktionary-logo-v2.svg/35px-Wiktionary-logo-v2.svg.png\" srcset=\"//upload.wikimedia.org/wikipedia/en/thumb/0/06/Wiktionary-logo-v2.svg/53px-Wiktionary-logo-v2.svg.png 1.5x, //upload.wikimedia.org/wikipedia/en/thumb/0/06/Wiktionary-logo-v2.svg/70px-Wiktionary-logo-v2.svg.png 2x\" width=\"35\"/></a></span></div>\n",
       "<div><span><a class=\"extiw\" href=\"https://en.wiktionary.org/wiki/\" title=\"wikt:\">Wiktionary</a></span><br/>Dictionary and thesaurus</div>\n",
       "</li>\n",
       "</ul>\n",
       "</div></div>\n",
       "<h2 class=\"mp-h2\" id=\"mp-lang\"><span class=\"mw-headline\" id=\"Wikipedia_languages\">Wikipedia languages</span></h2>\n",
       "<div><style data-mw-deduplicate=\"TemplateStyles:r997272951\">.mw-parser-output .wikipedia-languages-complete{font-weight:bold}.mw-parser-output .wikipedia-languages ul{margin-left:0}.mw-parser-output .wikipedia-languages ul a{white-space:nowrap}.mw-parser-output .wikipedia-languages>ul{list-style:none;text-align:center;clear:both}.mw-parser-output .wikipedia-languages-count-container{width:90%;display:flex;justify-content:center;padding-top:1em;margin:0 auto}.mw-parser-output .wikipedia-languages-prettybars{width:100%;height:1px;margin:0.5em 0;background-color:#c8ccd1;flex-shrink:1;align-self:center}.mw-parser-output .wikipedia-languages-count{padding:0 1em;white-space:nowrap}</style>\n",
       "<div class=\"wikipedia-languages nourlexpansion\">\n",
       "<p>This Wikipedia is written in <a href=\"/wiki/English_language\" title=\"English language\">English</a>. Many <a class=\"extiw\" href=\"https://meta.wikimedia.org/wiki/List_of_Wikipedias\" title=\"meta:List of Wikipedias\">other Wikipedias are available</a>; some of the largest are listed below.\n",
       "</p>\n",
       "<ul class=\"plainlinks\">\n",
       "<li>\n",
       "<div class=\"wikipedia-languages-count-container\">\n",
       "<div class=\"wikipedia-languages-prettybars\"></div>\n",
       "<div aria-level=\"3\" class=\"wikipedia-languages-count\" role=\"heading\">1,000,000+ articles</div>\n",
       "<div class=\"wikipedia-languages-prettybars\"></div>\n",
       "</div>\n",
       "<link href=\"mw-data:TemplateStyles:r1129693374\" rel=\"mw-deduplicated-inline-style\"/><div class=\"hlist wikipedia-languages-langs inline\">\n",
       "<ul><li><a class=\"external text\" href=\"https://ar.wikipedia.org/wiki/\"><span class=\"autonym\" lang=\"ar\" title=\"Arabic (ar:)\">العربية</span></a></li>\n",
       "<li><a class=\"external text\" href=\"https://de.wikipedia.org/wiki/\"><span class=\"autonym\" lang=\"de\" title=\"German (de:)\">Deutsch</span></a></li>\n",
       "<li><a class=\"external text\" href=\"https://es.wikipedia.org/wiki/\"><span class=\"autonym\" lang=\"es\" title=\"Spanish (es:)\">Español</span></a></li>\n",
       "<li><a class=\"external text\" href=\"https://fr.wikipedia.org/wiki/\"><span class=\"autonym\" lang=\"fr\" title=\"French (fr:)\">Français</span></a></li>\n",
       "<li><a class=\"external text\" href=\"https://it.wikipedia.org/wiki/\"><span class=\"autonym\" lang=\"it\" title=\"Italian (it:)\">Italiano</span></a></li>\n",
       "<li><a class=\"external text\" href=\"https://nl.wikipedia.org/wiki/\"><span class=\"autonym\" lang=\"nl\" title=\"Dutch (nl:)\">Nederlands</span></a></li>\n",
       "<li><a class=\"external text\" href=\"https://ja.wikipedia.org/wiki/\"><span class=\"autonym\" lang=\"ja\" title=\"Japanese (ja:)\">日本語</span></a></li>\n",
       "<li><a class=\"external text\" href=\"https://pl.wikipedia.org/wiki/\"><span class=\"autonym\" lang=\"pl\" title=\"Polish (pl:)\">Polski</span></a></li>\n",
       "<li><a class=\"external text\" href=\"https://pt.wikipedia.org/wiki/\"><span class=\"autonym\" lang=\"pt\" title=\"Portuguese (pt:)\">Português</span></a></li>\n",
       "<li><a class=\"external text\" href=\"https://ru.wikipedia.org/wiki/\"><span class=\"autonym\" lang=\"ru\" title=\"Russian (ru:)\">Русский</span></a></li>\n",
       "<li><a class=\"external text\" href=\"https://sv.wikipedia.org/wiki/\"><span class=\"autonym\" lang=\"sv\" title=\"Swedish (sv:)\">Svenska</span></a></li>\n",
       "<li><a class=\"external text\" href=\"https://uk.wikipedia.org/wiki/\"><span class=\"autonym\" lang=\"uk\" title=\"Ukrainian (uk:)\">Українська</span></a></li>\n",
       "<li><a class=\"external text\" href=\"https://vi.wikipedia.org/wiki/\"><span class=\"autonym\" lang=\"vi\" title=\"Vietnamese (vi:)\">Tiếng Việt</span></a></li>\n",
       "<li><a class=\"external text\" href=\"https://zh.wikipedia.org/wiki/\"><span class=\"autonym\" lang=\"zh\" title=\"Chinese (zh:)\">中文</span></a></li></ul>\n",
       "</div>\n",
       "</li>\n",
       "<li>\n",
       "<div class=\"wikipedia-languages-count-container\">\n",
       "<div class=\"wikipedia-languages-prettybars\"></div>\n",
       "<div aria-level=\"3\" class=\"wikipedia-languages-count\" role=\"heading\">250,000+ articles</div>\n",
       "<div class=\"wikipedia-languages-prettybars\"></div>\n",
       "</div>\n",
       "<link href=\"mw-data:TemplateStyles:r1129693374\" rel=\"mw-deduplicated-inline-style\"/><div class=\"hlist wikipedia-languages-langs inline\">\n",
       "<ul><li><a class=\"external text\" href=\"https://id.wikipedia.org/wiki/\"><span class=\"autonym\" lang=\"id\" title=\"Indonesian (id:)\">Bahasa Indonesia</span></a></li>\n",
       "<li><a class=\"external text\" href=\"https://ms.wikipedia.org/wiki/\"><span class=\"autonym\" lang=\"ms\" title=\"Malay (ms:)\">Bahasa Melayu</span></a></li>\n",
       "<li><a class=\"external text\" href=\"https://zh-min-nan.wikipedia.org/wiki/\"><span class=\"autonym\" lang=\"nan\" title=\"Min Nan Chinese (nan:)\">Bân-lâm-gú</span></a></li>\n",
       "<li><a class=\"external text\" href=\"https://bg.wikipedia.org/wiki/\"><span class=\"autonym\" lang=\"bg\" title=\"Bulgarian (bg:)\">Български</span></a></li>\n",
       "<li><a class=\"external text\" href=\"https://ca.wikipedia.org/wiki/\"><span class=\"autonym\" lang=\"ca\" title=\"Catalan (ca:)\">Català</span></a></li>\n",
       "<li><a class=\"external text\" href=\"https://cs.wikipedia.org/wiki/\"><span class=\"autonym\" lang=\"cs\" title=\"Czech (cs:)\">Čeština</span></a></li>\n",
       "<li><a class=\"external text\" href=\"https://da.wikipedia.org/wiki/\"><span class=\"autonym\" lang=\"da\" title=\"Danish (da:)\">Dansk</span></a></li>\n",
       "<li><a class=\"external text\" href=\"https://eo.wikipedia.org/wiki/\"><span class=\"autonym\" lang=\"eo\" title=\"Esperanto (eo:)\">Esperanto</span></a></li>\n",
       "<li><a class=\"external text\" href=\"https://eu.wikipedia.org/wiki/\"><span class=\"autonym\" lang=\"eu\" title=\"Basque (eu:)\">Euskara</span></a></li>\n",
       "<li><a class=\"external text\" href=\"https://fa.wikipedia.org/wiki/\"><span class=\"autonym\" lang=\"fa\" title=\"Persian (fa:)\">فارسی</span></a>‎</li>\n",
       "<li><a class=\"external text\" href=\"https://he.wikipedia.org/wiki/\"><span class=\"autonym\" lang=\"he\" title=\"Hebrew (he:)\">עברית</span></a></li>\n",
       "<li><a class=\"external text\" href=\"https://hy.wikipedia.org/wiki/\"><span class=\"autonym\" lang=\"hy\" title=\"Armenian (hy:)\">Հայերեն</span></a></li>\n",
       "<li><a class=\"external text\" href=\"https://ko.wikipedia.org/wiki/\"><span class=\"autonym\" lang=\"ko\" title=\"Korean (ko:)\">한국어</span></a></li>\n",
       "<li><a class=\"external text\" href=\"https://hu.wikipedia.org/wiki/\"><span class=\"autonym\" lang=\"hu\" title=\"Hungarian (hu:)\">Magyar</span></a></li>\n",
       "<li><a class=\"external text\" href=\"https://no.wikipedia.org/wiki/\"><span class=\"autonym\" lang=\"no\" title=\"Norwegian (no:)\">Norsk bokmål</span></a></li>\n",
       "<li><a class=\"external text\" href=\"https://ro.wikipedia.org/wiki/\"><span class=\"autonym\" lang=\"ro\" title=\"Romanian (ro:)\">Română</span></a></li>\n",
       "<li><a class=\"external text\" href=\"https://sr.wikipedia.org/wiki/\"><span class=\"autonym\" lang=\"sr\" title=\"Serbian (sr:)\">Srpski</span></a></li>\n",
       "<li><a class=\"external text\" href=\"https://sh.wikipedia.org/wiki/\"><span class=\"autonym\" lang=\"sh\" title=\"Serbo-Croatian (sh:)\">Srpskohrvatski</span></a></li>\n",
       "<li><a class=\"external text\" href=\"https://fi.wikipedia.org/wiki/\"><span class=\"autonym\" lang=\"fi\" title=\"Finnish (fi:)\">Suomi</span></a></li>\n",
       "<li><a class=\"external text\" href=\"https://tr.wikipedia.org/wiki/\"><span class=\"autonym\" lang=\"tr\" title=\"Turkish (tr:)\">Türkçe</span></a></li></ul>\n",
       "</div>\n",
       "</li>\n",
       "<li>\n",
       "<div class=\"wikipedia-languages-count-container\">\n",
       "<div class=\"wikipedia-languages-prettybars\"></div>\n",
       "<div aria-level=\"3\" class=\"wikipedia-languages-count\" role=\"heading\">50,000+ articles</div>\n",
       "<div class=\"wikipedia-languages-prettybars\"></div>\n",
       "</div>\n",
       "<link href=\"mw-data:TemplateStyles:r1129693374\" rel=\"mw-deduplicated-inline-style\"/><div class=\"hlist wikipedia-languages-langs inline\">\n",
       "<ul><li><a class=\"external text\" href=\"https://ast.wikipedia.org/wiki/\"><span class=\"autonym\" lang=\"ast\" title=\"Asturian (ast:)\">Asturianu</span></a></li>\n",
       "<li><a class=\"external text\" href=\"https://bn.wikipedia.org/wiki/\"><span class=\"autonym\" lang=\"bn\" title=\"Bangla (bn:)\">বাংলা</span></a></li>\n",
       "<li><a class=\"external text\" href=\"https://bs.wikipedia.org/wiki/\"><span class=\"autonym\" lang=\"bs\" title=\"Bosnian (bs:)\">Bosanski</span></a></li>\n",
       "<li><a class=\"external text\" href=\"https://ckb.wikipedia.org/wiki/\"><span class=\"autonym\" lang=\"ckb\" title=\"Central Kurdish (ckb:)\">کوردی</span></a></li>\n",
       "<li><a class=\"external text\" href=\"https://et.wikipedia.org/wiki/\"><span class=\"autonym\" lang=\"et\" title=\"Estonian (et:)\">Eesti</span></a></li>\n",
       "<li><a class=\"external text\" href=\"https://el.wikipedia.org/wiki/\"><span class=\"autonym\" lang=\"el\" title=\"Greek (el:)\">Ελληνικά</span></a></li>\n",
       "<li><a class=\"external text\" href=\"https://simple.wikipedia.org/wiki/\"><span class=\"autonym\" lang=\"en\" title=\"Simple English (simple:)\">Simple English</span></a></li>\n",
       "<li><a class=\"external text\" href=\"https://fy.wikipedia.org/wiki/\"><span class=\"autonym\" lang=\"fy\" title=\"Western Frisian (fy:)\">Frysk</span></a></li>\n",
       "<li><a class=\"external text\" href=\"https://ga.wikipedia.org/wiki/\"><span class=\"autonym\" lang=\"ga\" title=\"Irish (ga:)\">Gaeilge</span></a></li>\n",
       "<li><a class=\"external text\" href=\"https://gl.wikipedia.org/wiki/\"><span class=\"autonym\" lang=\"gl\" title=\"Galician (gl:)\">Galego</span></a></li>\n",
       "<li><a class=\"external text\" href=\"https://hr.wikipedia.org/wiki/\"><span class=\"autonym\" lang=\"hr\" title=\"Croatian (hr:)\">Hrvatski</span></a></li>\n",
       "<li><a class=\"external text\" href=\"https://ka.wikipedia.org/wiki/\"><span class=\"autonym\" lang=\"ka\" title=\"Georgian (ka:)\">ქართული</span></a></li>\n",
       "<li><a class=\"external text\" href=\"https://lv.wikipedia.org/wiki/\"><span class=\"autonym\" lang=\"lv\" title=\"Latvian (lv:)\">Latviešu</span></a></li>\n",
       "<li><a class=\"external text\" href=\"https://lt.wikipedia.org/wiki/\"><span class=\"autonym\" lang=\"lt\" title=\"Lithuanian (lt:)\">Lietuvių</span></a></li>\n",
       "<li><a class=\"external text\" href=\"https://ml.wikipedia.org/wiki/\"><span class=\"autonym\" lang=\"ml\" title=\"Malayalam (ml:)\">മലയാളം</span></a></li>\n",
       "<li><a class=\"external text\" href=\"https://mk.wikipedia.org/wiki/\"><span class=\"autonym\" lang=\"mk\" title=\"Macedonian (mk:)\">Македонски</span></a></li>\n",
       "<li><a class=\"external text\" href=\"https://nn.wikipedia.org/wiki/\"><span class=\"autonym\" lang=\"nn\" title=\"Norwegian Nynorsk (nn:)\">Norsk nynorsk</span></a></li>\n",
       "<li><a class=\"external text\" href=\"https://pa.wikipedia.org/wiki/\"><span class=\"autonym\" lang=\"pa\" title=\"Punjabi (pa:)\">ਪੰਜਾਬੀ</span></a></li>\n",
       "<li><a class=\"external text\" href=\"https://sq.wikipedia.org/wiki/\"><span class=\"autonym\" lang=\"sq\" title=\"Albanian (sq:)\">Shqip</span></a></li>\n",
       "<li><a class=\"external text\" href=\"https://sk.wikipedia.org/wiki/\"><span class=\"autonym\" lang=\"sk\" title=\"Slovak (sk:)\">Slovenčina</span></a></li>\n",
       "<li><a class=\"external text\" href=\"https://sl.wikipedia.org/wiki/\"><span class=\"autonym\" lang=\"sl\" title=\"Slovenian (sl:)\">Slovenščina</span></a></li>\n",
       "<li><a class=\"external text\" href=\"https://th.wikipedia.org/wiki/\"><span class=\"autonym\" lang=\"th\" title=\"Thai (th:)\">ไทย</span></a></li>\n",
       "<li><a class=\"external text\" href=\"https://te.wikipedia.org/wiki/\"><span class=\"autonym\" lang=\"te\" title=\"Telugu (te:)\">తెలుగు</span></a></li>\n",
       "<li><a class=\"external text\" href=\"https://uz.wikipedia.org/wiki/\"><span class=\"autonym\" lang=\"uz\" title=\"Uzbek (uz:)\">Oʻzbekcha / ўзбекча</span></a></li></ul>\n",
       "</div>\n",
       "</li>\n",
       "</ul>\n",
       "</div></div>\n",
       "</div>\n",
       "<!-- \n",
       "NewPP limit report\n",
       "Parsed by mw‐web.codfw.main‐c5f8f78d5‐vrbh4\n",
       "Cached time: 20231117110303\n",
       "Cache expiry: 3600\n",
       "Reduced expiry: true\n",
       "Complications: [no‐toc]\n",
       "CPU time usage: 0.351 seconds\n",
       "Real time usage: 0.455 seconds\n",
       "Preprocessor visited node count: 5291/1000000\n",
       "Post‐expand include size: 136318/2097152 bytes\n",
       "Template argument size: 13218/2097152 bytes\n",
       "Highest expansion depth: 18/100\n",
       "Expensive parser function count: 15/500\n",
       "Unstrip recursion depth: 0/20\n",
       "Unstrip post‐expand size: 43173/5000000 bytes\n",
       "Lua time usage: 0.074/10.000 seconds\n",
       "Lua memory usage: 3549647/52428800 bytes\n",
       "Number of Wikibase entities loaded: 0/400\n",
       "-->\n",
       "<!--\n",
       "Transclusion expansion time report (%,ms,calls,template)\n",
       "100.00%  334.379      1 -total\n",
       " 29.45%   98.491      1 Wikipedia:Main_Page/Tomorrow\n",
       " 23.57%   78.816      1 Wikipedia:Today's_featured_article/November_17,_2023\n",
       " 20.92%   69.965      9 Template:Main_page_image\n",
       " 14.40%   48.153      9 Template:Str_number/trim\n",
       " 12.88%   43.076      2 Template:Wikipedia_languages\n",
       " 12.76%   42.671      1 Template:Did_you_know/Queue/5\n",
       " 12.64%   42.280      1 Template:Did_you_know\n",
       " 12.02%   40.189     28 Template:Flatlist\n",
       " 10.98%   36.705      2 Template:TFArecentlist\n",
       "-->\n",
       "<!-- Saved in parser cache with key enwiki:pcache:idhash:15580374-0!canonical and timestamp 20231117110303 and revision id 1114291180. Rendering was triggered because: page-view\n",
       " -->\n",
       "</div><!--esi <esi:include src=\"/esitest-fa8a495983347898/content\" /> --><noscript><img alt=\"\" height=\"1\" src=\"https://login.wikimedia.org/wiki/Special:CentralAutoLogin/start?type=1x1\" style=\"border: none; position: absolute;\" width=\"1\"/></noscript>\n",
       "<div class=\"printfooter\" data-nosnippet=\"\">Retrieved from \"<a dir=\"ltr\" href=\"https://en.wikipedia.org/w/index.php?title=Main_Page&amp;oldid=1114291180\">https://en.wikipedia.org/w/index.php?title=Main_Page&amp;oldid=1114291180</a>\"</div></div>\n",
       "<div class=\"catlinks catlinks-allhidden\" data-mw=\"interface\" id=\"catlinks\"></div>\n",
       "<div class=\"vector-dropdown mw-portlet mw-portlet-lang\" id=\"p-lang-btn\">\n",
       "<input aria-haspopup=\"true\" aria-label=\"Go to an article in another language. Available in 47 languages\" class=\"vector-dropdown-checkbox mw-interlanguage-selector\" data-event-name=\"ui.dropdown-p-lang-btn\" id=\"p-lang-btn-checkbox\" role=\"button\" type=\"checkbox\"/>\n",
       "<label aria-hidden=\"true\" class=\"vector-dropdown-label cdx-button cdx-button--fake-button cdx-button--fake-button--enabled cdx-button--weight-quiet cdx-button--action-progressive mw-portlet-lang-heading-47\" for=\"p-lang-btn-checkbox\" id=\"p-lang-btn-label\"><span class=\"vector-icon mw-ui-icon-language-progressive mw-ui-icon-wikimedia-language-progressive\"></span>\n",
       "<span class=\"vector-dropdown-label-text\">47 languages</span>\n",
       "</label>\n",
       "<div class=\"vector-dropdown-content\">\n",
       "<div class=\"vector-menu-content\">\n",
       "<ul class=\"vector-menu-content-list\">\n",
       "<li class=\"interlanguage-link interwiki-ar mw-list-item\"><a class=\"interlanguage-link-target\" href=\"https://ar.wikipedia.org/wiki/\" hreflang=\"ar\" lang=\"ar\" title=\"Arabic\"><span>العربية</span></a></li><li class=\"interlanguage-link interwiki-bn mw-list-item\"><a class=\"interlanguage-link-target\" href=\"https://bn.wikipedia.org/wiki/\" hreflang=\"bn\" lang=\"bn\" title=\"Bangla\"><span>বাংলা</span></a></li><li class=\"interlanguage-link interwiki-bg mw-list-item\"><a class=\"interlanguage-link-target\" href=\"https://bg.wikipedia.org/wiki/\" hreflang=\"bg\" lang=\"bg\" title=\"Bulgarian\"><span>Български</span></a></li><li class=\"interlanguage-link interwiki-bs mw-list-item\"><a class=\"interlanguage-link-target\" href=\"https://bs.wikipedia.org/wiki/\" hreflang=\"bs\" lang=\"bs\" title=\"Bosnian\"><span>Bosanski</span></a></li><li class=\"interlanguage-link interwiki-ca mw-list-item\"><a class=\"interlanguage-link-target\" href=\"https://ca.wikipedia.org/wiki/\" hreflang=\"ca\" lang=\"ca\" title=\"Catalan\"><span>Català</span></a></li><li class=\"interlanguage-link interwiki-cs mw-list-item\"><a class=\"interlanguage-link-target\" href=\"https://cs.wikipedia.org/wiki/\" hreflang=\"cs\" lang=\"cs\" title=\"Czech\"><span>Čeština</span></a></li><li class=\"interlanguage-link interwiki-da mw-list-item\"><a class=\"interlanguage-link-target\" href=\"https://da.wikipedia.org/wiki/\" hreflang=\"da\" lang=\"da\" title=\"Danish\"><span>Dansk</span></a></li><li class=\"interlanguage-link interwiki-de mw-list-item\"><a class=\"interlanguage-link-target\" href=\"https://de.wikipedia.org/wiki/\" hreflang=\"de\" lang=\"de\" title=\"German\"><span>Deutsch</span></a></li><li class=\"interlanguage-link interwiki-et mw-list-item\"><a class=\"interlanguage-link-target\" href=\"https://et.wikipedia.org/wiki/\" hreflang=\"et\" lang=\"et\" title=\"Estonian\"><span>Eesti</span></a></li><li class=\"interlanguage-link interwiki-el mw-list-item\"><a class=\"interlanguage-link-target\" href=\"https://el.wikipedia.org/wiki/\" hreflang=\"el\" lang=\"el\" title=\"Greek\"><span>Ελληνικά</span></a></li><li class=\"interlanguage-link interwiki-es mw-list-item\"><a class=\"interlanguage-link-target\" href=\"https://es.wikipedia.org/wiki/\" hreflang=\"es\" lang=\"es\" title=\"Spanish\"><span>Español</span></a></li><li class=\"interlanguage-link interwiki-eo mw-list-item\"><a class=\"interlanguage-link-target\" href=\"https://eo.wikipedia.org/wiki/\" hreflang=\"eo\" lang=\"eo\" title=\"Esperanto\"><span>Esperanto</span></a></li><li class=\"interlanguage-link interwiki-eu mw-list-item\"><a class=\"interlanguage-link-target\" href=\"https://eu.wikipedia.org/wiki/\" hreflang=\"eu\" lang=\"eu\" title=\"Basque\"><span>Euskara</span></a></li><li class=\"interlanguage-link interwiki-fa mw-list-item\"><a class=\"interlanguage-link-target\" href=\"https://fa.wikipedia.org/wiki/\" hreflang=\"fa\" lang=\"fa\" title=\"Persian\"><span>فارسی</span></a></li><li class=\"interlanguage-link interwiki-fr mw-list-item\"><a class=\"interlanguage-link-target\" href=\"https://fr.wikipedia.org/wiki/\" hreflang=\"fr\" lang=\"fr\" title=\"French\"><span>Français</span></a></li><li class=\"interlanguage-link interwiki-gl mw-list-item\"><a class=\"interlanguage-link-target\" href=\"https://gl.wikipedia.org/wiki/\" hreflang=\"gl\" lang=\"gl\" title=\"Galician\"><span>Galego</span></a></li><li class=\"interlanguage-link interwiki-ko mw-list-item\"><a class=\"interlanguage-link-target\" href=\"https://ko.wikipedia.org/wiki/\" hreflang=\"ko\" lang=\"ko\" title=\"Korean\"><span>한국어</span></a></li><li class=\"interlanguage-link interwiki-hr mw-list-item\"><a class=\"interlanguage-link-target\" href=\"https://hr.wikipedia.org/wiki/\" hreflang=\"hr\" lang=\"hr\" title=\"Croatian\"><span>Hrvatski</span></a></li><li class=\"interlanguage-link interwiki-id mw-list-item\"><a class=\"interlanguage-link-target\" href=\"https://id.wikipedia.org/wiki/\" hreflang=\"id\" lang=\"id\" title=\"Indonesian\"><span>Bahasa Indonesia</span></a></li><li class=\"interlanguage-link interwiki-it mw-list-item\"><a class=\"interlanguage-link-target\" href=\"https://it.wikipedia.org/wiki/\" hreflang=\"it\" lang=\"it\" title=\"Italian\"><span>Italiano</span></a></li><li class=\"interlanguage-link interwiki-he mw-list-item\"><a class=\"interlanguage-link-target\" href=\"https://he.wikipedia.org/wiki/\" hreflang=\"he\" lang=\"he\" title=\"Hebrew\"><span>עברית</span></a></li><li class=\"interlanguage-link interwiki-ka mw-list-item\"><a class=\"interlanguage-link-target\" href=\"https://ka.wikipedia.org/wiki/\" hreflang=\"ka\" lang=\"ka\" title=\"Georgian\"><span>ქართული</span></a></li><li class=\"interlanguage-link interwiki-lv mw-list-item\"><a class=\"interlanguage-link-target\" href=\"https://lv.wikipedia.org/wiki/\" hreflang=\"lv\" lang=\"lv\" title=\"Latvian\"><span>Latviešu</span></a></li><li class=\"interlanguage-link interwiki-lt mw-list-item\"><a class=\"interlanguage-link-target\" href=\"https://lt.wikipedia.org/wiki/\" hreflang=\"lt\" lang=\"lt\" title=\"Lithuanian\"><span>Lietuvių</span></a></li><li class=\"interlanguage-link interwiki-hu mw-list-item\"><a class=\"interlanguage-link-target\" href=\"https://hu.wikipedia.org/wiki/\" hreflang=\"hu\" lang=\"hu\" title=\"Hungarian\"><span>Magyar</span></a></li><li class=\"interlanguage-link interwiki-mk mw-list-item\"><a class=\"interlanguage-link-target\" href=\"https://mk.wikipedia.org/wiki/\" hreflang=\"mk\" lang=\"mk\" title=\"Macedonian\"><span>Македонски</span></a></li><li class=\"interlanguage-link interwiki-ms mw-list-item\"><a class=\"interlanguage-link-target\" href=\"https://ms.wikipedia.org/wiki/\" hreflang=\"ms\" lang=\"ms\" title=\"Malay\"><span>Bahasa Melayu</span></a></li><li class=\"interlanguage-link interwiki-nl mw-list-item\"><a class=\"interlanguage-link-target\" href=\"https://nl.wikipedia.org/wiki/\" hreflang=\"nl\" lang=\"nl\" title=\"Dutch\"><span>Nederlands</span></a></li><li class=\"interlanguage-link interwiki-ja mw-list-item\"><a class=\"interlanguage-link-target\" href=\"https://ja.wikipedia.org/wiki/\" hreflang=\"ja\" lang=\"ja\" title=\"Japanese\"><span>日本語</span></a></li><li class=\"interlanguage-link interwiki-no mw-list-item\"><a class=\"interlanguage-link-target\" href=\"https://no.wikipedia.org/wiki/\" hreflang=\"nb\" lang=\"nb\" title=\"Norwegian Bokmål\"><span>Norsk bokmål</span></a></li><li class=\"interlanguage-link interwiki-nn mw-list-item\"><a class=\"interlanguage-link-target\" href=\"https://nn.wikipedia.org/wiki/\" hreflang=\"nn\" lang=\"nn\" title=\"Norwegian Nynorsk\"><span>Norsk nynorsk</span></a></li><li class=\"interlanguage-link interwiki-pl mw-list-item\"><a class=\"interlanguage-link-target\" href=\"https://pl.wikipedia.org/wiki/\" hreflang=\"pl\" lang=\"pl\" title=\"Polish\"><span>Polski</span></a></li><li class=\"interlanguage-link interwiki-pt mw-list-item\"><a class=\"interlanguage-link-target\" href=\"https://pt.wikipedia.org/wiki/\" hreflang=\"pt\" lang=\"pt\" title=\"Portuguese\"><span>Português</span></a></li><li class=\"interlanguage-link interwiki-ro mw-list-item\"><a class=\"interlanguage-link-target\" href=\"https://ro.wikipedia.org/wiki/\" hreflang=\"ro\" lang=\"ro\" title=\"Romanian\"><span>Română</span></a></li><li class=\"interlanguage-link interwiki-ru mw-list-item\"><a class=\"interlanguage-link-target\" href=\"https://ru.wikipedia.org/wiki/\" hreflang=\"ru\" lang=\"ru\" title=\"Russian\"><span>Русский</span></a></li><li class=\"interlanguage-link interwiki-simple mw-list-item\"><a class=\"interlanguage-link-target\" href=\"https://simple.wikipedia.org/wiki/\" hreflang=\"en-simple\" lang=\"en-simple\" title=\"Simple English\"><span>Simple English</span></a></li><li class=\"interlanguage-link interwiki-sk mw-list-item\"><a class=\"interlanguage-link-target\" href=\"https://sk.wikipedia.org/wiki/\" hreflang=\"sk\" lang=\"sk\" title=\"Slovak\"><span>Slovenčina</span></a></li><li class=\"interlanguage-link interwiki-sl mw-list-item\"><a class=\"interlanguage-link-target\" href=\"https://sl.wikipedia.org/wiki/\" hreflang=\"sl\" lang=\"sl\" title=\"Slovenian\"><span>Slovenščina</span></a></li><li class=\"interlanguage-link interwiki-sr mw-list-item\"><a class=\"interlanguage-link-target\" href=\"https://sr.wikipedia.org/wiki/\" hreflang=\"sr\" lang=\"sr\" title=\"Serbian\"><span>Српски / srpski</span></a></li><li class=\"interlanguage-link interwiki-sh mw-list-item\"><a class=\"interlanguage-link-target\" href=\"https://sh.wikipedia.org/wiki/\" hreflang=\"sh\" lang=\"sh\" title=\"Serbo-Croatian\"><span>Srpskohrvatski / српскохрватски</span></a></li><li class=\"interlanguage-link interwiki-fi mw-list-item\"><a class=\"interlanguage-link-target\" href=\"https://fi.wikipedia.org/wiki/\" hreflang=\"fi\" lang=\"fi\" title=\"Finnish\"><span>Suomi</span></a></li><li class=\"interlanguage-link interwiki-sv mw-list-item\"><a class=\"interlanguage-link-target\" href=\"https://sv.wikipedia.org/wiki/\" hreflang=\"sv\" lang=\"sv\" title=\"Swedish\"><span>Svenska</span></a></li><li class=\"interlanguage-link interwiki-th mw-list-item\"><a class=\"interlanguage-link-target\" href=\"https://th.wikipedia.org/wiki/\" hreflang=\"th\" lang=\"th\" title=\"Thai\"><span>ไทย</span></a></li><li class=\"interlanguage-link interwiki-tr mw-list-item\"><a class=\"interlanguage-link-target\" href=\"https://tr.wikipedia.org/wiki/\" hreflang=\"tr\" lang=\"tr\" title=\"Turkish\"><span>Türkçe</span></a></li><li class=\"interlanguage-link interwiki-uk mw-list-item\"><a class=\"interlanguage-link-target\" href=\"https://uk.wikipedia.org/wiki/\" hreflang=\"uk\" lang=\"uk\" title=\"Ukrainian\"><span>Українська</span></a></li><li class=\"interlanguage-link interwiki-vi mw-list-item\"><a class=\"interlanguage-link-target\" href=\"https://vi.wikipedia.org/wiki/\" hreflang=\"vi\" lang=\"vi\" title=\"Vietnamese\"><span>Tiếng Việt</span></a></li><li class=\"interlanguage-link interwiki-zh mw-list-item\"><a class=\"interlanguage-link-target\" href=\"https://zh.wikipedia.org/wiki/\" hreflang=\"zh\" lang=\"zh\" title=\"Chinese\"><span>中文</span></a></li>\n",
       "</ul>\n",
       "</div>\n",
       "</div>\n",
       "</div>\n",
       "</div>\n",
       "</main>\n",
       "</div>\n",
       "<div class=\"mw-footer-container\">\n",
       "<footer class=\"mw-footer\" id=\"footer\" role=\"contentinfo\">\n",
       "<ul id=\"footer-info\">\n",
       "<li id=\"footer-info-lastmod\"> This page was last edited on 5 October 2022, at 19:27<span class=\"anonymous-show\"> (UTC)</span>.</li>\n",
       "<li id=\"footer-info-copyright\">Text is available under the <a href=\"//en.wikipedia.org/wiki/Wikipedia:Text_of_the_Creative_Commons_Attribution-ShareAlike_4.0_International_License\" rel=\"license\">Creative Commons Attribution-ShareAlike License 4.0</a><a href=\"//en.wikipedia.org/wiki/Wikipedia:Text_of_the_Creative_Commons_Attribution-ShareAlike_4.0_International_License\" rel=\"license\" style=\"display:none;\"></a>;\n",
       "additional terms may apply.  By using this site, you agree to the <a href=\"//foundation.wikimedia.org/wiki/Terms_of_Use\">Terms of Use</a> and <a href=\"//foundation.wikimedia.org/wiki/Privacy_policy\">Privacy Policy</a>. Wikipedia® is a registered trademark of the <a href=\"//www.wikimediafoundation.org/\">Wikimedia Foundation, Inc.</a>, a non-profit organization.</li>\n",
       "</ul>\n",
       "<ul id=\"footer-places\">\n",
       "<li id=\"footer-places-privacy\"><a href=\"https://foundation.wikimedia.org/wiki/Special:MyLanguage/Policy:Privacy_policy\">Privacy policy</a></li>\n",
       "<li id=\"footer-places-about\"><a href=\"/wiki/Wikipedia:About\">About Wikipedia</a></li>\n",
       "<li id=\"footer-places-disclaimers\"><a href=\"/wiki/Wikipedia:General_disclaimer\">Disclaimers</a></li>\n",
       "<li id=\"footer-places-contact\"><a href=\"//en.wikipedia.org/wiki/Wikipedia:Contact_us\">Contact Wikipedia</a></li>\n",
       "<li id=\"footer-places-wm-codeofconduct\"><a href=\"https://foundation.wikimedia.org/wiki/Special:MyLanguage/Policy:Universal_Code_of_Conduct\">Code of Conduct</a></li>\n",
       "<li id=\"footer-places-developers\"><a href=\"https://developer.wikimedia.org\">Developers</a></li>\n",
       "<li id=\"footer-places-statslink\"><a href=\"https://stats.wikimedia.org/#/en.wikipedia.org\">Statistics</a></li>\n",
       "<li id=\"footer-places-cookiestatement\"><a href=\"https://foundation.wikimedia.org/wiki/Special:MyLanguage/Policy:Cookie_statement\">Cookie statement</a></li>\n",
       "<li id=\"footer-places-mobileview\"><a class=\"noprint stopMobileRedirectToggle\" href=\"//en.m.wikipedia.org/w/index.php?title=Main_Page&amp;mobileaction=toggle_view_mobile\">Mobile view</a></li>\n",
       "</ul>\n",
       "<ul class=\"noprint\" id=\"footer-icons\">\n",
       "<li id=\"footer-copyrightico\"><a href=\"https://wikimediafoundation.org/\"><img alt=\"Wikimedia Foundation\" height=\"31\" loading=\"lazy\" src=\"/static/images/footer/wikimedia-button.png\" srcset=\"/static/images/footer/wikimedia-button-1.5x.png 1.5x, /static/images/footer/wikimedia-button-2x.png 2x\" width=\"88\"/></a></li>\n",
       "<li id=\"footer-poweredbyico\"><a href=\"https://www.mediawiki.org/\"><img alt=\"Powered by MediaWiki\" height=\"31\" loading=\"lazy\" src=\"/static/images/footer/poweredby_mediawiki_88x31.png\" srcset=\"/static/images/footer/poweredby_mediawiki_132x47.png 1.5x, /static/images/footer/poweredby_mediawiki_176x62.png 2x\" width=\"88\"/></a></li>\n",
       "</ul>\n",
       "</footer>\n",
       "</div>\n",
       "</div>\n",
       "</div>\n",
       "<div class=\"vector-settings\" id=\"p-dock-bottom\">\n",
       "<ul>\n",
       "<li>\n",
       "<button class=\"cdx-button cdx-button--icon-only vector-limited-width-toggle\" id=\"\"><span class=\"vector-icon mw-ui-icon-fullScreen mw-ui-icon-wikimedia-fullScreen\"></span>\n",
       "<span>Toggle limited content width</span>\n",
       "</button>\n",
       "</li>\n",
       "</ul>\n",
       "</div>\n",
       "<script>(RLQ=window.RLQ||[]).push(function(){mw.config.set({\"wgHostname\":\"mw-web.codfw.main-c5f8f78d5-njqzw\",\"wgBackendResponseTime\":138,\"wgPageParseReport\":{\"limitreport\":{\"cputime\":\"0.351\",\"walltime\":\"0.455\",\"ppvisitednodes\":{\"value\":5291,\"limit\":1000000},\"postexpandincludesize\":{\"value\":136318,\"limit\":2097152},\"templateargumentsize\":{\"value\":13218,\"limit\":2097152},\"expansiondepth\":{\"value\":18,\"limit\":100},\"expensivefunctioncount\":{\"value\":15,\"limit\":500},\"unstrip-depth\":{\"value\":0,\"limit\":20},\"unstrip-size\":{\"value\":43173,\"limit\":5000000},\"entityaccesscount\":{\"value\":0,\"limit\":400},\"timingprofile\":[\"100.00%  334.379      1 -total\",\" 29.45%   98.491      1 Wikipedia:Main_Page/Tomorrow\",\" 23.57%   78.816      1 Wikipedia:Today's_featured_article/November_17,_2023\",\" 20.92%   69.965      9 Template:Main_page_image\",\" 14.40%   48.153      9 Template:Str_number/trim\",\" 12.88%   43.076      2 Template:Wikipedia_languages\",\" 12.76%   42.671      1 Template:Did_you_know/Queue/5\",\" 12.64%   42.280      1 Template:Did_you_know\",\" 12.02%   40.189     28 Template:Flatlist\",\" 10.98%   36.705      2 Template:TFArecentlist\"]},\"scribunto\":{\"limitreport-timeusage\":{\"value\":\"0.074\",\"limit\":\"10.000\"},\"limitreport-memusage\":{\"value\":3549647,\"limit\":52428800}},\"cachereport\":{\"origin\":\"mw-web.codfw.main-c5f8f78d5-vrbh4\",\"timestamp\":\"20231117110303\",\"ttl\":3600,\"transientcontent\":true}}});});</script>\n",
       "<script type=\"application/ld+json\">{\"@context\":\"https:\\/\\/schema.org\",\"@type\":\"Article\",\"name\":\"Main Page\",\"url\":\"https:\\/\\/en.wikipedia.org\\/wiki\\/Main_Page\",\"sameAs\":\"http:\\/\\/www.wikidata.org\\/entity\\/Q5296\",\"mainEntity\":\"http:\\/\\/www.wikidata.org\\/entity\\/Q5296\",\"author\":{\"@type\":\"Organization\",\"name\":\"Contributors to Wikimedia projects\"},\"publisher\":{\"@type\":\"Organization\",\"name\":\"Wikimedia Foundation, Inc.\",\"logo\":{\"@type\":\"ImageObject\",\"url\":\"https:\\/\\/www.wikimedia.org\\/static\\/images\\/wmf-hor-googpub.png\"}},\"datePublished\":\"2002-01-26T15:28:12Z\",\"dateModified\":\"2022-10-05T19:27:50Z\",\"image\":\"https:\\/\\/upload.wikimedia.org\\/wikipedia\\/commons\\/f\\/f8\\/Australiformis_Distribution.png\",\"headline\":\"Wikimedia project page\"}</script>\n",
       "</body>\n",
       "</html>"
      ]
     },
     "execution_count": 3,
     "metadata": {},
     "output_type": "execute_result"
    }
   ],
   "source": [
    "# Since the response code is 200. It is alright to create a BeautifulSoup object to parse the HTML content\n",
    "soup = BeautifulSoup(response.content,\"html.parser\")\n",
    "soup"
   ]
  },
  {
   "cell_type": "code",
   "execution_count": 8,
   "id": "2f6cd753",
   "metadata": {},
   "outputs": [],
   "source": [
    "# Finding all the headers (h1 to h6) by using the find_all method \n",
    "head_tags = soup.find_all([\"h1\",\"h2\",\"h3\",\"h4\",\"h5\",\"h6\"])\n",
    "head_inf = [tag.get_text() for tag in head_tags]"
   ]
  },
  {
   "cell_type": "code",
   "execution_count": 11,
   "id": "d457dba7",
   "metadata": {},
   "outputs": [],
   "source": [
    "# Creating a DataFrame\n",
    "df = pd.DataFrame(head_inf,columns=[\"Header\"])"
   ]
  },
  {
   "cell_type": "code",
   "execution_count": 12,
   "id": "25b43849",
   "metadata": {},
   "outputs": [
    {
     "data": {
      "text/html": [
       "<div>\n",
       "<style scoped>\n",
       "    .dataframe tbody tr th:only-of-type {\n",
       "        vertical-align: middle;\n",
       "    }\n",
       "\n",
       "    .dataframe tbody tr th {\n",
       "        vertical-align: top;\n",
       "    }\n",
       "\n",
       "    .dataframe thead th {\n",
       "        text-align: right;\n",
       "    }\n",
       "</style>\n",
       "<table border=\"1\" class=\"dataframe\">\n",
       "  <thead>\n",
       "    <tr style=\"text-align: right;\">\n",
       "      <th></th>\n",
       "      <th>Header</th>\n",
       "    </tr>\n",
       "  </thead>\n",
       "  <tbody>\n",
       "    <tr>\n",
       "      <th>0</th>\n",
       "      <td>Main Page</td>\n",
       "    </tr>\n",
       "    <tr>\n",
       "      <th>1</th>\n",
       "      <td>Welcome to Wikipedia</td>\n",
       "    </tr>\n",
       "    <tr>\n",
       "      <th>2</th>\n",
       "      <td>From today's featured article</td>\n",
       "    </tr>\n",
       "    <tr>\n",
       "      <th>3</th>\n",
       "      <td>Did you know ...</td>\n",
       "    </tr>\n",
       "    <tr>\n",
       "      <th>4</th>\n",
       "      <td>In the news</td>\n",
       "    </tr>\n",
       "    <tr>\n",
       "      <th>5</th>\n",
       "      <td>On this day</td>\n",
       "    </tr>\n",
       "    <tr>\n",
       "      <th>6</th>\n",
       "      <td>From today's featured list</td>\n",
       "    </tr>\n",
       "    <tr>\n",
       "      <th>7</th>\n",
       "      <td>Today's featured picture</td>\n",
       "    </tr>\n",
       "    <tr>\n",
       "      <th>8</th>\n",
       "      <td>Other areas of Wikipedia</td>\n",
       "    </tr>\n",
       "    <tr>\n",
       "      <th>9</th>\n",
       "      <td>Wikipedia's sister projects</td>\n",
       "    </tr>\n",
       "    <tr>\n",
       "      <th>10</th>\n",
       "      <td>Wikipedia languages</td>\n",
       "    </tr>\n",
       "  </tbody>\n",
       "</table>\n",
       "</div>"
      ],
      "text/plain": [
       "                           Header\n",
       "0                       Main Page\n",
       "1            Welcome to Wikipedia\n",
       "2   From today's featured article\n",
       "3                Did you know ...\n",
       "4                     In the news\n",
       "5                     On this day\n",
       "6      From today's featured list\n",
       "7        Today's featured picture\n",
       "8        Other areas of Wikipedia\n",
       "9     Wikipedia's sister projects\n",
       "10            Wikipedia languages"
      ]
     },
     "execution_count": 12,
     "metadata": {},
     "output_type": "execute_result"
    }
   ],
   "source": [
    "df"
   ]
  },
  {
   "cell_type": "markdown",
   "id": "396ce81b",
   "metadata": {},
   "source": [
    "Q2.Write s python program to display list of respected former presidents of India(i.e. Name , Term ofoffice)\n",
    "from https://presidentofindia.nic.in/former-presidents.htm and make data frame."
   ]
  },
  {
   "cell_type": "code",
   "execution_count": 1,
   "id": "4385f93b",
   "metadata": {},
   "outputs": [],
   "source": [
    "from bs4 import BeautifulSoup\n",
    "import requests\n",
    "import pandas as pd"
   ]
  },
  {
   "cell_type": "code",
   "execution_count": 2,
   "id": "ee4c84f3",
   "metadata": {},
   "outputs": [],
   "source": [
    "url = \"https://presidentofindia.nic.in/former-presidents#main-content\"\n",
    "response = requests.get(url)\n",
    "response\n",
    "soup = BeautifulSoup(response.content,\"html.parser\")"
   ]
  },
  {
   "cell_type": "code",
   "execution_count": 3,
   "id": "93814efe",
   "metadata": {},
   "outputs": [
    {
     "data": {
      "text/plain": [
       "[' Shri Ram Nath Kovind14th President of India',\n",
       " ' Shri Pranab Mukherjee13th President of India',\n",
       " ' Smt Pratibha Devisingh Patil12th President of India',\n",
       " ' DR. A.P.J. Abdul Kalam11th President of India',\n",
       " ' Shri K. R. Narayanan10th President of India',\n",
       " ' Dr Shankar Dayal Sharma9th  President of India',\n",
       " ' Shri R Venkataraman8th President of India',\n",
       " ' Giani Zail Singh7th President of India',\n",
       " ' Shri Neelam Sanjiva Reddy6th President of India',\n",
       " ' Dr. Fakhruddin Ali Ahmed5th President of India',\n",
       " ' Shri Varahagiri Venkata Giri4th President of India',\n",
       " ' Dr. Zakir Husain3rd President of India',\n",
       " ' Dr. Sarvepalli Radhakrishnan2nd President of India',\n",
       " ' Dr. Rajendra Prasad1st President of India']"
      ]
     },
     "execution_count": 3,
     "metadata": {},
     "output_type": "execute_result"
    }
   ],
   "source": [
    "names = []\n",
    "for i in soup.find_all(\"div\",class_=\"field-content\"):\n",
    "    names.append(i.text.replace(\"\\n\",\"\"))\n",
    "    \n",
    "names"
   ]
  },
  {
   "cell_type": "code",
   "execution_count": null,
   "id": "edcc8886",
   "metadata": {},
   "outputs": [],
   "source": [
    "terms = []\n",
    "terms = []\n",
    "for i in soup.find_all(\"span\",class_=\"bot-txt\"):\n",
    "    terms.append(i.text)\n",
    "    \n",
    "terms"
   ]
  },
  {
   "cell_type": "code",
   "execution_count": null,
   "id": "c0f63cc4",
   "metadata": {},
   "outputs": [],
   "source": [
    "df = pd.DataFrame({\"Names\":names,\"Term of Office\":terms})\n",
    "print(df)"
   ]
  },
  {
   "cell_type": "markdown",
   "id": "b8f6d85a",
   "metadata": {},
   "source": [
    "Q3. Write a python program to scrape cricket rankings from icc-cricket.com. You have to scrape and make data frame\n",
    "\n",
    "a) Top 10 ODI teams in men’s cricket along with the records for matches, points and rating.\n",
    "\n",
    "b) Top 10 ODI Batsmen along with the records of their team andrating.\n",
    "\n",
    "c) Top 10 ODI bowlers along with the records of their team andrating.\n"
   ]
  },
  {
   "cell_type": "code",
   "execution_count": 4,
   "id": "f794601f",
   "metadata": {},
   "outputs": [],
   "source": [
    "# Importing Necessary Libraries\n",
    "from bs4 import BeautifulSoup\n",
    "import requests\n",
    "import pandas as pd"
   ]
  },
  {
   "cell_type": "code",
   "execution_count": 5,
   "id": "fe4811cf",
   "metadata": {},
   "outputs": [
    {
     "data": {
      "text/plain": [
       "<Response [200]>"
      ]
     },
     "execution_count": 5,
     "metadata": {},
     "output_type": "execute_result"
    }
   ],
   "source": [
    "# Asking for Permission\n",
    "url = \"https://www.icc-cricket.com/rankings/mens/team-rankings/odi\"\n",
    "response = requests.get(url)\n",
    "response"
   ]
  },
  {
   "cell_type": "code",
   "execution_count": 6,
   "id": "eebc050b",
   "metadata": {},
   "outputs": [],
   "source": [
    "# Downloading Page Content\n",
    "soup = BeautifulSoup(response.content,\"html.parser\")"
   ]
  },
  {
   "cell_type": "code",
   "execution_count": 7,
   "id": "552cd6b5",
   "metadata": {},
   "outputs": [],
   "source": [
    "# Creating an empty list and looping through the table\n",
    "team_data = []\n",
    "table = soup.find(\"table\",class_=\"table\")\n",
    "rows = table.find_all(\"tr\")\n",
    "\n",
    "for row in rows[1:11]:\n",
    "    cells = row.find_all(\"td\")\n",
    "    team = cells[1].text.strip()\n",
    "    matches = cells[2].text.strip()\n",
    "    points = cells[3].text.strip()\n",
    "    ratings = cells[4].text.strip()\n",
    "    team_data.append([team,matches,points,ratings])"
   ]
  },
  {
   "cell_type": "code",
   "execution_count": 8,
   "id": "8605991c",
   "metadata": {},
   "outputs": [
    {
     "name": "stdout",
     "output_type": "stream",
     "text": [
      "              Teams Matches Points Rating\n",
      "0        India\\nIND      52  6,290    121\n",
      "1    Australia\\nAUS      38  4,318    114\n",
      "2  South Africa\\nSA      32  3,550    111\n",
      "3     Pakistan\\nPAK      35  3,874    111\n",
      "4   New Zealand\\nNZ      41  4,189    102\n",
      "5      England\\nENG      36  3,509     97\n",
      "6     Sri Lanka\\nSL      46  4,082     89\n",
      "7   Bangladesh\\nBAN      43  3,772     88\n",
      "8  Afghanistan\\nAFG      28  2,408     86\n",
      "9   West Indies\\nWI      38  2,582     68\n"
     ]
    }
   ],
   "source": [
    "# Creating a Data Frame\n",
    "df = pd.DataFrame(team_data, columns = [\"Teams\",\"Matches\",\"Points\",\"Rating\"])\n",
    "print(df)"
   ]
  },
  {
   "cell_type": "code",
   "execution_count": 9,
   "id": "a990ac01",
   "metadata": {},
   "outputs": [
    {
     "data": {
      "text/plain": [
       "<Response [200]>"
      ]
     },
     "execution_count": 9,
     "metadata": {},
     "output_type": "execute_result"
    }
   ],
   "source": [
    "# Asking for Permission\n",
    "url = \"https://www.icc-cricket.com/rankings/mens/player-rankings/odi/batting\"\n",
    "response = requests.get(url)\n",
    "response"
   ]
  },
  {
   "cell_type": "code",
   "execution_count": 10,
   "id": "e3674b0c",
   "metadata": {},
   "outputs": [],
   "source": [
    "# Downloading Page Content\n",
    "soup = BeautifulSoup(response.content,\"html.parser\")"
   ]
  },
  {
   "cell_type": "code",
   "execution_count": 11,
   "id": "15dd9729",
   "metadata": {},
   "outputs": [],
   "source": [
    "# Creating an empty list and looping through the table\n",
    "batsmen_data = []\n",
    "table = soup.find(\"table\",class_=\"table\")\n",
    "rows = table.find_all(\"tr\")\n",
    "\n",
    "for row in rows[1:11]:\n",
    "    cells = row.find_all(\"td\")\n",
    "    player = cells[1].text.strip()\n",
    "    team = cells[2].text.strip()\n",
    "    ratings = cells[3].text.strip()\n",
    "    career_rating = cells[4].text.strip()\n",
    "    batsmen_data.append([player,team,ratings,career_rating])"
   ]
  },
  {
   "cell_type": "code",
   "execution_count": 12,
   "id": "09c93e75",
   "metadata": {},
   "outputs": [
    {
     "name": "stdout",
     "output_type": "stream",
     "text": [
      "                  Player Team Rating                    Career Best\n",
      "0           Shubman Gill  IND    832    847 v Australia, 24/09/2023\n",
      "1             Babar Azam  PAK    824  898 v West Indies, 10/06/2022\n",
      "2        Quinton de Kock   SA    773    813 v Sri Lanka, 10/03/2019\n",
      "3            Virat Kohli  IND    772      911 v England, 12/07/2018\n",
      "4           Rohit Sharma  IND    760    885 v Sri Lanka, 06/07/2019\n",
      "5  Rassie van der Dussen   SA    753      796 v England, 19/07/2022\n",
      "6           David Warner  AUS    751     880 v Pakistan, 26/01/2017\n",
      "7           Harry Tector  IRE    729      729 v England, 23/09/2023\n",
      "8            Dawid Malan  ENG    729  730 v Netherlands, 08/11/2023\n",
      "9       Heinrich Klaasen   SA    712   756 v Bangladesh, 24/10/2023\n"
     ]
    }
   ],
   "source": [
    "# Creating a Data Frame\n",
    "df = pd.DataFrame(batsmen_data, columns=[\"Player\",\"Team\",\"Rating\",\"Career Best\"])\n",
    "print(df)"
   ]
  },
  {
   "cell_type": "code",
   "execution_count": 13,
   "id": "e5bbde96",
   "metadata": {},
   "outputs": [
    {
     "data": {
      "text/plain": [
       "<Response [200]>"
      ]
     },
     "execution_count": 13,
     "metadata": {},
     "output_type": "execute_result"
    }
   ],
   "source": [
    "# Asking for Permission\n",
    "url = \"https://www.icc-cricket.com/rankings/mens/player-rankings/odi/bowling\"\n",
    "response = requests.get(url)\n",
    "response"
   ]
  },
  {
   "cell_type": "code",
   "execution_count": 14,
   "id": "a6e8cabb",
   "metadata": {},
   "outputs": [],
   "source": [
    "# Downloading Page Content\n",
    "soup = BeautifulSoup(response.content,\"html.parser\")"
   ]
  },
  {
   "cell_type": "code",
   "execution_count": null,
   "id": "0ecbf613",
   "metadata": {},
   "outputs": [],
   "source": [
    "# Creating an empty list and looping through the table\n",
    "bowler_data = []\n",
    "table = soup.find(\"table\",class_=\"table\")\n",
    "rows = table.find_all(\"tr\")\n",
    "\n",
    "for row in rows[1:11]:\n",
    "    cells = row.find_all(\"td\")\n",
    "    player = cells[1].text.strip()\n",
    "    team = cells[2].text.strip()\n",
    "    rating = cells[3].text.strip()\n",
    "    career_best = cells[4].text.strip()\n",
    "    bowler_data.append([player,team,rating,career_best])"
   ]
  },
  {
   "cell_type": "code",
   "execution_count": null,
   "id": "b9510980",
   "metadata": {},
   "outputs": [],
   "source": [
    "# Creating a Data Frame\n",
    "df = pd.DataFrame(bowler_data, columns=[\"Player\",\"Team\",\"Rating\",\"Career Best\"])\n",
    "print(df)"
   ]
  },
  {
   "cell_type": "code",
   "execution_count": null,
   "id": "bf249ca6",
   "metadata": {},
   "outputs": [],
   "source": [
    "# Creating a common DataFrame \n",
    "df = pd.DataFrame({\"Team Data\":team_data,\"Batsmen Data\":batsmen_data,\"Bowler Data\":bowler_data})\n",
    "print(df)"
   ]
  },
  {
   "cell_type": "markdown",
   "id": "ba0fbd95",
   "metadata": {},
   "source": [
    "Q4. Write a python program to scrape cricket rankings from icc-cricket.com. You have to scrape and make data frame\n",
    "\n",
    "a) Top 10 ODI teams in women’s cricket along with the records for matches, points and rating.\n",
    "\n",
    "b) Top 10 women’s ODI Batting players along with the records of their team and rating.\n",
    "\n",
    "c) Top 10 women’s ODI all-rounder along with the records of their team and rating."
   ]
  },
  {
   "cell_type": "code",
   "execution_count": null,
   "id": "7f65a8e7",
   "metadata": {},
   "outputs": [],
   "source": [
    "# Importing Necessary Libraries\n",
    "from bs4 import BeautifulSoup\n",
    "import requests\n",
    "import pandas as pd"
   ]
  },
  {
   "cell_type": "code",
   "execution_count": null,
   "id": "c1556cc7",
   "metadata": {},
   "outputs": [],
   "source": [
    "# Asking for Permission to get the response code\n",
    "url = \"https://www.icc-cricket.com/rankings/womens/team-rankings/odi\"\n",
    "response = requests.get(url)\n",
    "response"
   ]
  },
  {
   "cell_type": "code",
   "execution_count": null,
   "id": "7275f734",
   "metadata": {},
   "outputs": [],
   "source": [
    "# Downloading Page Content\n",
    "soup = BeautifulSoup(response.content,\"html.parser\")"
   ]
  },
  {
   "cell_type": "code",
   "execution_count": null,
   "id": "1b1c76c0",
   "metadata": {},
   "outputs": [],
   "source": [
    "# Creating an empty list to store the Team Data\n",
    "team_data = []\n",
    "table = soup.find(\"table\",class_=\"table\")\n",
    "rows = table.find_all(\"tr\")"
   ]
  },
  {
   "cell_type": "code",
   "execution_count": null,
   "id": "41fb3bb1",
   "metadata": {},
   "outputs": [],
   "source": [
    "# Looping through the data to get the first 10 teams and thier info.\n",
    "for row in rows[1:11]:\n",
    "    cells = row.find_all(\"td\")\n",
    "    team = cells[1].text.strip()\n",
    "    matches = cells[2].text.strip()\n",
    "    point = cells[3].text.strip()\n",
    "    rating = cells[4].text.strip()\n",
    "    team_data.append([team,matches,point,rating])"
   ]
  },
  {
   "cell_type": "code",
   "execution_count": null,
   "id": "17c3dd68",
   "metadata": {},
   "outputs": [],
   "source": [
    "# Creating a pandas Data Frame\n",
    "df = pd.DataFrame(team_data, columns=[\"Team\",\"Matches\",\"Point\",\"Rating\"])\n",
    "print(df)"
   ]
  },
  {
   "cell_type": "code",
   "execution_count": null,
   "id": "5f7d854c",
   "metadata": {},
   "outputs": [],
   "source": [
    "# Asking for Permission to get the response code\n",
    "url = \"https://www.icc-cricket.com/rankings/womens/player-rankings/odi/batting\"\n",
    "response = requests.get(url)\n",
    "response"
   ]
  },
  {
   "cell_type": "code",
   "execution_count": null,
   "id": "c238d3fa",
   "metadata": {},
   "outputs": [],
   "source": [
    "# Downloading Page Content\n",
    "soup = BeautifulSoup(response.content,\"html.parser\")"
   ]
  },
  {
   "cell_type": "code",
   "execution_count": null,
   "id": "42d141de",
   "metadata": {},
   "outputs": [],
   "source": [
    "# Creating an empty list to store the Batting Data and looping through it.\n",
    "batting_data = []\n",
    "table = soup.find(\"table\",class_=\"table\")\n",
    "rows = table.find_all(\"tr\")\n",
    "\n",
    "for row in rows[1:11]:\n",
    "    cells = row.find_all(\"td\")\n",
    "    player = cells[1].text.strip()\n",
    "    team = cells[2].text.strip()\n",
    "    rating = cells[3].text.strip()\n",
    "    career = cells[4].text.strip()\n",
    "    batting_data.append([player,team,rating,career])"
   ]
  },
  {
   "cell_type": "code",
   "execution_count": null,
   "id": "1e257a9c",
   "metadata": {},
   "outputs": [],
   "source": [
    "# Creating a Pandas Data Frame\n",
    "df = pd.DataFrame(batting_data, columns=[\"Player\",\"Team\",\"Rating\",\"Career Best\"])\n",
    "print(df)"
   ]
  },
  {
   "cell_type": "code",
   "execution_count": null,
   "id": "a176ae24",
   "metadata": {},
   "outputs": [],
   "source": [
    "# Asking for Permission to get the response code\n",
    "url = \"https://www.icc-cricket.com/rankings/womens/player-rankings/odi/all-rounder\"\n",
    "response = requests.get(url)\n",
    "response"
   ]
  },
  {
   "cell_type": "code",
   "execution_count": null,
   "id": "34d7095c",
   "metadata": {},
   "outputs": [],
   "source": [
    "# Downloading Page Content\n",
    "soup = BeautifulSoup(response.content,\"html.parser\")"
   ]
  },
  {
   "cell_type": "code",
   "execution_count": null,
   "id": "b66b9cac",
   "metadata": {},
   "outputs": [],
   "source": [
    "# Creating an empty list to store the All rounder Data and looping through it.\n",
    "all_rounder = []\n",
    "table = soup.find(\"table\",class_=\"table\")\n",
    "rows = table.find_all(\"tr\")\n",
    "\n",
    "for row in rows[1:11]:\n",
    "    cells = row.find_all(\"td\")\n",
    "    player = cells[1].text.strip()\n",
    "    team = cells[2].text.strip()\n",
    "    rating = cells[3].text.strip()\n",
    "    career = cells[4].text.strip()\n",
    "    all_rounder.append([player,team,rating,career])"
   ]
  },
  {
   "cell_type": "code",
   "execution_count": null,
   "id": "197af15a",
   "metadata": {},
   "outputs": [],
   "source": [
    "# Creating a Pandas Dataframe.\n",
    "df = pd.DataFrame(all_rounder,columns=[\"Player\",\"Team\",\"Rating\",\"Career Best\"])\n",
    "print(df)"
   ]
  },
  {
   "cell_type": "markdown",
   "id": "11077a4d",
   "metadata": {},
   "source": [
    "Q5. Write a python program to scrape mentioned news details from https://www.cnbc.com/world/?region=world and\n",
    "make data frame\n",
    "\n",
    "i) Headline\n",
    "\n",
    "ii) Time\n",
    "\n",
    "iii) News Link"
   ]
  },
  {
   "cell_type": "code",
   "execution_count": null,
   "id": "053ec7d5",
   "metadata": {},
   "outputs": [],
   "source": [
    "# Importing Necessary Libraries\n",
    "from bs4 import BeautifulSoup\n",
    "import requests\n",
    "import pandas as pd"
   ]
  },
  {
   "cell_type": "code",
   "execution_count": null,
   "id": "bb593c3b",
   "metadata": {},
   "outputs": [],
   "source": [
    "# Asking for sites permission to get the response code\n",
    "url = \"https://www.cnbc.com/world/?region=world\"\n",
    "response = requests.get(url)\n",
    "response"
   ]
  },
  {
   "cell_type": "code",
   "execution_count": null,
   "id": "769e1892",
   "metadata": {},
   "outputs": [],
   "source": [
    "# Downloading page content\n",
    "soup = BeautifulSoup(response.content,\"html.parser\")"
   ]
  },
  {
   "cell_type": "code",
   "execution_count": null,
   "id": "a91aa409",
   "metadata": {},
   "outputs": [],
   "source": [
    "# Creating an empty list and looping through it with .find_all\n",
    "headlines = []\n",
    "for article in soup.find_all(\"a\",class_=\"LatestNews-headline\"):\n",
    "    headlines.append(article.text.strip())"
   ]
  },
  {
   "cell_type": "code",
   "execution_count": null,
   "id": "d256bb9b",
   "metadata": {},
   "outputs": [],
   "source": [
    "# Creating an empty list and looping through it with .find_all\n",
    "times = []\n",
    "for time in soup.find_all(\"time\",class_=\"LatestNews-timestamp\"):\n",
    "    times.append(time.text)"
   ]
  },
  {
   "cell_type": "code",
   "execution_count": null,
   "id": "7cb9b81d",
   "metadata": {},
   "outputs": [],
   "source": [
    "# Creating an empty list and looping through it with .find_all\n",
    "links = []\n",
    "for link in soup.find_all(\"a\",class_=\"LatestNews-headline\"):\n",
    "    news_link = link[\"href\"]\n",
    "    links.append(news_link)"
   ]
  },
  {
   "cell_type": "code",
   "execution_count": null,
   "id": "d20f50c4",
   "metadata": {},
   "outputs": [],
   "source": [
    "# Creating a DataFrame\n",
    "df = pd.DataFrame({\"Headlines\":headlines,\"Time of Event\":times,\"Links\":links})"
   ]
  },
  {
   "cell_type": "code",
   "execution_count": null,
   "id": "71bc5a8f",
   "metadata": {},
   "outputs": [],
   "source": [
    "print(df)"
   ]
  },
  {
   "cell_type": "markdown",
   "id": "d6b0ffe1",
   "metadata": {},
   "source": [
    "Q6. Write a python program to scrape the details of most downloaded articles from AI in last 90\n",
    "days.https://www.journals.elsevier.com/artificial-intelligence/most-downloaded-articles\n",
    "Scrape below mentioned details and make data frame\n",
    "\n",
    "i) Paper Title\n",
    "\n",
    "ii) Authors\n",
    "\n",
    "iii) Published Date\n",
    "\n",
    "iv) Paper URL"
   ]
  },
  {
   "cell_type": "code",
   "execution_count": null,
   "id": "f567ffb5",
   "metadata": {},
   "outputs": [],
   "source": [
    "# Importing Necessary Libraries\n",
    "from bs4 import BeautifulSoup\n",
    "import requests\n",
    "import pandas as pd"
   ]
  },
  {
   "cell_type": "code",
   "execution_count": null,
   "id": "68d56c35",
   "metadata": {},
   "outputs": [],
   "source": [
    "# Requesting for permission from the page\n",
    "url = \"https://www.journals.elsevier.com/artificial-intelligence/most-downloaded-articles\"\n",
    "response = requests.get(url)\n",
    "response"
   ]
  },
  {
   "cell_type": "code",
   "execution_count": null,
   "id": "d1765e78",
   "metadata": {},
   "outputs": [],
   "source": [
    "# Downloading the page content\n",
    "soup = BeautifulSoup(response.content,\"html.parser\")"
   ]
  },
  {
   "cell_type": "code",
   "execution_count": null,
   "id": "c8e8ca4b",
   "metadata": {},
   "outputs": [],
   "source": [
    "# Creating an empty list and looping through it with a for loop for Paper Title\n",
    "paper_title = []\n",
    "for title in soup.find_all(\"h2\",class_=\"sc-1qrq3sd-1 gRGSUS sc-1nmom32-0 sc-1nmom32-1 btcbYu goSKRg\"):\n",
    "    paper_title.append(title.text.strip())"
   ]
  },
  {
   "cell_type": "code",
   "execution_count": null,
   "id": "e688307d",
   "metadata": {},
   "outputs": [],
   "source": [
    "# Creating an empty list and looping through it with a for loop for Paper Author\n",
    "paper_author = []\n",
    "for author in soup.find_all(\"span\",class_=\"sc-1w3fpd7-0 dnCnAO\"):\n",
    "    paper_author.append(author.text.strip())"
   ]
  },
  {
   "cell_type": "code",
   "execution_count": null,
   "id": "b2b9ced4",
   "metadata": {},
   "outputs": [],
   "source": [
    "# Creating an empty list and looping through it with a for loop for Paper Published Date\n",
    "pub_date = []\n",
    "for date in soup.find_all(\"span\",class_=\"sc-1thf9ly-2 dvggWt\"):\n",
    "    pub_date.append(date.text.strip())"
   ]
  },
  {
   "cell_type": "code",
   "execution_count": null,
   "id": "e42242b1",
   "metadata": {},
   "outputs": [],
   "source": [
    "# Creating an empty list and looping through it with a for loop for the URL \n",
    "paper_url = []\n",
    "for url in soup.find_all(\"a\",class_=\"sc-5smygv-0 fIXTHm\"):\n",
    "    url_link = url[\"href\"]\n",
    "    paper_url.append(url_link)"
   ]
  },
  {
   "cell_type": "code",
   "execution_count": null,
   "id": "561b4b3f",
   "metadata": {},
   "outputs": [],
   "source": [
    "# Creating a Data Frame \n",
    "df = pd.DataFrame({\"Paper Title\":paper_title,\"Author\":paper_author,\"Published Date\":pub_date,\"URL\":paper_url})"
   ]
  },
  {
   "cell_type": "code",
   "execution_count": null,
   "id": "10ff04ac",
   "metadata": {},
   "outputs": [],
   "source": [
    "print(df)"
   ]
  },
  {
   "cell_type": "markdown",
   "id": "5ce7e476",
   "metadata": {},
   "source": [
    "Q7. Write a python program to scrape mentioned details from dineout.co.inand make data frame\n",
    "\n",
    "i) Restaurant name\n",
    "\n",
    "ii) Cuisine\n",
    "\n",
    "iii) Location\n",
    "\n",
    "iv) Ratings\n",
    "\n",
    "v) Image URL"
   ]
  },
  {
   "cell_type": "code",
   "execution_count": null,
   "id": "8f986e7a",
   "metadata": {},
   "outputs": [],
   "source": [
    "# Importing all the Necessary Libraries\n",
    "from bs4 import BeautifulSoup\n",
    "import requests\n",
    "import pandas as pd"
   ]
  },
  {
   "cell_type": "code",
   "execution_count": null,
   "id": "044d8797",
   "metadata": {},
   "outputs": [],
   "source": [
    "# Requesting for Permission for the response code\n",
    "url = \"https://www.dineout.co.in/delhi-restaurants/buffet-special\"\n",
    "response = requests.get(url)\n",
    "response"
   ]
  },
  {
   "cell_type": "code",
   "execution_count": null,
   "id": "3b92bb12",
   "metadata": {},
   "outputs": [],
   "source": [
    "# Downloading the page content \n",
    "soup = BeautifulSoup(response.content,\"html.parser\")"
   ]
  },
  {
   "cell_type": "code",
   "execution_count": null,
   "id": "aa5fad3f",
   "metadata": {},
   "outputs": [],
   "source": [
    "# Creating an empty list and looping through the table for titles\n",
    "titles = []\n",
    "for name in soup.find_all(\"a\",class_=\"restnt-name ellipsis\"):\n",
    "    titles.append(name.text.strip())\n",
    "    \n",
    "titles"
   ]
  },
  {
   "cell_type": "code",
   "execution_count": null,
   "id": "941b8629",
   "metadata": {},
   "outputs": [],
   "source": [
    "# Creating an empty list and looping through the table for Cuisine\n",
    "cuisine = []\n",
    "for food in soup.find_all(\"span\",class_=\"double-line-ellipsis\"):\n",
    "    cuisine.append(food.text.strip())"
   ]
  },
  {
   "cell_type": "code",
   "execution_count": null,
   "id": "23703f12",
   "metadata": {},
   "outputs": [],
   "source": [
    "# Creating an empty list and looping through the table for Location\n",
    "location = []\n",
    "for place in soup.find_all(\"div\",class_=\"restnt-loc ellipsis\"):\n",
    "    location.append(place.text.strip())"
   ]
  },
  {
   "cell_type": "code",
   "execution_count": null,
   "id": "68b1d20c",
   "metadata": {},
   "outputs": [],
   "source": [
    "# Creating an empty list and looping through the table for Ratings\n",
    "ratings = []\n",
    "for star in soup.find_all(\"div\",class_=\"restnt-rating rating-4\"):\n",
    "    ratings.append(star.text.strip())"
   ]
  },
  {
   "cell_type": "code",
   "execution_count": null,
   "id": "9eeaf959",
   "metadata": {},
   "outputs": [],
   "source": [
    "# Creating an empty list and looping through the table for Image URL\n",
    "image_url = []\n",
    "for url in soup.find_all(\"img\",class_=\"no-img\"):\n",
    "    image_url.append(url[\"data-src\"])"
   ]
  },
  {
   "cell_type": "code",
   "execution_count": null,
   "id": "aea7d49c",
   "metadata": {},
   "outputs": [],
   "source": [
    "# Creating a Pandas DataFrame\n",
    "df = pd.DataFrame({\"Name of Place\":titles,\"Location\":location,\"Cuisine\":cuisine,\"Ratings\":ratings,\"Image URL\":image_url})"
   ]
  },
  {
   "cell_type": "code",
   "execution_count": null,
   "id": "4524f7de",
   "metadata": {},
   "outputs": [],
   "source": [
    "print(df)"
   ]
  }
 ],
 "metadata": {
  "kernelspec": {
   "display_name": "Python 3",
   "language": "python",
   "name": "python3"
  },
  "language_info": {
   "codemirror_mode": {
    "name": "ipython",
    "version": 3
   },
   "file_extension": ".py",
   "mimetype": "text/x-python",
   "name": "python",
   "nbconvert_exporter": "python",
   "pygments_lexer": "ipython3",
   "version": "3.8.8"
  }
 },
 "nbformat": 4,
 "nbformat_minor": 5
}
