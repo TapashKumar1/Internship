{
 "cells": [
  {
   "cell_type": "markdown",
   "id": "8905b6d8",
   "metadata": {},
   "source": [
    "Q1: Write a python program to scrape data for “Data Analyst” Job position in “Bangalore” location. You have to scrape the job-title, job-location, company_name, experience_required. You have to scrape first 10 jobs data.\n",
    "This task will be done in following steps:\n",
    "1. First get the webpage https://www.shine.com/\n",
    "2. Enter “Data Analyst” in “Job title, Skills” field and enter “Bangalore” in “enter the location” field.\n",
    "3. Then click the search button.\n",
    "4. Then scrape the data for the first 10 jobs results you get.\n",
    "5. Finally create a dataframe of the scraped data."
   ]
  },
  {
   "cell_type": "code",
   "execution_count": 1,
   "id": "5869b601",
   "metadata": {},
   "outputs": [],
   "source": [
    "# Importing Necessary Libraries\n",
    "import selenium\n",
    "from selenium import webdriver\n",
    "import pandas as pd\n",
    "from selenium.webdriver.common.by import By\n",
    "from selenium.webdriver.common.keys import Keys\n",
    "import warnings\n",
    "warnings.filterwarnings(\"ignore\")\n",
    "import time"
   ]
  },
  {
   "cell_type": "code",
   "execution_count": 2,
   "id": "f924f00b",
   "metadata": {},
   "outputs": [],
   "source": [
    "# Opening an automated web browser and website\n",
    "driver = webdriver.Chrome()\n",
    "driver.get(\"https://www.shine.com/\")"
   ]
  },
  {
   "cell_type": "code",
   "execution_count": 4,
   "id": "9a2f36d4",
   "metadata": {},
   "outputs": [],
   "source": [
    "# Scraping the Job field and entering \"Data Analyst\" in the field\n",
    "job_field = driver.find_element(By.ID,\"id_q\")\n",
    "job_field.send_keys(\"Data Analyst\")"
   ]
  },
  {
   "cell_type": "code",
   "execution_count": 5,
   "id": "bf432400",
   "metadata": {},
   "outputs": [],
   "source": [
    "# Scraping location field and entering \"Bangalore\" in the empty field.\n",
    "job_location = driver.find_element(By.ID,\"id_loc\")\n",
    "job_location.send_keys(\"Bangalore\")"
   ]
  },
  {
   "cell_type": "code",
   "execution_count": 6,
   "id": "fe932e09",
   "metadata": {},
   "outputs": [],
   "source": [
    "search = driver.find_element(By.XPATH,\"/html/body/div/div[4]/div/div[2]/div[2]/div/form/div/div[2]/div/button\")\n",
    "search.click()"
   ]
  },
  {
   "cell_type": "code",
   "execution_count": 31,
   "id": "02895674",
   "metadata": {},
   "outputs": [
    {
     "data": {
      "text/plain": [
       "[<selenium.webdriver.remote.webelement.WebElement (session=\"fb066113abb0784b053413af426510b6\", element=\"D1115E76FDF4E516FE24EC2E41BA431B_element_4376\")>,\n",
       " <selenium.webdriver.remote.webelement.WebElement (session=\"fb066113abb0784b053413af426510b6\", element=\"D1115E76FDF4E516FE24EC2E41BA431B_element_4467\")>,\n",
       " <selenium.webdriver.remote.webelement.WebElement (session=\"fb066113abb0784b053413af426510b6\", element=\"D1115E76FDF4E516FE24EC2E41BA431B_element_4468\")>,\n",
       " <selenium.webdriver.remote.webelement.WebElement (session=\"fb066113abb0784b053413af426510b6\", element=\"D1115E76FDF4E516FE24EC2E41BA431B_element_4469\")>,\n",
       " <selenium.webdriver.remote.webelement.WebElement (session=\"fb066113abb0784b053413af426510b6\", element=\"D1115E76FDF4E516FE24EC2E41BA431B_element_4470\")>,\n",
       " <selenium.webdriver.remote.webelement.WebElement (session=\"fb066113abb0784b053413af426510b6\", element=\"D1115E76FDF4E516FE24EC2E41BA431B_element_4471\")>,\n",
       " <selenium.webdriver.remote.webelement.WebElement (session=\"fb066113abb0784b053413af426510b6\", element=\"D1115E76FDF4E516FE24EC2E41BA431B_element_4472\")>,\n",
       " <selenium.webdriver.remote.webelement.WebElement (session=\"fb066113abb0784b053413af426510b6\", element=\"D1115E76FDF4E516FE24EC2E41BA431B_element_4473\")>,\n",
       " <selenium.webdriver.remote.webelement.WebElement (session=\"fb066113abb0784b053413af426510b6\", element=\"D1115E76FDF4E516FE24EC2E41BA431B_element_4474\")>,\n",
       " <selenium.webdriver.remote.webelement.WebElement (session=\"fb066113abb0784b053413af426510b6\", element=\"D1115E76FDF4E516FE24EC2E41BA431B_element_4475\")>,\n",
       " <selenium.webdriver.remote.webelement.WebElement (session=\"fb066113abb0784b053413af426510b6\", element=\"D1115E76FDF4E516FE24EC2E41BA431B_element_4476\")>,\n",
       " <selenium.webdriver.remote.webelement.WebElement (session=\"fb066113abb0784b053413af426510b6\", element=\"D1115E76FDF4E516FE24EC2E41BA431B_element_4477\")>,\n",
       " <selenium.webdriver.remote.webelement.WebElement (session=\"fb066113abb0784b053413af426510b6\", element=\"D1115E76FDF4E516FE24EC2E41BA431B_element_4478\")>,\n",
       " <selenium.webdriver.remote.webelement.WebElement (session=\"fb066113abb0784b053413af426510b6\", element=\"D1115E76FDF4E516FE24EC2E41BA431B_element_4479\")>,\n",
       " <selenium.webdriver.remote.webelement.WebElement (session=\"fb066113abb0784b053413af426510b6\", element=\"D1115E76FDF4E516FE24EC2E41BA431B_element_4480\")>,\n",
       " <selenium.webdriver.remote.webelement.WebElement (session=\"fb066113abb0784b053413af426510b6\", element=\"D1115E76FDF4E516FE24EC2E41BA431B_element_4481\")>,\n",
       " <selenium.webdriver.remote.webelement.WebElement (session=\"fb066113abb0784b053413af426510b6\", element=\"D1115E76FDF4E516FE24EC2E41BA431B_element_4482\")>,\n",
       " <selenium.webdriver.remote.webelement.WebElement (session=\"fb066113abb0784b053413af426510b6\", element=\"D1115E76FDF4E516FE24EC2E41BA431B_element_4483\")>,\n",
       " <selenium.webdriver.remote.webelement.WebElement (session=\"fb066113abb0784b053413af426510b6\", element=\"D1115E76FDF4E516FE24EC2E41BA431B_element_4484\")>,\n",
       " <selenium.webdriver.remote.webelement.WebElement (session=\"fb066113abb0784b053413af426510b6\", element=\"D1115E76FDF4E516FE24EC2E41BA431B_element_4485\")>]"
      ]
     },
     "execution_count": 31,
     "metadata": {},
     "output_type": "execute_result"
    }
   ],
   "source": [
    "# Scraping title of the job profile\n",
    "title_tags = driver.find_elements(By.XPATH,'//h2[@itemprop=\"name\"]')\n",
    "title_tags"
   ]
  },
  {
   "cell_type": "code",
   "execution_count": 32,
   "id": "e564977b",
   "metadata": {},
   "outputs": [
    {
     "data": {
      "text/plain": [
       "['Data Analyst',\n",
       " 'Vacancy For Data Analyst',\n",
       " 'Project Coordinator (Data Analyst) Bangalore',\n",
       " 'Project Coordinator (Data analyst) Bangalore',\n",
       " 'Data analyst - Java / Python',\n",
       " 'Business Data Analyst - Modeling & Profiling',\n",
       " 'Data Analyst - Java/Python BANGALORE',\n",
       " 'Data Analyst - Java/Python',\n",
       " 'Data Analyst - SQL/ Database Maintenance',\n",
       " 'Business Data Analyst - Modeling & Profiling']"
      ]
     },
     "execution_count": 32,
     "metadata": {},
     "output_type": "execute_result"
    }
   ],
   "source": [
    "# Creating an empty list for job titles and looping through the first 10 results.\n",
    "job_titles = []\n",
    "for i in title_tags:\n",
    "    if i.text is None:\n",
    "        job_titles.append('Not')\n",
    "    else:\n",
    "        job_titles.append(i.text)\n",
    "\n",
    "job_titles[:10]"
   ]
  },
  {
   "cell_type": "code",
   "execution_count": 34,
   "id": "57ce4043",
   "metadata": {},
   "outputs": [
    {
     "data": {
      "text/plain": [
       "[<selenium.webdriver.remote.webelement.WebElement (session=\"fb066113abb0784b053413af426510b6\", element=\"D1115E76FDF4E516FE24EC2E41BA431B_element_4715\")>,\n",
       " <selenium.webdriver.remote.webelement.WebElement (session=\"fb066113abb0784b053413af426510b6\", element=\"D1115E76FDF4E516FE24EC2E41BA431B_element_4717\")>,\n",
       " <selenium.webdriver.remote.webelement.WebElement (session=\"fb066113abb0784b053413af426510b6\", element=\"D1115E76FDF4E516FE24EC2E41BA431B_element_4718\")>,\n",
       " <selenium.webdriver.remote.webelement.WebElement (session=\"fb066113abb0784b053413af426510b6\", element=\"D1115E76FDF4E516FE24EC2E41BA431B_element_4719\")>,\n",
       " <selenium.webdriver.remote.webelement.WebElement (session=\"fb066113abb0784b053413af426510b6\", element=\"D1115E76FDF4E516FE24EC2E41BA431B_element_4706\")>,\n",
       " <selenium.webdriver.remote.webelement.WebElement (session=\"fb066113abb0784b053413af426510b6\", element=\"D1115E76FDF4E516FE24EC2E41BA431B_element_4720\")>,\n",
       " <selenium.webdriver.remote.webelement.WebElement (session=\"fb066113abb0784b053413af426510b6\", element=\"D1115E76FDF4E516FE24EC2E41BA431B_element_4721\")>,\n",
       " <selenium.webdriver.remote.webelement.WebElement (session=\"fb066113abb0784b053413af426510b6\", element=\"D1115E76FDF4E516FE24EC2E41BA431B_element_4722\")>,\n",
       " <selenium.webdriver.remote.webelement.WebElement (session=\"fb066113abb0784b053413af426510b6\", element=\"D1115E76FDF4E516FE24EC2E41BA431B_element_4723\")>,\n",
       " <selenium.webdriver.remote.webelement.WebElement (session=\"fb066113abb0784b053413af426510b6\", element=\"D1115E76FDF4E516FE24EC2E41BA431B_element_4724\")>,\n",
       " <selenium.webdriver.remote.webelement.WebElement (session=\"fb066113abb0784b053413af426510b6\", element=\"D1115E76FDF4E516FE24EC2E41BA431B_element_4725\")>,\n",
       " <selenium.webdriver.remote.webelement.WebElement (session=\"fb066113abb0784b053413af426510b6\", element=\"D1115E76FDF4E516FE24EC2E41BA431B_element_4726\")>,\n",
       " <selenium.webdriver.remote.webelement.WebElement (session=\"fb066113abb0784b053413af426510b6\", element=\"D1115E76FDF4E516FE24EC2E41BA431B_element_4727\")>,\n",
       " <selenium.webdriver.remote.webelement.WebElement (session=\"fb066113abb0784b053413af426510b6\", element=\"D1115E76FDF4E516FE24EC2E41BA431B_element_4728\")>,\n",
       " <selenium.webdriver.remote.webelement.WebElement (session=\"fb066113abb0784b053413af426510b6\", element=\"D1115E76FDF4E516FE24EC2E41BA431B_element_4729\")>,\n",
       " <selenium.webdriver.remote.webelement.WebElement (session=\"fb066113abb0784b053413af426510b6\", element=\"D1115E76FDF4E516FE24EC2E41BA431B_element_4730\")>,\n",
       " <selenium.webdriver.remote.webelement.WebElement (session=\"fb066113abb0784b053413af426510b6\", element=\"D1115E76FDF4E516FE24EC2E41BA431B_element_4731\")>,\n",
       " <selenium.webdriver.remote.webelement.WebElement (session=\"fb066113abb0784b053413af426510b6\", element=\"D1115E76FDF4E516FE24EC2E41BA431B_element_4732\")>,\n",
       " <selenium.webdriver.remote.webelement.WebElement (session=\"fb066113abb0784b053413af426510b6\", element=\"D1115E76FDF4E516FE24EC2E41BA431B_element_4733\")>,\n",
       " <selenium.webdriver.remote.webelement.WebElement (session=\"fb066113abb0784b053413af426510b6\", element=\"D1115E76FDF4E516FE24EC2E41BA431B_element_4734\")>]"
      ]
     },
     "execution_count": 34,
     "metadata": {},
     "output_type": "execute_result"
    }
   ],
   "source": [
    "# Scraping location of the job profile\n",
    "location_tags = driver.find_elements(By.XPATH,'//div[@class=\" jobCard_jobCard_lists_item__YxRkV jobCard_locationIcon__zrWt2\"]')\n",
    "location_tags"
   ]
  },
  {
   "cell_type": "code",
   "execution_count": 35,
   "id": "ea779c49",
   "metadata": {},
   "outputs": [
    {
     "data": {
      "text/plain": [
       "['Bangalore\\n+9',\n",
       " 'Bangalore\\n+13',\n",
       " 'Bangalore',\n",
       " 'Bangalore',\n",
       " 'Bangalore',\n",
       " 'Bangalore',\n",
       " 'Bangalore',\n",
       " 'Bangalore',\n",
       " 'Bangalore',\n",
       " 'Bangalore']"
      ]
     },
     "execution_count": 35,
     "metadata": {},
     "output_type": "execute_result"
    }
   ],
   "source": [
    "# Creating an empty list for job titles and looping through the first 10 results.\n",
    "location = []\n",
    "for i in location_tags:\n",
    "    location.append(i.text)\n",
    "    \n",
    "location[:10]"
   ]
  },
  {
   "cell_type": "code",
   "execution_count": 36,
   "id": "f2dbd3b4",
   "metadata": {},
   "outputs": [
    {
     "data": {
      "text/plain": [
       "[<selenium.webdriver.remote.webelement.WebElement (session=\"fb066113abb0784b053413af426510b6\", element=\"D1115E76FDF4E516FE24EC2E41BA431B_element_4377\")>,\n",
       " <selenium.webdriver.remote.webelement.WebElement (session=\"fb066113abb0784b053413af426510b6\", element=\"D1115E76FDF4E516FE24EC2E41BA431B_element_4682\")>,\n",
       " <selenium.webdriver.remote.webelement.WebElement (session=\"fb066113abb0784b053413af426510b6\", element=\"D1115E76FDF4E516FE24EC2E41BA431B_element_4691\")>,\n",
       " <selenium.webdriver.remote.webelement.WebElement (session=\"fb066113abb0784b053413af426510b6\", element=\"D1115E76FDF4E516FE24EC2E41BA431B_element_4701\")>,\n",
       " <selenium.webdriver.remote.webelement.WebElement (session=\"fb066113abb0784b053413af426510b6\", element=\"D1115E76FDF4E516FE24EC2E41BA431B_element_4670\")>,\n",
       " <selenium.webdriver.remote.webelement.WebElement (session=\"fb066113abb0784b053413af426510b6\", element=\"D1115E76FDF4E516FE24EC2E41BA431B_element_4894\")>,\n",
       " <selenium.webdriver.remote.webelement.WebElement (session=\"fb066113abb0784b053413af426510b6\", element=\"D1115E76FDF4E516FE24EC2E41BA431B_element_4895\")>,\n",
       " <selenium.webdriver.remote.webelement.WebElement (session=\"fb066113abb0784b053413af426510b6\", element=\"D1115E76FDF4E516FE24EC2E41BA431B_element_4896\")>,\n",
       " <selenium.webdriver.remote.webelement.WebElement (session=\"fb066113abb0784b053413af426510b6\", element=\"D1115E76FDF4E516FE24EC2E41BA431B_element_4897\")>,\n",
       " <selenium.webdriver.remote.webelement.WebElement (session=\"fb066113abb0784b053413af426510b6\", element=\"D1115E76FDF4E516FE24EC2E41BA431B_element_4898\")>,\n",
       " <selenium.webdriver.remote.webelement.WebElement (session=\"fb066113abb0784b053413af426510b6\", element=\"D1115E76FDF4E516FE24EC2E41BA431B_element_4899\")>,\n",
       " <selenium.webdriver.remote.webelement.WebElement (session=\"fb066113abb0784b053413af426510b6\", element=\"D1115E76FDF4E516FE24EC2E41BA431B_element_4900\")>,\n",
       " <selenium.webdriver.remote.webelement.WebElement (session=\"fb066113abb0784b053413af426510b6\", element=\"D1115E76FDF4E516FE24EC2E41BA431B_element_4901\")>,\n",
       " <selenium.webdriver.remote.webelement.WebElement (session=\"fb066113abb0784b053413af426510b6\", element=\"D1115E76FDF4E516FE24EC2E41BA431B_element_4902\")>,\n",
       " <selenium.webdriver.remote.webelement.WebElement (session=\"fb066113abb0784b053413af426510b6\", element=\"D1115E76FDF4E516FE24EC2E41BA431B_element_4903\")>,\n",
       " <selenium.webdriver.remote.webelement.WebElement (session=\"fb066113abb0784b053413af426510b6\", element=\"D1115E76FDF4E516FE24EC2E41BA431B_element_4904\")>,\n",
       " <selenium.webdriver.remote.webelement.WebElement (session=\"fb066113abb0784b053413af426510b6\", element=\"D1115E76FDF4E516FE24EC2E41BA431B_element_4905\")>,\n",
       " <selenium.webdriver.remote.webelement.WebElement (session=\"fb066113abb0784b053413af426510b6\", element=\"D1115E76FDF4E516FE24EC2E41BA431B_element_4906\")>,\n",
       " <selenium.webdriver.remote.webelement.WebElement (session=\"fb066113abb0784b053413af426510b6\", element=\"D1115E76FDF4E516FE24EC2E41BA431B_element_4907\")>,\n",
       " <selenium.webdriver.remote.webelement.WebElement (session=\"fb066113abb0784b053413af426510b6\", element=\"D1115E76FDF4E516FE24EC2E41BA431B_element_4908\")>]"
      ]
     },
     "execution_count": 36,
     "metadata": {},
     "output_type": "execute_result"
    }
   ],
   "source": [
    "# Scraping company name of the job profile\n",
    "company_tags = driver.find_elements(By.XPATH,'//div[@class=\"jobCard_jobCard_cName__mYnow\"]')\n",
    "company_tags"
   ]
  },
  {
   "cell_type": "code",
   "execution_count": 37,
   "id": "ee58ae9a",
   "metadata": {},
   "outputs": [
    {
     "data": {
      "text/plain": [
       "['hire connect',\n",
       " 'kavya interprises',\n",
       " 'futures and careers',\n",
       " 'futures and careers',\n",
       " 'boyen haddin consulting and technol...',\n",
       " 'boyen haddin consulting and technol...',\n",
       " 'boyen haddin consulting and technol...',\n",
       " 'boyen haddin consulting and technol...',\n",
       " 'boyen haddin consulting and technol...',\n",
       " 'boyen haddin consulting and technol...']"
      ]
     },
     "execution_count": 37,
     "metadata": {},
     "output_type": "execute_result"
    }
   ],
   "source": [
    "# Creating an empty list for job titles and looping through the first 10 results.\n",
    "company_name = []\n",
    "for i in company_tags:\n",
    "    company_name.append(i.text)\n",
    "    \n",
    "company_name[:10]"
   ]
  },
  {
   "cell_type": "code",
   "execution_count": 38,
   "id": "096fc1a2",
   "metadata": {},
   "outputs": [
    {
     "data": {
      "text/plain": [
       "[<selenium.webdriver.remote.webelement.WebElement (session=\"fb066113abb0784b053413af426510b6\", element=\"D1115E76FDF4E516FE24EC2E41BA431B_element_4713\")>,\n",
       " <selenium.webdriver.remote.webelement.WebElement (session=\"fb066113abb0784b053413af426510b6\", element=\"D1115E76FDF4E516FE24EC2E41BA431B_element_4910\")>,\n",
       " <selenium.webdriver.remote.webelement.WebElement (session=\"fb066113abb0784b053413af426510b6\", element=\"D1115E76FDF4E516FE24EC2E41BA431B_element_4911\")>,\n",
       " <selenium.webdriver.remote.webelement.WebElement (session=\"fb066113abb0784b053413af426510b6\", element=\"D1115E76FDF4E516FE24EC2E41BA431B_element_4912\")>,\n",
       " <selenium.webdriver.remote.webelement.WebElement (session=\"fb066113abb0784b053413af426510b6\", element=\"D1115E76FDF4E516FE24EC2E41BA431B_element_4707\")>,\n",
       " <selenium.webdriver.remote.webelement.WebElement (session=\"fb066113abb0784b053413af426510b6\", element=\"D1115E76FDF4E516FE24EC2E41BA431B_element_4913\")>,\n",
       " <selenium.webdriver.remote.webelement.WebElement (session=\"fb066113abb0784b053413af426510b6\", element=\"D1115E76FDF4E516FE24EC2E41BA431B_element_4914\")>,\n",
       " <selenium.webdriver.remote.webelement.WebElement (session=\"fb066113abb0784b053413af426510b6\", element=\"D1115E76FDF4E516FE24EC2E41BA431B_element_4915\")>,\n",
       " <selenium.webdriver.remote.webelement.WebElement (session=\"fb066113abb0784b053413af426510b6\", element=\"D1115E76FDF4E516FE24EC2E41BA431B_element_4916\")>,\n",
       " <selenium.webdriver.remote.webelement.WebElement (session=\"fb066113abb0784b053413af426510b6\", element=\"D1115E76FDF4E516FE24EC2E41BA431B_element_4917\")>,\n",
       " <selenium.webdriver.remote.webelement.WebElement (session=\"fb066113abb0784b053413af426510b6\", element=\"D1115E76FDF4E516FE24EC2E41BA431B_element_4918\")>,\n",
       " <selenium.webdriver.remote.webelement.WebElement (session=\"fb066113abb0784b053413af426510b6\", element=\"D1115E76FDF4E516FE24EC2E41BA431B_element_4919\")>,\n",
       " <selenium.webdriver.remote.webelement.WebElement (session=\"fb066113abb0784b053413af426510b6\", element=\"D1115E76FDF4E516FE24EC2E41BA431B_element_4920\")>,\n",
       " <selenium.webdriver.remote.webelement.WebElement (session=\"fb066113abb0784b053413af426510b6\", element=\"D1115E76FDF4E516FE24EC2E41BA431B_element_4921\")>,\n",
       " <selenium.webdriver.remote.webelement.WebElement (session=\"fb066113abb0784b053413af426510b6\", element=\"D1115E76FDF4E516FE24EC2E41BA431B_element_4922\")>,\n",
       " <selenium.webdriver.remote.webelement.WebElement (session=\"fb066113abb0784b053413af426510b6\", element=\"D1115E76FDF4E516FE24EC2E41BA431B_element_4923\")>,\n",
       " <selenium.webdriver.remote.webelement.WebElement (session=\"fb066113abb0784b053413af426510b6\", element=\"D1115E76FDF4E516FE24EC2E41BA431B_element_4924\")>,\n",
       " <selenium.webdriver.remote.webelement.WebElement (session=\"fb066113abb0784b053413af426510b6\", element=\"D1115E76FDF4E516FE24EC2E41BA431B_element_4925\")>,\n",
       " <selenium.webdriver.remote.webelement.WebElement (session=\"fb066113abb0784b053413af426510b6\", element=\"D1115E76FDF4E516FE24EC2E41BA431B_element_4926\")>,\n",
       " <selenium.webdriver.remote.webelement.WebElement (session=\"fb066113abb0784b053413af426510b6\", element=\"D1115E76FDF4E516FE24EC2E41BA431B_element_4927\")>]"
      ]
     },
     "execution_count": 38,
     "metadata": {},
     "output_type": "execute_result"
    }
   ],
   "source": [
    "# Scraping experience required for the job profile\n",
    "exp_tags = driver.find_elements(By.XPATH,'//div[@class=\" jobCard_jobCard_lists_item__YxRkV jobCard_jobIcon__3FB1t\"]')\n",
    "exp_tags"
   ]
  },
  {
   "cell_type": "code",
   "execution_count": 39,
   "id": "7424221b",
   "metadata": {},
   "outputs": [
    {
     "data": {
      "text/plain": [
       "['0 to 1 Yr',\n",
       " '0 to 4 Yrs',\n",
       " '2 to 4 Yrs',\n",
       " '2 to 4 Yrs',\n",
       " '5 to 10 Yrs',\n",
       " '2 to 6 Yrs',\n",
       " '4 to 8 Yrs',\n",
       " '2 to 6 Yrs',\n",
       " '2 to 6 Yrs',\n",
       " '2 to 6 Yrs']"
      ]
     },
     "execution_count": 39,
     "metadata": {},
     "output_type": "execute_result"
    }
   ],
   "source": [
    "# Creating an empty list for job titles and looping through the first 10 results.\n",
    "exp_required = []\n",
    "for i in exp_tags:\n",
    "    exp_required.append(i.text)\n",
    "    \n",
    "exp_required[:10]"
   ]
  },
  {
   "cell_type": "code",
   "execution_count": 41,
   "id": "c42f5b43",
   "metadata": {},
   "outputs": [
    {
     "name": "stdout",
     "output_type": "stream",
     "text": [
      "10 10 10 10\n"
     ]
    }
   ],
   "source": [
    "# Printing length to check if all the columns match or not.\n",
    "print(len(exp_required[:10]),len(company_name[:10]),len(location[:10]),len(job_title[:10]))"
   ]
  },
  {
   "cell_type": "code",
   "execution_count": 43,
   "id": "8272fbcd",
   "metadata": {},
   "outputs": [],
   "source": [
    "# Creating a pandas dataframe to store all the scraped data.\n",
    "jobs = pd.DataFrame({})\n",
    "jobs[\"Title\"] = job_titles[:10]\n",
    "jobs[\"Location\"] = location[:10]\n",
    "jobs[\"Experience Required\"] = exp_required[:10]\n",
    "jobs[\"Company\"] = company_name[:10]"
   ]
  },
  {
   "cell_type": "code",
   "execution_count": 44,
   "id": "4d2b8cb4",
   "metadata": {},
   "outputs": [
    {
     "data": {
      "text/html": [
       "<div>\n",
       "<style scoped>\n",
       "    .dataframe tbody tr th:only-of-type {\n",
       "        vertical-align: middle;\n",
       "    }\n",
       "\n",
       "    .dataframe tbody tr th {\n",
       "        vertical-align: top;\n",
       "    }\n",
       "\n",
       "    .dataframe thead th {\n",
       "        text-align: right;\n",
       "    }\n",
       "</style>\n",
       "<table border=\"1\" class=\"dataframe\">\n",
       "  <thead>\n",
       "    <tr style=\"text-align: right;\">\n",
       "      <th></th>\n",
       "      <th>Title</th>\n",
       "      <th>Location</th>\n",
       "      <th>Experience Required</th>\n",
       "      <th>Company</th>\n",
       "    </tr>\n",
       "  </thead>\n",
       "  <tbody>\n",
       "    <tr>\n",
       "      <th>0</th>\n",
       "      <td>Data Analyst</td>\n",
       "      <td>Bangalore\\n+9</td>\n",
       "      <td>0 to 1 Yr</td>\n",
       "      <td>hire connect</td>\n",
       "    </tr>\n",
       "    <tr>\n",
       "      <th>1</th>\n",
       "      <td>Vacancy For Data Analyst</td>\n",
       "      <td>Bangalore\\n+13</td>\n",
       "      <td>0 to 4 Yrs</td>\n",
       "      <td>kavya interprises</td>\n",
       "    </tr>\n",
       "    <tr>\n",
       "      <th>2</th>\n",
       "      <td>Project Coordinator (Data Analyst) Bangalore</td>\n",
       "      <td>Bangalore</td>\n",
       "      <td>2 to 4 Yrs</td>\n",
       "      <td>futures and careers</td>\n",
       "    </tr>\n",
       "    <tr>\n",
       "      <th>3</th>\n",
       "      <td>Project Coordinator (Data analyst) Bangalore</td>\n",
       "      <td>Bangalore</td>\n",
       "      <td>2 to 4 Yrs</td>\n",
       "      <td>futures and careers</td>\n",
       "    </tr>\n",
       "    <tr>\n",
       "      <th>4</th>\n",
       "      <td>Data analyst - Java / Python</td>\n",
       "      <td>Bangalore</td>\n",
       "      <td>5 to 10 Yrs</td>\n",
       "      <td>boyen haddin consulting and technol...</td>\n",
       "    </tr>\n",
       "    <tr>\n",
       "      <th>5</th>\n",
       "      <td>Business Data Analyst - Modeling &amp; Profiling</td>\n",
       "      <td>Bangalore</td>\n",
       "      <td>2 to 6 Yrs</td>\n",
       "      <td>boyen haddin consulting and technol...</td>\n",
       "    </tr>\n",
       "    <tr>\n",
       "      <th>6</th>\n",
       "      <td>Data Analyst - Java/Python BANGALORE</td>\n",
       "      <td>Bangalore</td>\n",
       "      <td>4 to 8 Yrs</td>\n",
       "      <td>boyen haddin consulting and technol...</td>\n",
       "    </tr>\n",
       "    <tr>\n",
       "      <th>7</th>\n",
       "      <td>Data Analyst - Java/Python</td>\n",
       "      <td>Bangalore</td>\n",
       "      <td>2 to 6 Yrs</td>\n",
       "      <td>boyen haddin consulting and technol...</td>\n",
       "    </tr>\n",
       "    <tr>\n",
       "      <th>8</th>\n",
       "      <td>Data Analyst - SQL/ Database Maintenance</td>\n",
       "      <td>Bangalore</td>\n",
       "      <td>2 to 6 Yrs</td>\n",
       "      <td>boyen haddin consulting and technol...</td>\n",
       "    </tr>\n",
       "    <tr>\n",
       "      <th>9</th>\n",
       "      <td>Business Data Analyst - Modeling &amp; Profiling</td>\n",
       "      <td>Bangalore</td>\n",
       "      <td>2 to 6 Yrs</td>\n",
       "      <td>boyen haddin consulting and technol...</td>\n",
       "    </tr>\n",
       "  </tbody>\n",
       "</table>\n",
       "</div>"
      ],
      "text/plain": [
       "                                          Title        Location  \\\n",
       "0                                  Data Analyst   Bangalore\\n+9   \n",
       "1                      Vacancy For Data Analyst  Bangalore\\n+13   \n",
       "2  Project Coordinator (Data Analyst) Bangalore       Bangalore   \n",
       "3  Project Coordinator (Data analyst) Bangalore       Bangalore   \n",
       "4                  Data analyst - Java / Python       Bangalore   \n",
       "5  Business Data Analyst - Modeling & Profiling       Bangalore   \n",
       "6          Data Analyst - Java/Python BANGALORE       Bangalore   \n",
       "7                    Data Analyst - Java/Python       Bangalore   \n",
       "8      Data Analyst - SQL/ Database Maintenance       Bangalore   \n",
       "9  Business Data Analyst - Modeling & Profiling       Bangalore   \n",
       "\n",
       "  Experience Required                                 Company  \n",
       "0           0 to 1 Yr                            hire connect  \n",
       "1          0 to 4 Yrs                       kavya interprises  \n",
       "2          2 to 4 Yrs                     futures and careers  \n",
       "3          2 to 4 Yrs                     futures and careers  \n",
       "4         5 to 10 Yrs  boyen haddin consulting and technol...  \n",
       "5          2 to 6 Yrs  boyen haddin consulting and technol...  \n",
       "6          4 to 8 Yrs  boyen haddin consulting and technol...  \n",
       "7          2 to 6 Yrs  boyen haddin consulting and technol...  \n",
       "8          2 to 6 Yrs  boyen haddin consulting and technol...  \n",
       "9          2 to 6 Yrs  boyen haddin consulting and technol...  "
      ]
     },
     "execution_count": 44,
     "metadata": {},
     "output_type": "execute_result"
    }
   ],
   "source": [
    "jobs"
   ]
  },
  {
   "cell_type": "markdown",
   "id": "59b56b5d",
   "metadata": {},
   "source": [
    "Q2: Write a python program to scrape data for “Data Scientist” Job position in “Bangalore” location. You have to scrape the job-title, job-location, company_name. You have to scrape first 10 jobs data.\n",
    "This task will be done in following steps:\n",
    "1. First get the webpage https://www.shine.com/\n",
    "2. Enter “Data Scientist” in “Job title, Skills” field and enter “Bangalore” in “enter the location” field.\n",
    "3. Then click the search button.\n",
    "4. Then scrape the data for the first 10 jobs results you get.\n",
    "5. Finally create a dataframe of the scraped data."
   ]
  },
  {
   "cell_type": "code",
   "execution_count": 46,
   "id": "5e661a87",
   "metadata": {},
   "outputs": [],
   "source": [
    "# Opening an automated web browser and website\n",
    "driver = webdriver.Chrome()\n",
    "driver.get('https://www.shine.com/')"
   ]
  },
  {
   "cell_type": "code",
   "execution_count": 47,
   "id": "69285dbb",
   "metadata": {},
   "outputs": [],
   "source": [
    "# Scraping the Job field and entering \"Data Scientist\" in the field\n",
    "designation1 = driver.find_element(By.ID,'id_q')\n",
    "designation1.send_keys('Data Scientist')"
   ]
  },
  {
   "cell_type": "code",
   "execution_count": 48,
   "id": "c8cb817e",
   "metadata": {},
   "outputs": [],
   "source": [
    "# Scraping the Location field and entering \"Bangalore\" in the field\n",
    "location1 = driver.find_element(By.ID,'id_loc')\n",
    "location1.send_keys('Bangalore')"
   ]
  },
  {
   "cell_type": "code",
   "execution_count": 49,
   "id": "8fc13155",
   "metadata": {},
   "outputs": [],
   "source": [
    "search1 = driver.find_element(By.XPATH,'/html/body/div/div[4]/div/div[2]/div[2]/div/form/div/div[2]/div/button')\n",
    "search1.click()"
   ]
  },
  {
   "cell_type": "code",
   "execution_count": 50,
   "id": "e046be53",
   "metadata": {},
   "outputs": [
    {
     "data": {
      "text/plain": [
       "[<selenium.webdriver.remote.webelement.WebElement (session=\"57b8814cfd5d6ab61ee29428d6c39d8c\", element=\"47C6F445DD57B54869A46AC7D592B15A_element_2550\")>,\n",
       " <selenium.webdriver.remote.webelement.WebElement (session=\"57b8814cfd5d6ab61ee29428d6c39d8c\", element=\"47C6F445DD57B54869A46AC7D592B15A_element_2556\")>,\n",
       " <selenium.webdriver.remote.webelement.WebElement (session=\"57b8814cfd5d6ab61ee29428d6c39d8c\", element=\"47C6F445DD57B54869A46AC7D592B15A_element_2557\")>,\n",
       " <selenium.webdriver.remote.webelement.WebElement (session=\"57b8814cfd5d6ab61ee29428d6c39d8c\", element=\"47C6F445DD57B54869A46AC7D592B15A_element_2558\")>,\n",
       " <selenium.webdriver.remote.webelement.WebElement (session=\"57b8814cfd5d6ab61ee29428d6c39d8c\", element=\"47C6F445DD57B54869A46AC7D592B15A_element_2559\")>,\n",
       " <selenium.webdriver.remote.webelement.WebElement (session=\"57b8814cfd5d6ab61ee29428d6c39d8c\", element=\"47C6F445DD57B54869A46AC7D592B15A_element_2560\")>,\n",
       " <selenium.webdriver.remote.webelement.WebElement (session=\"57b8814cfd5d6ab61ee29428d6c39d8c\", element=\"47C6F445DD57B54869A46AC7D592B15A_element_2561\")>,\n",
       " <selenium.webdriver.remote.webelement.WebElement (session=\"57b8814cfd5d6ab61ee29428d6c39d8c\", element=\"47C6F445DD57B54869A46AC7D592B15A_element_2562\")>,\n",
       " <selenium.webdriver.remote.webelement.WebElement (session=\"57b8814cfd5d6ab61ee29428d6c39d8c\", element=\"47C6F445DD57B54869A46AC7D592B15A_element_2563\")>,\n",
       " <selenium.webdriver.remote.webelement.WebElement (session=\"57b8814cfd5d6ab61ee29428d6c39d8c\", element=\"47C6F445DD57B54869A46AC7D592B15A_element_2564\")>,\n",
       " <selenium.webdriver.remote.webelement.WebElement (session=\"57b8814cfd5d6ab61ee29428d6c39d8c\", element=\"47C6F445DD57B54869A46AC7D592B15A_element_2565\")>,\n",
       " <selenium.webdriver.remote.webelement.WebElement (session=\"57b8814cfd5d6ab61ee29428d6c39d8c\", element=\"47C6F445DD57B54869A46AC7D592B15A_element_2566\")>,\n",
       " <selenium.webdriver.remote.webelement.WebElement (session=\"57b8814cfd5d6ab61ee29428d6c39d8c\", element=\"47C6F445DD57B54869A46AC7D592B15A_element_2567\")>,\n",
       " <selenium.webdriver.remote.webelement.WebElement (session=\"57b8814cfd5d6ab61ee29428d6c39d8c\", element=\"47C6F445DD57B54869A46AC7D592B15A_element_2568\")>,\n",
       " <selenium.webdriver.remote.webelement.WebElement (session=\"57b8814cfd5d6ab61ee29428d6c39d8c\", element=\"47C6F445DD57B54869A46AC7D592B15A_element_2569\")>,\n",
       " <selenium.webdriver.remote.webelement.WebElement (session=\"57b8814cfd5d6ab61ee29428d6c39d8c\", element=\"47C6F445DD57B54869A46AC7D592B15A_element_2570\")>,\n",
       " <selenium.webdriver.remote.webelement.WebElement (session=\"57b8814cfd5d6ab61ee29428d6c39d8c\", element=\"47C6F445DD57B54869A46AC7D592B15A_element_2571\")>,\n",
       " <selenium.webdriver.remote.webelement.WebElement (session=\"57b8814cfd5d6ab61ee29428d6c39d8c\", element=\"47C6F445DD57B54869A46AC7D592B15A_element_2572\")>,\n",
       " <selenium.webdriver.remote.webelement.WebElement (session=\"57b8814cfd5d6ab61ee29428d6c39d8c\", element=\"47C6F445DD57B54869A46AC7D592B15A_element_2573\")>,\n",
       " <selenium.webdriver.remote.webelement.WebElement (session=\"57b8814cfd5d6ab61ee29428d6c39d8c\", element=\"47C6F445DD57B54869A46AC7D592B15A_element_2574\")>]"
      ]
     },
     "execution_count": 50,
     "metadata": {},
     "output_type": "execute_result"
    }
   ],
   "source": [
    "# Scraping title of the job profile\n",
    "title_tags1 = driver.find_elements(By.XPATH,'//h2[@itemprop=\"name\"]')\n",
    "title_tags1"
   ]
  },
  {
   "cell_type": "code",
   "execution_count": 52,
   "id": "8101339b",
   "metadata": {},
   "outputs": [
    {
     "data": {
      "text/plain": [
       "['Data Scientist - Business Intelligence',\n",
       " 'Data Scientist for Bangalore',\n",
       " 'Hiring For Data Scientist',\n",
       " 'Hiring For Data Scientist',\n",
       " 'Data Scientist - Machine Learning',\n",
       " 'Data Scientist - Spark/Python/Redshift',\n",
       " 'Data Scientist',\n",
       " 'Data Scientist- Associate',\n",
       " 'Data Scientist Vacancy',\n",
       " 'Data Scientist - Business Intelligence']"
      ]
     },
     "execution_count": 52,
     "metadata": {},
     "output_type": "execute_result"
    }
   ],
   "source": [
    "# Creating an empty list for job titles and looping through the first 10 results.\n",
    "title_name1 = []\n",
    "for i in title_tags1:\n",
    "    if i.text is None:\n",
    "        title_name1.append('Not')\n",
    "    else:\n",
    "        title_name1.append(i.text)\n",
    "        \n",
    "title_name1[:10]"
   ]
  },
  {
   "cell_type": "code",
   "execution_count": 53,
   "id": "c6279d1f",
   "metadata": {},
   "outputs": [
    {
     "data": {
      "text/plain": [
       "[<selenium.webdriver.remote.webelement.WebElement (session=\"57b8814cfd5d6ab61ee29428d6c39d8c\", element=\"47C6F445DD57B54869A46AC7D592B15A_element_2577\")>,\n",
       " <selenium.webdriver.remote.webelement.WebElement (session=\"57b8814cfd5d6ab61ee29428d6c39d8c\", element=\"47C6F445DD57B54869A46AC7D592B15A_element_2584\")>,\n",
       " <selenium.webdriver.remote.webelement.WebElement (session=\"57b8814cfd5d6ab61ee29428d6c39d8c\", element=\"47C6F445DD57B54869A46AC7D592B15A_element_2585\")>,\n",
       " <selenium.webdriver.remote.webelement.WebElement (session=\"57b8814cfd5d6ab61ee29428d6c39d8c\", element=\"47C6F445DD57B54869A46AC7D592B15A_element_2586\")>,\n",
       " <selenium.webdriver.remote.webelement.WebElement (session=\"57b8814cfd5d6ab61ee29428d6c39d8c\", element=\"47C6F445DD57B54869A46AC7D592B15A_element_2587\")>,\n",
       " <selenium.webdriver.remote.webelement.WebElement (session=\"57b8814cfd5d6ab61ee29428d6c39d8c\", element=\"47C6F445DD57B54869A46AC7D592B15A_element_2588\")>,\n",
       " <selenium.webdriver.remote.webelement.WebElement (session=\"57b8814cfd5d6ab61ee29428d6c39d8c\", element=\"47C6F445DD57B54869A46AC7D592B15A_element_2589\")>,\n",
       " <selenium.webdriver.remote.webelement.WebElement (session=\"57b8814cfd5d6ab61ee29428d6c39d8c\", element=\"47C6F445DD57B54869A46AC7D592B15A_element_2590\")>,\n",
       " <selenium.webdriver.remote.webelement.WebElement (session=\"57b8814cfd5d6ab61ee29428d6c39d8c\", element=\"47C6F445DD57B54869A46AC7D592B15A_element_2591\")>,\n",
       " <selenium.webdriver.remote.webelement.WebElement (session=\"57b8814cfd5d6ab61ee29428d6c39d8c\", element=\"47C6F445DD57B54869A46AC7D592B15A_element_2592\")>,\n",
       " <selenium.webdriver.remote.webelement.WebElement (session=\"57b8814cfd5d6ab61ee29428d6c39d8c\", element=\"47C6F445DD57B54869A46AC7D592B15A_element_2593\")>,\n",
       " <selenium.webdriver.remote.webelement.WebElement (session=\"57b8814cfd5d6ab61ee29428d6c39d8c\", element=\"47C6F445DD57B54869A46AC7D592B15A_element_2594\")>,\n",
       " <selenium.webdriver.remote.webelement.WebElement (session=\"57b8814cfd5d6ab61ee29428d6c39d8c\", element=\"47C6F445DD57B54869A46AC7D592B15A_element_2595\")>,\n",
       " <selenium.webdriver.remote.webelement.WebElement (session=\"57b8814cfd5d6ab61ee29428d6c39d8c\", element=\"47C6F445DD57B54869A46AC7D592B15A_element_2596\")>,\n",
       " <selenium.webdriver.remote.webelement.WebElement (session=\"57b8814cfd5d6ab61ee29428d6c39d8c\", element=\"47C6F445DD57B54869A46AC7D592B15A_element_2597\")>,\n",
       " <selenium.webdriver.remote.webelement.WebElement (session=\"57b8814cfd5d6ab61ee29428d6c39d8c\", element=\"47C6F445DD57B54869A46AC7D592B15A_element_2598\")>,\n",
       " <selenium.webdriver.remote.webelement.WebElement (session=\"57b8814cfd5d6ab61ee29428d6c39d8c\", element=\"47C6F445DD57B54869A46AC7D592B15A_element_2599\")>,\n",
       " <selenium.webdriver.remote.webelement.WebElement (session=\"57b8814cfd5d6ab61ee29428d6c39d8c\", element=\"47C6F445DD57B54869A46AC7D592B15A_element_2600\")>,\n",
       " <selenium.webdriver.remote.webelement.WebElement (session=\"57b8814cfd5d6ab61ee29428d6c39d8c\", element=\"47C6F445DD57B54869A46AC7D592B15A_element_2601\")>,\n",
       " <selenium.webdriver.remote.webelement.WebElement (session=\"57b8814cfd5d6ab61ee29428d6c39d8c\", element=\"47C6F445DD57B54869A46AC7D592B15A_element_2602\")>]"
      ]
     },
     "execution_count": 53,
     "metadata": {},
     "output_type": "execute_result"
    }
   ],
   "source": [
    "# Scraping location of the job profile\n",
    "location1 = driver.find_elements(By.XPATH,'//div[@class=\" jobCard_jobCard_lists_item__YxRkV jobCard_locationIcon__zrWt2\"]')\n",
    "location1"
   ]
  },
  {
   "cell_type": "code",
   "execution_count": 56,
   "id": "fd608dce",
   "metadata": {},
   "outputs": [
    {
     "data": {
      "text/plain": [
       "['Bangalore',\n",
       " 'Bangalore',\n",
       " 'Bangalore\\n+13',\n",
       " 'Bangalore\\n+13',\n",
       " 'Bangalore',\n",
       " 'Bangalore',\n",
       " 'Bangalore',\n",
       " 'Bangalore',\n",
       " 'Bangalore\\n+14',\n",
       " 'Bangalore']"
      ]
     },
     "execution_count": 56,
     "metadata": {},
     "output_type": "execute_result"
    }
   ],
   "source": [
    "# Creating an empty list for job location and looping through the first 10 results.\n",
    "location_name1 = []\n",
    "for i in location1:\n",
    "    location_name1.append(i.text)\n",
    "    \n",
    "location_name1[:10]"
   ]
  },
  {
   "cell_type": "code",
   "execution_count": 57,
   "id": "68cb0b5f",
   "metadata": {},
   "outputs": [
    {
     "data": {
      "text/plain": [
       "[<selenium.webdriver.remote.webelement.WebElement (session=\"57b8814cfd5d6ab61ee29428d6c39d8c\", element=\"47C6F445DD57B54869A46AC7D592B15A_element_2578\")>,\n",
       " <selenium.webdriver.remote.webelement.WebElement (session=\"57b8814cfd5d6ab61ee29428d6c39d8c\", element=\"47C6F445DD57B54869A46AC7D592B15A_element_2603\")>,\n",
       " <selenium.webdriver.remote.webelement.WebElement (session=\"57b8814cfd5d6ab61ee29428d6c39d8c\", element=\"47C6F445DD57B54869A46AC7D592B15A_element_2604\")>,\n",
       " <selenium.webdriver.remote.webelement.WebElement (session=\"57b8814cfd5d6ab61ee29428d6c39d8c\", element=\"47C6F445DD57B54869A46AC7D592B15A_element_2605\")>,\n",
       " <selenium.webdriver.remote.webelement.WebElement (session=\"57b8814cfd5d6ab61ee29428d6c39d8c\", element=\"47C6F445DD57B54869A46AC7D592B15A_element_2606\")>,\n",
       " <selenium.webdriver.remote.webelement.WebElement (session=\"57b8814cfd5d6ab61ee29428d6c39d8c\", element=\"47C6F445DD57B54869A46AC7D592B15A_element_2607\")>,\n",
       " <selenium.webdriver.remote.webelement.WebElement (session=\"57b8814cfd5d6ab61ee29428d6c39d8c\", element=\"47C6F445DD57B54869A46AC7D592B15A_element_2608\")>,\n",
       " <selenium.webdriver.remote.webelement.WebElement (session=\"57b8814cfd5d6ab61ee29428d6c39d8c\", element=\"47C6F445DD57B54869A46AC7D592B15A_element_2609\")>,\n",
       " <selenium.webdriver.remote.webelement.WebElement (session=\"57b8814cfd5d6ab61ee29428d6c39d8c\", element=\"47C6F445DD57B54869A46AC7D592B15A_element_2610\")>,\n",
       " <selenium.webdriver.remote.webelement.WebElement (session=\"57b8814cfd5d6ab61ee29428d6c39d8c\", element=\"47C6F445DD57B54869A46AC7D592B15A_element_2611\")>,\n",
       " <selenium.webdriver.remote.webelement.WebElement (session=\"57b8814cfd5d6ab61ee29428d6c39d8c\", element=\"47C6F445DD57B54869A46AC7D592B15A_element_2612\")>,\n",
       " <selenium.webdriver.remote.webelement.WebElement (session=\"57b8814cfd5d6ab61ee29428d6c39d8c\", element=\"47C6F445DD57B54869A46AC7D592B15A_element_2613\")>,\n",
       " <selenium.webdriver.remote.webelement.WebElement (session=\"57b8814cfd5d6ab61ee29428d6c39d8c\", element=\"47C6F445DD57B54869A46AC7D592B15A_element_2614\")>,\n",
       " <selenium.webdriver.remote.webelement.WebElement (session=\"57b8814cfd5d6ab61ee29428d6c39d8c\", element=\"47C6F445DD57B54869A46AC7D592B15A_element_2615\")>,\n",
       " <selenium.webdriver.remote.webelement.WebElement (session=\"57b8814cfd5d6ab61ee29428d6c39d8c\", element=\"47C6F445DD57B54869A46AC7D592B15A_element_2616\")>,\n",
       " <selenium.webdriver.remote.webelement.WebElement (session=\"57b8814cfd5d6ab61ee29428d6c39d8c\", element=\"47C6F445DD57B54869A46AC7D592B15A_element_2617\")>,\n",
       " <selenium.webdriver.remote.webelement.WebElement (session=\"57b8814cfd5d6ab61ee29428d6c39d8c\", element=\"47C6F445DD57B54869A46AC7D592B15A_element_2618\")>,\n",
       " <selenium.webdriver.remote.webelement.WebElement (session=\"57b8814cfd5d6ab61ee29428d6c39d8c\", element=\"47C6F445DD57B54869A46AC7D592B15A_element_2619\")>,\n",
       " <selenium.webdriver.remote.webelement.WebElement (session=\"57b8814cfd5d6ab61ee29428d6c39d8c\", element=\"47C6F445DD57B54869A46AC7D592B15A_element_2620\")>,\n",
       " <selenium.webdriver.remote.webelement.WebElement (session=\"57b8814cfd5d6ab61ee29428d6c39d8c\", element=\"47C6F445DD57B54869A46AC7D592B15A_element_2621\")>]"
      ]
     },
     "execution_count": 57,
     "metadata": {},
     "output_type": "execute_result"
    }
   ],
   "source": [
    "# Scraping the experience required detail\n",
    "exp_given = driver.find_elements(By.XPATH,'//div[@class=\" jobCard_jobCard_lists_item__YxRkV jobCard_jobIcon__3FB1t\"]')\n",
    "exp_given"
   ]
  },
  {
   "cell_type": "code",
   "execution_count": 58,
   "id": "af2a941e",
   "metadata": {},
   "outputs": [
    {
     "data": {
      "text/plain": [
       "['2 to 6 Yrs',\n",
       " '0 to 3 Yrs',\n",
       " '0 to 4 Yrs',\n",
       " '0 to 4 Yrs',\n",
       " '2 to 4 Yrs',\n",
       " '4 to 8 Yrs',\n",
       " '10 to 12 Yrs',\n",
       " '4 to 6 Yrs',\n",
       " '0 to 4 Yrs',\n",
       " '2 to 6 Yrs']"
      ]
     },
     "execution_count": 58,
     "metadata": {},
     "output_type": "execute_result"
    }
   ],
   "source": [
    "# Creating an empty list for experience required and looping through the first 10 results.\n",
    "exp_req = []\n",
    "for i in exp_given:\n",
    "    exp_req.append(i.text)\n",
    "    \n",
    "exp_req[:10]"
   ]
  },
  {
   "cell_type": "code",
   "execution_count": 59,
   "id": "cb13bc70",
   "metadata": {},
   "outputs": [
    {
     "data": {
      "text/plain": [
       "[<selenium.webdriver.remote.webelement.WebElement (session=\"57b8814cfd5d6ab61ee29428d6c39d8c\", element=\"47C6F445DD57B54869A46AC7D592B15A_element_2551\")>,\n",
       " <selenium.webdriver.remote.webelement.WebElement (session=\"57b8814cfd5d6ab61ee29428d6c39d8c\", element=\"47C6F445DD57B54869A46AC7D592B15A_element_2624\")>,\n",
       " <selenium.webdriver.remote.webelement.WebElement (session=\"57b8814cfd5d6ab61ee29428d6c39d8c\", element=\"47C6F445DD57B54869A46AC7D592B15A_element_2625\")>,\n",
       " <selenium.webdriver.remote.webelement.WebElement (session=\"57b8814cfd5d6ab61ee29428d6c39d8c\", element=\"47C6F445DD57B54869A46AC7D592B15A_element_2626\")>,\n",
       " <selenium.webdriver.remote.webelement.WebElement (session=\"57b8814cfd5d6ab61ee29428d6c39d8c\", element=\"47C6F445DD57B54869A46AC7D592B15A_element_2627\")>,\n",
       " <selenium.webdriver.remote.webelement.WebElement (session=\"57b8814cfd5d6ab61ee29428d6c39d8c\", element=\"47C6F445DD57B54869A46AC7D592B15A_element_2628\")>,\n",
       " <selenium.webdriver.remote.webelement.WebElement (session=\"57b8814cfd5d6ab61ee29428d6c39d8c\", element=\"47C6F445DD57B54869A46AC7D592B15A_element_2629\")>,\n",
       " <selenium.webdriver.remote.webelement.WebElement (session=\"57b8814cfd5d6ab61ee29428d6c39d8c\", element=\"47C6F445DD57B54869A46AC7D592B15A_element_2630\")>,\n",
       " <selenium.webdriver.remote.webelement.WebElement (session=\"57b8814cfd5d6ab61ee29428d6c39d8c\", element=\"47C6F445DD57B54869A46AC7D592B15A_element_2631\")>,\n",
       " <selenium.webdriver.remote.webelement.WebElement (session=\"57b8814cfd5d6ab61ee29428d6c39d8c\", element=\"47C6F445DD57B54869A46AC7D592B15A_element_2632\")>,\n",
       " <selenium.webdriver.remote.webelement.WebElement (session=\"57b8814cfd5d6ab61ee29428d6c39d8c\", element=\"47C6F445DD57B54869A46AC7D592B15A_element_2633\")>,\n",
       " <selenium.webdriver.remote.webelement.WebElement (session=\"57b8814cfd5d6ab61ee29428d6c39d8c\", element=\"47C6F445DD57B54869A46AC7D592B15A_element_2634\")>,\n",
       " <selenium.webdriver.remote.webelement.WebElement (session=\"57b8814cfd5d6ab61ee29428d6c39d8c\", element=\"47C6F445DD57B54869A46AC7D592B15A_element_2635\")>,\n",
       " <selenium.webdriver.remote.webelement.WebElement (session=\"57b8814cfd5d6ab61ee29428d6c39d8c\", element=\"47C6F445DD57B54869A46AC7D592B15A_element_2636\")>,\n",
       " <selenium.webdriver.remote.webelement.WebElement (session=\"57b8814cfd5d6ab61ee29428d6c39d8c\", element=\"47C6F445DD57B54869A46AC7D592B15A_element_2637\")>,\n",
       " <selenium.webdriver.remote.webelement.WebElement (session=\"57b8814cfd5d6ab61ee29428d6c39d8c\", element=\"47C6F445DD57B54869A46AC7D592B15A_element_2638\")>,\n",
       " <selenium.webdriver.remote.webelement.WebElement (session=\"57b8814cfd5d6ab61ee29428d6c39d8c\", element=\"47C6F445DD57B54869A46AC7D592B15A_element_2639\")>,\n",
       " <selenium.webdriver.remote.webelement.WebElement (session=\"57b8814cfd5d6ab61ee29428d6c39d8c\", element=\"47C6F445DD57B54869A46AC7D592B15A_element_2640\")>,\n",
       " <selenium.webdriver.remote.webelement.WebElement (session=\"57b8814cfd5d6ab61ee29428d6c39d8c\", element=\"47C6F445DD57B54869A46AC7D592B15A_element_2641\")>,\n",
       " <selenium.webdriver.remote.webelement.WebElement (session=\"57b8814cfd5d6ab61ee29428d6c39d8c\", element=\"47C6F445DD57B54869A46AC7D592B15A_element_2642\")>]"
      ]
     },
     "execution_count": 59,
     "metadata": {},
     "output_type": "execute_result"
    }
   ],
   "source": [
    "# Scraping the Company name details from the website\n",
    "company_tags1 = driver.find_elements(By.XPATH,'//div[@class=\"jobCard_jobCard_cName__mYnow\"]')\n",
    "company_tags1"
   ]
  },
  {
   "cell_type": "code",
   "execution_count": 61,
   "id": "8b75fe12",
   "metadata": {},
   "outputs": [
    {
     "data": {
      "text/plain": [
       "['boyen haddin consulting and technol...',\n",
       " 'get hired',\n",
       " 'kavya interprises',\n",
       " 'kavya interprises',\n",
       " 'boyen haddin consulting and technol...',\n",
       " 'boyen haddin consulting and technol...',\n",
       " 'ibm india pvt. limited',\n",
       " 'jpmorgan',\n",
       " 'divya interprises',\n",
       " 'boyen haddin consulting and technol...']"
      ]
     },
     "execution_count": 61,
     "metadata": {},
     "output_type": "execute_result"
    }
   ],
   "source": [
    "# Creating an empty list for company names and looping through the first 10 results.\n",
    "company_name1 = []\n",
    "for i in company_tags1:\n",
    "    company_name1.append(i.text)\n",
    "\n",
    "company_name1[:10]"
   ]
  },
  {
   "cell_type": "code",
   "execution_count": 64,
   "id": "be2ec131",
   "metadata": {},
   "outputs": [],
   "source": [
    "# Creating a Pandas Dataframe\n",
    "jobs1 = pd.DataFrame({})\n",
    "jobs1[\"Job Title\"] = title_name1[:10]\n",
    "jobs1[\"Company Name\"] = company_name1[:10]\n",
    "jobs1[\"Experience Required\"] = exp_req[:10]\n",
    "jobs1[\"Location\"] = location_name1[:10]"
   ]
  },
  {
   "cell_type": "code",
   "execution_count": 65,
   "id": "6b489103",
   "metadata": {},
   "outputs": [
    {
     "data": {
      "text/html": [
       "<div>\n",
       "<style scoped>\n",
       "    .dataframe tbody tr th:only-of-type {\n",
       "        vertical-align: middle;\n",
       "    }\n",
       "\n",
       "    .dataframe tbody tr th {\n",
       "        vertical-align: top;\n",
       "    }\n",
       "\n",
       "    .dataframe thead th {\n",
       "        text-align: right;\n",
       "    }\n",
       "</style>\n",
       "<table border=\"1\" class=\"dataframe\">\n",
       "  <thead>\n",
       "    <tr style=\"text-align: right;\">\n",
       "      <th></th>\n",
       "      <th>Job Title</th>\n",
       "      <th>Company Name</th>\n",
       "      <th>Experience Required</th>\n",
       "      <th>Location</th>\n",
       "    </tr>\n",
       "  </thead>\n",
       "  <tbody>\n",
       "    <tr>\n",
       "      <th>0</th>\n",
       "      <td>Data Scientist - Business Intelligence</td>\n",
       "      <td>boyen haddin consulting and technol...</td>\n",
       "      <td>2 to 6 Yrs</td>\n",
       "      <td>Bangalore</td>\n",
       "    </tr>\n",
       "    <tr>\n",
       "      <th>1</th>\n",
       "      <td>Data Scientist for Bangalore</td>\n",
       "      <td>get hired</td>\n",
       "      <td>0 to 3 Yrs</td>\n",
       "      <td>Bangalore</td>\n",
       "    </tr>\n",
       "    <tr>\n",
       "      <th>2</th>\n",
       "      <td>Hiring For Data Scientist</td>\n",
       "      <td>kavya interprises</td>\n",
       "      <td>0 to 4 Yrs</td>\n",
       "      <td>Bangalore\\n+13</td>\n",
       "    </tr>\n",
       "    <tr>\n",
       "      <th>3</th>\n",
       "      <td>Hiring For Data Scientist</td>\n",
       "      <td>kavya interprises</td>\n",
       "      <td>0 to 4 Yrs</td>\n",
       "      <td>Bangalore\\n+13</td>\n",
       "    </tr>\n",
       "    <tr>\n",
       "      <th>4</th>\n",
       "      <td>Data Scientist - Machine Learning</td>\n",
       "      <td>boyen haddin consulting and technol...</td>\n",
       "      <td>2 to 4 Yrs</td>\n",
       "      <td>Bangalore</td>\n",
       "    </tr>\n",
       "    <tr>\n",
       "      <th>5</th>\n",
       "      <td>Data Scientist - Spark/Python/Redshift</td>\n",
       "      <td>boyen haddin consulting and technol...</td>\n",
       "      <td>4 to 8 Yrs</td>\n",
       "      <td>Bangalore</td>\n",
       "    </tr>\n",
       "    <tr>\n",
       "      <th>6</th>\n",
       "      <td>Data Scientist</td>\n",
       "      <td>ibm india pvt. limited</td>\n",
       "      <td>10 to 12 Yrs</td>\n",
       "      <td>Bangalore</td>\n",
       "    </tr>\n",
       "    <tr>\n",
       "      <th>7</th>\n",
       "      <td>Data Scientist- Associate</td>\n",
       "      <td>jpmorgan</td>\n",
       "      <td>4 to 6 Yrs</td>\n",
       "      <td>Bangalore</td>\n",
       "    </tr>\n",
       "    <tr>\n",
       "      <th>8</th>\n",
       "      <td>Data Scientist Vacancy</td>\n",
       "      <td>divya interprises</td>\n",
       "      <td>0 to 4 Yrs</td>\n",
       "      <td>Bangalore\\n+14</td>\n",
       "    </tr>\n",
       "    <tr>\n",
       "      <th>9</th>\n",
       "      <td>Data Scientist - Business Intelligence</td>\n",
       "      <td>boyen haddin consulting and technol...</td>\n",
       "      <td>2 to 6 Yrs</td>\n",
       "      <td>Bangalore</td>\n",
       "    </tr>\n",
       "  </tbody>\n",
       "</table>\n",
       "</div>"
      ],
      "text/plain": [
       "                                Job Title  \\\n",
       "0  Data Scientist - Business Intelligence   \n",
       "1            Data Scientist for Bangalore   \n",
       "2               Hiring For Data Scientist   \n",
       "3               Hiring For Data Scientist   \n",
       "4       Data Scientist - Machine Learning   \n",
       "5  Data Scientist - Spark/Python/Redshift   \n",
       "6                          Data Scientist   \n",
       "7               Data Scientist- Associate   \n",
       "8                  Data Scientist Vacancy   \n",
       "9  Data Scientist - Business Intelligence   \n",
       "\n",
       "                             Company Name Experience Required        Location  \n",
       "0  boyen haddin consulting and technol...          2 to 6 Yrs       Bangalore  \n",
       "1                               get hired          0 to 3 Yrs       Bangalore  \n",
       "2                       kavya interprises          0 to 4 Yrs  Bangalore\\n+13  \n",
       "3                       kavya interprises          0 to 4 Yrs  Bangalore\\n+13  \n",
       "4  boyen haddin consulting and technol...          2 to 4 Yrs       Bangalore  \n",
       "5  boyen haddin consulting and technol...          4 to 8 Yrs       Bangalore  \n",
       "6                  ibm india pvt. limited        10 to 12 Yrs       Bangalore  \n",
       "7                                jpmorgan          4 to 6 Yrs       Bangalore  \n",
       "8                       divya interprises          0 to 4 Yrs  Bangalore\\n+14  \n",
       "9  boyen haddin consulting and technol...          2 to 6 Yrs       Bangalore  "
      ]
     },
     "execution_count": 65,
     "metadata": {},
     "output_type": "execute_result"
    }
   ],
   "source": [
    "jobs1"
   ]
  },
  {
   "cell_type": "markdown",
   "id": "3e8bd166",
   "metadata": {},
   "source": [
    "Q3: In this question you have to scrape data using the filters available on the webpage\n",
    "You have to use the location and salary filter.\n",
    "You have to scrape data for “Data Scientist” designation for first 10 job results.\n",
    "You have to scrape the job-title, job-location, company name, experience required. The location filter to be used is “Delhi/NCR”. The salary filter to be used is “3-6” lakhs\n",
    "The task will be done as shown in the below steps:\n",
    "1. first get the web page https://www.shine.com/\n",
    "2. Enter “Data Scientist” in “Skill, Designations, and Companies” field.\n",
    "3. Then click the search button.\n",
    "4. Then apply the location filter and salary filter by checking the respective boxes\n",
    "5. Then scrape the data for the first 10 jobs results you get.\n",
    "6. Finally create a dataframe of the scraped data."
   ]
  },
  {
   "cell_type": "code",
   "execution_count": 66,
   "id": "dd7f06de",
   "metadata": {},
   "outputs": [],
   "source": [
    "# Opening an automated web browser and website\n",
    "driver = webdriver.Chrome()\n",
    "driver.get(\"https://www.shine.com/\")"
   ]
  },
  {
   "cell_type": "code",
   "execution_count": 68,
   "id": "31e243b9",
   "metadata": {},
   "outputs": [],
   "source": [
    "# Scraping the Job field and entering \"Data Scientist\" in the field\n",
    "designation2 = driver.find_element(By.ID,'id_q')\n",
    "designation2.send_keys('Data Scientist')"
   ]
  },
  {
   "cell_type": "code",
   "execution_count": 69,
   "id": "4be6e81e",
   "metadata": {},
   "outputs": [],
   "source": [
    "search2 = driver.find_element(By.XPATH,'/html/body/div/div[4]/div/div[2]/div[2]/div/form/div/div[2]/div/button')\n",
    "search2.click()"
   ]
  },
  {
   "cell_type": "code",
   "execution_count": 83,
   "id": "f530e168",
   "metadata": {},
   "outputs": [],
   "source": [
    "# Applying the Location filter \n",
    "location_filter = driver.find_element(By.XPATH,'//button[@class=\"filter_filterBtn__FAqUy btn btn-outline-grey font-size-xs \"]')\n",
    "location_filter.click()"
   ]
  },
  {
   "cell_type": "code",
   "execution_count": 84,
   "id": "bb4a9800",
   "metadata": {},
   "outputs": [],
   "source": [
    "# Selecting the Location Filter and selecting Delhi on the filter\n",
    "loca_filter_search = driver.find_element(By.ID,'search')\n",
    "loca_filter_search.send_keys('Delhi')\n",
    "show_results = driver.find_element(By.XPATH,'//body[@class=\"styledcls_body_hidden\"]')\n",
    "show_results.click()"
   ]
  },
  {
   "cell_type": "code",
   "execution_count": 91,
   "id": "a46793b7",
   "metadata": {},
   "outputs": [],
   "source": [
    "# Applying a Salary FIlter\n",
    "salary_filter = driver.find_element(By.CLASS_NAME,'filter_filter_lists_items__wlFfo')\n",
    "salary_filter.click()"
   ]
  },
  {
   "cell_type": "code",
   "execution_count": 94,
   "id": "f17cc3f1",
   "metadata": {},
   "outputs": [
    {
     "data": {
      "text/plain": [
       "[<selenium.webdriver.remote.webelement.WebElement (session=\"293dd49d4617917af6d91746074a8283\", element=\"BD43A3D0DFAEAA6D410263B6244C0931_element_11922\")>,\n",
       " <selenium.webdriver.remote.webelement.WebElement (session=\"293dd49d4617917af6d91746074a8283\", element=\"BD43A3D0DFAEAA6D410263B6244C0931_element_11927\")>,\n",
       " <selenium.webdriver.remote.webelement.WebElement (session=\"293dd49d4617917af6d91746074a8283\", element=\"BD43A3D0DFAEAA6D410263B6244C0931_element_11928\")>,\n",
       " <selenium.webdriver.remote.webelement.WebElement (session=\"293dd49d4617917af6d91746074a8283\", element=\"BD43A3D0DFAEAA6D410263B6244C0931_element_11929\")>,\n",
       " <selenium.webdriver.remote.webelement.WebElement (session=\"293dd49d4617917af6d91746074a8283\", element=\"BD43A3D0DFAEAA6D410263B6244C0931_element_11930\")>,\n",
       " <selenium.webdriver.remote.webelement.WebElement (session=\"293dd49d4617917af6d91746074a8283\", element=\"BD43A3D0DFAEAA6D410263B6244C0931_element_11931\")>,\n",
       " <selenium.webdriver.remote.webelement.WebElement (session=\"293dd49d4617917af6d91746074a8283\", element=\"BD43A3D0DFAEAA6D410263B6244C0931_element_11932\")>,\n",
       " <selenium.webdriver.remote.webelement.WebElement (session=\"293dd49d4617917af6d91746074a8283\", element=\"BD43A3D0DFAEAA6D410263B6244C0931_element_11933\")>,\n",
       " <selenium.webdriver.remote.webelement.WebElement (session=\"293dd49d4617917af6d91746074a8283\", element=\"BD43A3D0DFAEAA6D410263B6244C0931_element_11934\")>,\n",
       " <selenium.webdriver.remote.webelement.WebElement (session=\"293dd49d4617917af6d91746074a8283\", element=\"BD43A3D0DFAEAA6D410263B6244C0931_element_11935\")>,\n",
       " <selenium.webdriver.remote.webelement.WebElement (session=\"293dd49d4617917af6d91746074a8283\", element=\"BD43A3D0DFAEAA6D410263B6244C0931_element_11936\")>,\n",
       " <selenium.webdriver.remote.webelement.WebElement (session=\"293dd49d4617917af6d91746074a8283\", element=\"BD43A3D0DFAEAA6D410263B6244C0931_element_11937\")>,\n",
       " <selenium.webdriver.remote.webelement.WebElement (session=\"293dd49d4617917af6d91746074a8283\", element=\"BD43A3D0DFAEAA6D410263B6244C0931_element_11938\")>,\n",
       " <selenium.webdriver.remote.webelement.WebElement (session=\"293dd49d4617917af6d91746074a8283\", element=\"BD43A3D0DFAEAA6D410263B6244C0931_element_11939\")>,\n",
       " <selenium.webdriver.remote.webelement.WebElement (session=\"293dd49d4617917af6d91746074a8283\", element=\"BD43A3D0DFAEAA6D410263B6244C0931_element_11940\")>,\n",
       " <selenium.webdriver.remote.webelement.WebElement (session=\"293dd49d4617917af6d91746074a8283\", element=\"BD43A3D0DFAEAA6D410263B6244C0931_element_11941\")>,\n",
       " <selenium.webdriver.remote.webelement.WebElement (session=\"293dd49d4617917af6d91746074a8283\", element=\"BD43A3D0DFAEAA6D410263B6244C0931_element_11942\")>,\n",
       " <selenium.webdriver.remote.webelement.WebElement (session=\"293dd49d4617917af6d91746074a8283\", element=\"BD43A3D0DFAEAA6D410263B6244C0931_element_11943\")>,\n",
       " <selenium.webdriver.remote.webelement.WebElement (session=\"293dd49d4617917af6d91746074a8283\", element=\"BD43A3D0DFAEAA6D410263B6244C0931_element_11944\")>,\n",
       " <selenium.webdriver.remote.webelement.WebElement (session=\"293dd49d4617917af6d91746074a8283\", element=\"BD43A3D0DFAEAA6D410263B6244C0931_element_11945\")>]"
      ]
     },
     "execution_count": 94,
     "metadata": {},
     "output_type": "execute_result"
    }
   ],
   "source": [
    "# Scraping title of the job profile\n",
    "title_tag2 = driver.find_elements(By.XPATH,'//h2[@itemprop=\"name\"]')\n",
    "title_tag2"
   ]
  },
  {
   "cell_type": "code",
   "execution_count": 97,
   "id": "bb6cde27",
   "metadata": {},
   "outputs": [
    {
     "data": {
      "text/plain": [
       "['Data Scientist for Delhi',\n",
       " 'Data Scientist- Delhi',\n",
       " 'Data Scientist-Delhi',\n",
       " 'Clinical Data Management',\n",
       " 'Data Scientist- Delhi',\n",
       " 'Data Scientist- Delhi',\n",
       " 'Clinical Data Manager',\n",
       " 'Work Full/part-time / Work From Home / Computer Operato ...',\n",
       " 'Typing Work-Data Entry-Computer Operator-Freelancing-Wo ...',\n",
       " 'Clinical Data Analyst']"
      ]
     },
     "execution_count": 97,
     "metadata": {},
     "output_type": "execute_result"
    }
   ],
   "source": [
    "# Creating an empty list for job titles and looping through the first 10 results.\n",
    "title_job_name = []\n",
    "for i in title_tag2:\n",
    "    title_job_name.append(i.text)\n",
    "    \n",
    "title_job_name[:10]"
   ]
  },
  {
   "cell_type": "code",
   "execution_count": 98,
   "id": "e8120cd8",
   "metadata": {},
   "outputs": [
    {
     "data": {
      "text/plain": [
       "[<selenium.webdriver.remote.webelement.WebElement (session=\"293dd49d4617917af6d91746074a8283\", element=\"BD43A3D0DFAEAA6D410263B6244C0931_element_2064\")>,\n",
       " <selenium.webdriver.remote.webelement.WebElement (session=\"293dd49d4617917af6d91746074a8283\", element=\"BD43A3D0DFAEAA6D410263B6244C0931_element_11950\")>,\n",
       " <selenium.webdriver.remote.webelement.WebElement (session=\"293dd49d4617917af6d91746074a8283\", element=\"BD43A3D0DFAEAA6D410263B6244C0931_element_11951\")>,\n",
       " <selenium.webdriver.remote.webelement.WebElement (session=\"293dd49d4617917af6d91746074a8283\", element=\"BD43A3D0DFAEAA6D410263B6244C0931_element_11952\")>,\n",
       " <selenium.webdriver.remote.webelement.WebElement (session=\"293dd49d4617917af6d91746074a8283\", element=\"BD43A3D0DFAEAA6D410263B6244C0931_element_11953\")>,\n",
       " <selenium.webdriver.remote.webelement.WebElement (session=\"293dd49d4617917af6d91746074a8283\", element=\"BD43A3D0DFAEAA6D410263B6244C0931_element_11954\")>,\n",
       " <selenium.webdriver.remote.webelement.WebElement (session=\"293dd49d4617917af6d91746074a8283\", element=\"BD43A3D0DFAEAA6D410263B6244C0931_element_11955\")>,\n",
       " <selenium.webdriver.remote.webelement.WebElement (session=\"293dd49d4617917af6d91746074a8283\", element=\"BD43A3D0DFAEAA6D410263B6244C0931_element_11956\")>,\n",
       " <selenium.webdriver.remote.webelement.WebElement (session=\"293dd49d4617917af6d91746074a8283\", element=\"BD43A3D0DFAEAA6D410263B6244C0931_element_11957\")>,\n",
       " <selenium.webdriver.remote.webelement.WebElement (session=\"293dd49d4617917af6d91746074a8283\", element=\"BD43A3D0DFAEAA6D410263B6244C0931_element_11958\")>,\n",
       " <selenium.webdriver.remote.webelement.WebElement (session=\"293dd49d4617917af6d91746074a8283\", element=\"BD43A3D0DFAEAA6D410263B6244C0931_element_11959\")>,\n",
       " <selenium.webdriver.remote.webelement.WebElement (session=\"293dd49d4617917af6d91746074a8283\", element=\"BD43A3D0DFAEAA6D410263B6244C0931_element_11960\")>,\n",
       " <selenium.webdriver.remote.webelement.WebElement (session=\"293dd49d4617917af6d91746074a8283\", element=\"BD43A3D0DFAEAA6D410263B6244C0931_element_11961\")>,\n",
       " <selenium.webdriver.remote.webelement.WebElement (session=\"293dd49d4617917af6d91746074a8283\", element=\"BD43A3D0DFAEAA6D410263B6244C0931_element_11962\")>,\n",
       " <selenium.webdriver.remote.webelement.WebElement (session=\"293dd49d4617917af6d91746074a8283\", element=\"BD43A3D0DFAEAA6D410263B6244C0931_element_11963\")>,\n",
       " <selenium.webdriver.remote.webelement.WebElement (session=\"293dd49d4617917af6d91746074a8283\", element=\"BD43A3D0DFAEAA6D410263B6244C0931_element_11964\")>,\n",
       " <selenium.webdriver.remote.webelement.WebElement (session=\"293dd49d4617917af6d91746074a8283\", element=\"BD43A3D0DFAEAA6D410263B6244C0931_element_11965\")>,\n",
       " <selenium.webdriver.remote.webelement.WebElement (session=\"293dd49d4617917af6d91746074a8283\", element=\"BD43A3D0DFAEAA6D410263B6244C0931_element_11966\")>,\n",
       " <selenium.webdriver.remote.webelement.WebElement (session=\"293dd49d4617917af6d91746074a8283\", element=\"BD43A3D0DFAEAA6D410263B6244C0931_element_11967\")>,\n",
       " <selenium.webdriver.remote.webelement.WebElement (session=\"293dd49d4617917af6d91746074a8283\", element=\"BD43A3D0DFAEAA6D410263B6244C0931_element_11968\")>]"
      ]
     },
     "execution_count": 98,
     "metadata": {},
     "output_type": "execute_result"
    }
   ],
   "source": [
    "# Scraping location of the job profile\n",
    "location_tag2 = driver.find_elements(By.XPATH,'//div[@class=\" jobCard_jobCard_lists_item__YxRkV jobCard_locationIcon__zrWt2\"]')\n",
    "location_tag2"
   ]
  },
  {
   "cell_type": "code",
   "execution_count": 104,
   "id": "193b8bf6",
   "metadata": {},
   "outputs": [
    {
     "data": {
      "text/plain": [
       "['Delhi',\n",
       " 'Delhi',\n",
       " 'Delhi',\n",
       " 'Delhi6',\n",
       " 'Delhi',\n",
       " 'Delhi',\n",
       " 'Delhi6',\n",
       " 'Delhi4',\n",
       " 'Delhi4',\n",
       " 'Delhi6']"
      ]
     },
     "execution_count": 104,
     "metadata": {},
     "output_type": "execute_result"
    }
   ],
   "source": [
    "# Creating an empty list for job location and looping through the first 10 results.\n",
    "job_location2 = []\n",
    "for i in location_tag2:\n",
    "    job_location2.append(i.text.replace('\\n+',''))\n",
    "    \n",
    "job_location2[:10]"
   ]
  },
  {
   "cell_type": "code",
   "execution_count": 105,
   "id": "6b62ed2a",
   "metadata": {},
   "outputs": [
    {
     "data": {
      "text/plain": [
       "[<selenium.webdriver.remote.webelement.WebElement (session=\"293dd49d4617917af6d91746074a8283\", element=\"BD43A3D0DFAEAA6D410263B6244C0931_element_11923\")>,\n",
       " <selenium.webdriver.remote.webelement.WebElement (session=\"293dd49d4617917af6d91746074a8283\", element=\"BD43A3D0DFAEAA6D410263B6244C0931_element_11985\")>,\n",
       " <selenium.webdriver.remote.webelement.WebElement (session=\"293dd49d4617917af6d91746074a8283\", element=\"BD43A3D0DFAEAA6D410263B6244C0931_element_11986\")>,\n",
       " <selenium.webdriver.remote.webelement.WebElement (session=\"293dd49d4617917af6d91746074a8283\", element=\"BD43A3D0DFAEAA6D410263B6244C0931_element_11987\")>,\n",
       " <selenium.webdriver.remote.webelement.WebElement (session=\"293dd49d4617917af6d91746074a8283\", element=\"BD43A3D0DFAEAA6D410263B6244C0931_element_11988\")>,\n",
       " <selenium.webdriver.remote.webelement.WebElement (session=\"293dd49d4617917af6d91746074a8283\", element=\"BD43A3D0DFAEAA6D410263B6244C0931_element_11989\")>,\n",
       " <selenium.webdriver.remote.webelement.WebElement (session=\"293dd49d4617917af6d91746074a8283\", element=\"BD43A3D0DFAEAA6D410263B6244C0931_element_11990\")>,\n",
       " <selenium.webdriver.remote.webelement.WebElement (session=\"293dd49d4617917af6d91746074a8283\", element=\"BD43A3D0DFAEAA6D410263B6244C0931_element_11991\")>,\n",
       " <selenium.webdriver.remote.webelement.WebElement (session=\"293dd49d4617917af6d91746074a8283\", element=\"BD43A3D0DFAEAA6D410263B6244C0931_element_11992\")>,\n",
       " <selenium.webdriver.remote.webelement.WebElement (session=\"293dd49d4617917af6d91746074a8283\", element=\"BD43A3D0DFAEAA6D410263B6244C0931_element_11993\")>,\n",
       " <selenium.webdriver.remote.webelement.WebElement (session=\"293dd49d4617917af6d91746074a8283\", element=\"BD43A3D0DFAEAA6D410263B6244C0931_element_11994\")>,\n",
       " <selenium.webdriver.remote.webelement.WebElement (session=\"293dd49d4617917af6d91746074a8283\", element=\"BD43A3D0DFAEAA6D410263B6244C0931_element_11995\")>,\n",
       " <selenium.webdriver.remote.webelement.WebElement (session=\"293dd49d4617917af6d91746074a8283\", element=\"BD43A3D0DFAEAA6D410263B6244C0931_element_11996\")>,\n",
       " <selenium.webdriver.remote.webelement.WebElement (session=\"293dd49d4617917af6d91746074a8283\", element=\"BD43A3D0DFAEAA6D410263B6244C0931_element_11997\")>,\n",
       " <selenium.webdriver.remote.webelement.WebElement (session=\"293dd49d4617917af6d91746074a8283\", element=\"BD43A3D0DFAEAA6D410263B6244C0931_element_11998\")>,\n",
       " <selenium.webdriver.remote.webelement.WebElement (session=\"293dd49d4617917af6d91746074a8283\", element=\"BD43A3D0DFAEAA6D410263B6244C0931_element_11999\")>,\n",
       " <selenium.webdriver.remote.webelement.WebElement (session=\"293dd49d4617917af6d91746074a8283\", element=\"BD43A3D0DFAEAA6D410263B6244C0931_element_12000\")>,\n",
       " <selenium.webdriver.remote.webelement.WebElement (session=\"293dd49d4617917af6d91746074a8283\", element=\"BD43A3D0DFAEAA6D410263B6244C0931_element_12001\")>,\n",
       " <selenium.webdriver.remote.webelement.WebElement (session=\"293dd49d4617917af6d91746074a8283\", element=\"BD43A3D0DFAEAA6D410263B6244C0931_element_12002\")>,\n",
       " <selenium.webdriver.remote.webelement.WebElement (session=\"293dd49d4617917af6d91746074a8283\", element=\"BD43A3D0DFAEAA6D410263B6244C0931_element_12003\")>]"
      ]
     },
     "execution_count": 105,
     "metadata": {},
     "output_type": "execute_result"
    }
   ],
   "source": [
    "# Scraping the Company name details from the website\n",
    "company_tag2 = driver.find_elements(By.XPATH,'//div[@class=\"jobCard_jobCard_cName__mYnow\"]')\n",
    "company_tag2"
   ]
  },
  {
   "cell_type": "code",
   "execution_count": 107,
   "id": "1eb5cff8",
   "metadata": {},
   "outputs": [
    {
     "data": {
      "text/plain": [
       "['get hired',\n",
       " 'the fashion cosmo',\n",
       " 'shiva hr services',\n",
       " 'techno endura',\n",
       " 'the fashion cosmo',\n",
       " 'the fashion cosmo',\n",
       " 'techno endura',\n",
       " 'desnor destination pvt. ltd.',\n",
       " 'desnor destination pvt. ltd.',\n",
       " 'techno endura']"
      ]
     },
     "execution_count": 107,
     "metadata": {},
     "output_type": "execute_result"
    }
   ],
   "source": [
    "# Creating an empty list for company names and looping through the first 10 results.\n",
    "company_name2 = []\n",
    "for i in company_tag2:\n",
    "    company_name2.append(i.text)\n",
    "    \n",
    "\n",
    "company_name2[:10]"
   ]
  },
  {
   "cell_type": "code",
   "execution_count": 108,
   "id": "a88e5dbe",
   "metadata": {},
   "outputs": [
    {
     "data": {
      "text/plain": [
       "[<selenium.webdriver.remote.webelement.WebElement (session=\"293dd49d4617917af6d91746074a8283\", element=\"BD43A3D0DFAEAA6D410263B6244C0931_element_2063\")>,\n",
       " <selenium.webdriver.remote.webelement.WebElement (session=\"293dd49d4617917af6d91746074a8283\", element=\"BD43A3D0DFAEAA6D410263B6244C0931_element_12004\")>,\n",
       " <selenium.webdriver.remote.webelement.WebElement (session=\"293dd49d4617917af6d91746074a8283\", element=\"BD43A3D0DFAEAA6D410263B6244C0931_element_12005\")>,\n",
       " <selenium.webdriver.remote.webelement.WebElement (session=\"293dd49d4617917af6d91746074a8283\", element=\"BD43A3D0DFAEAA6D410263B6244C0931_element_12006\")>,\n",
       " <selenium.webdriver.remote.webelement.WebElement (session=\"293dd49d4617917af6d91746074a8283\", element=\"BD43A3D0DFAEAA6D410263B6244C0931_element_12007\")>,\n",
       " <selenium.webdriver.remote.webelement.WebElement (session=\"293dd49d4617917af6d91746074a8283\", element=\"BD43A3D0DFAEAA6D410263B6244C0931_element_12008\")>,\n",
       " <selenium.webdriver.remote.webelement.WebElement (session=\"293dd49d4617917af6d91746074a8283\", element=\"BD43A3D0DFAEAA6D410263B6244C0931_element_12009\")>,\n",
       " <selenium.webdriver.remote.webelement.WebElement (session=\"293dd49d4617917af6d91746074a8283\", element=\"BD43A3D0DFAEAA6D410263B6244C0931_element_12010\")>,\n",
       " <selenium.webdriver.remote.webelement.WebElement (session=\"293dd49d4617917af6d91746074a8283\", element=\"BD43A3D0DFAEAA6D410263B6244C0931_element_12011\")>,\n",
       " <selenium.webdriver.remote.webelement.WebElement (session=\"293dd49d4617917af6d91746074a8283\", element=\"BD43A3D0DFAEAA6D410263B6244C0931_element_12012\")>,\n",
       " <selenium.webdriver.remote.webelement.WebElement (session=\"293dd49d4617917af6d91746074a8283\", element=\"BD43A3D0DFAEAA6D410263B6244C0931_element_12013\")>,\n",
       " <selenium.webdriver.remote.webelement.WebElement (session=\"293dd49d4617917af6d91746074a8283\", element=\"BD43A3D0DFAEAA6D410263B6244C0931_element_12014\")>,\n",
       " <selenium.webdriver.remote.webelement.WebElement (session=\"293dd49d4617917af6d91746074a8283\", element=\"BD43A3D0DFAEAA6D410263B6244C0931_element_12015\")>,\n",
       " <selenium.webdriver.remote.webelement.WebElement (session=\"293dd49d4617917af6d91746074a8283\", element=\"BD43A3D0DFAEAA6D410263B6244C0931_element_12016\")>,\n",
       " <selenium.webdriver.remote.webelement.WebElement (session=\"293dd49d4617917af6d91746074a8283\", element=\"BD43A3D0DFAEAA6D410263B6244C0931_element_12017\")>,\n",
       " <selenium.webdriver.remote.webelement.WebElement (session=\"293dd49d4617917af6d91746074a8283\", element=\"BD43A3D0DFAEAA6D410263B6244C0931_element_12018\")>,\n",
       " <selenium.webdriver.remote.webelement.WebElement (session=\"293dd49d4617917af6d91746074a8283\", element=\"BD43A3D0DFAEAA6D410263B6244C0931_element_12019\")>,\n",
       " <selenium.webdriver.remote.webelement.WebElement (session=\"293dd49d4617917af6d91746074a8283\", element=\"BD43A3D0DFAEAA6D410263B6244C0931_element_12020\")>,\n",
       " <selenium.webdriver.remote.webelement.WebElement (session=\"293dd49d4617917af6d91746074a8283\", element=\"BD43A3D0DFAEAA6D410263B6244C0931_element_12021\")>,\n",
       " <selenium.webdriver.remote.webelement.WebElement (session=\"293dd49d4617917af6d91746074a8283\", element=\"BD43A3D0DFAEAA6D410263B6244C0931_element_12022\")>]"
      ]
     },
     "execution_count": 108,
     "metadata": {},
     "output_type": "execute_result"
    }
   ],
   "source": [
    "# Scraping the experience required detail\n",
    "exp_tag2 = driver.find_elements(By.XPATH,'//div[@class=\" jobCard_jobCard_lists_item__YxRkV jobCard_jobIcon__3FB1t\"]')\n",
    "exp_tag2"
   ]
  },
  {
   "cell_type": "code",
   "execution_count": 112,
   "id": "e8715d78",
   "metadata": {},
   "outputs": [
    {
     "data": {
      "text/plain": [
       "['0 to 3 Yrs',\n",
       " '0 to 3 Yrs',\n",
       " '0 to 3 Yrs',\n",
       " '0 to 1 Yr',\n",
       " '0 to 3 Yrs',\n",
       " '0 to 3 Yrs',\n",
       " '0 to 1 Yr',\n",
       " '0 to 4 Yrs',\n",
       " '0 to 4 Yrs',\n",
       " '0 to 1 Yr']"
      ]
     },
     "execution_count": 112,
     "metadata": {},
     "output_type": "execute_result"
    }
   ],
   "source": [
    "# Creating an empty list for experience required and looping through the first 10 results.\n",
    "exp_required2 = []\n",
    "for i in exp_tag2:\n",
    "    exp_required2.append(i.text)\n",
    "    \n",
    "exp_required2[:10]"
   ]
  },
  {
   "cell_type": "code",
   "execution_count": 113,
   "id": "00835d63",
   "metadata": {},
   "outputs": [],
   "source": [
    "# Creating a Pandas Dataframe\n",
    "job_delhi = pd.DataFrame({})\n",
    "job_delhi[\"Job Title\"] = title_job_name[:10]\n",
    "job_delhi[\"Company Name\"] = company_name2[:10]\n",
    "job_delhi[\"Experience Required\"] = exp_required2[:10]\n",
    "job_delhi[\"Location\"] = job_location2[:10]"
   ]
  },
  {
   "cell_type": "code",
   "execution_count": 114,
   "id": "9d727f4f",
   "metadata": {},
   "outputs": [
    {
     "data": {
      "text/html": [
       "<div>\n",
       "<style scoped>\n",
       "    .dataframe tbody tr th:only-of-type {\n",
       "        vertical-align: middle;\n",
       "    }\n",
       "\n",
       "    .dataframe tbody tr th {\n",
       "        vertical-align: top;\n",
       "    }\n",
       "\n",
       "    .dataframe thead th {\n",
       "        text-align: right;\n",
       "    }\n",
       "</style>\n",
       "<table border=\"1\" class=\"dataframe\">\n",
       "  <thead>\n",
       "    <tr style=\"text-align: right;\">\n",
       "      <th></th>\n",
       "      <th>Job Title</th>\n",
       "      <th>Company Name</th>\n",
       "      <th>Experience Required</th>\n",
       "      <th>Location</th>\n",
       "    </tr>\n",
       "  </thead>\n",
       "  <tbody>\n",
       "    <tr>\n",
       "      <th>0</th>\n",
       "      <td>Data Scientist for Delhi</td>\n",
       "      <td>get hired</td>\n",
       "      <td>0 to 3 Yrs</td>\n",
       "      <td>Delhi</td>\n",
       "    </tr>\n",
       "    <tr>\n",
       "      <th>1</th>\n",
       "      <td>Data Scientist- Delhi</td>\n",
       "      <td>the fashion cosmo</td>\n",
       "      <td>0 to 3 Yrs</td>\n",
       "      <td>Delhi</td>\n",
       "    </tr>\n",
       "    <tr>\n",
       "      <th>2</th>\n",
       "      <td>Data Scientist-Delhi</td>\n",
       "      <td>shiva hr services</td>\n",
       "      <td>0 to 3 Yrs</td>\n",
       "      <td>Delhi</td>\n",
       "    </tr>\n",
       "    <tr>\n",
       "      <th>3</th>\n",
       "      <td>Clinical Data Management</td>\n",
       "      <td>techno endura</td>\n",
       "      <td>0 to 1 Yr</td>\n",
       "      <td>Delhi6</td>\n",
       "    </tr>\n",
       "    <tr>\n",
       "      <th>4</th>\n",
       "      <td>Data Scientist- Delhi</td>\n",
       "      <td>the fashion cosmo</td>\n",
       "      <td>0 to 3 Yrs</td>\n",
       "      <td>Delhi</td>\n",
       "    </tr>\n",
       "    <tr>\n",
       "      <th>5</th>\n",
       "      <td>Data Scientist- Delhi</td>\n",
       "      <td>the fashion cosmo</td>\n",
       "      <td>0 to 3 Yrs</td>\n",
       "      <td>Delhi</td>\n",
       "    </tr>\n",
       "    <tr>\n",
       "      <th>6</th>\n",
       "      <td>Clinical Data Manager</td>\n",
       "      <td>techno endura</td>\n",
       "      <td>0 to 1 Yr</td>\n",
       "      <td>Delhi6</td>\n",
       "    </tr>\n",
       "    <tr>\n",
       "      <th>7</th>\n",
       "      <td>Work Full/part-time / Work From Home / Compute...</td>\n",
       "      <td>desnor destination pvt. ltd.</td>\n",
       "      <td>0 to 4 Yrs</td>\n",
       "      <td>Delhi4</td>\n",
       "    </tr>\n",
       "    <tr>\n",
       "      <th>8</th>\n",
       "      <td>Typing Work-Data Entry-Computer Operator-Freel...</td>\n",
       "      <td>desnor destination pvt. ltd.</td>\n",
       "      <td>0 to 4 Yrs</td>\n",
       "      <td>Delhi4</td>\n",
       "    </tr>\n",
       "    <tr>\n",
       "      <th>9</th>\n",
       "      <td>Clinical Data Analyst</td>\n",
       "      <td>techno endura</td>\n",
       "      <td>0 to 1 Yr</td>\n",
       "      <td>Delhi6</td>\n",
       "    </tr>\n",
       "  </tbody>\n",
       "</table>\n",
       "</div>"
      ],
      "text/plain": [
       "                                           Job Title  \\\n",
       "0                           Data Scientist for Delhi   \n",
       "1                              Data Scientist- Delhi   \n",
       "2                               Data Scientist-Delhi   \n",
       "3                           Clinical Data Management   \n",
       "4                              Data Scientist- Delhi   \n",
       "5                              Data Scientist- Delhi   \n",
       "6                              Clinical Data Manager   \n",
       "7  Work Full/part-time / Work From Home / Compute...   \n",
       "8  Typing Work-Data Entry-Computer Operator-Freel...   \n",
       "9                              Clinical Data Analyst   \n",
       "\n",
       "                   Company Name Experience Required Location  \n",
       "0                     get hired          0 to 3 Yrs    Delhi  \n",
       "1             the fashion cosmo          0 to 3 Yrs    Delhi  \n",
       "2             shiva hr services          0 to 3 Yrs    Delhi  \n",
       "3                 techno endura           0 to 1 Yr   Delhi6  \n",
       "4             the fashion cosmo          0 to 3 Yrs    Delhi  \n",
       "5             the fashion cosmo          0 to 3 Yrs    Delhi  \n",
       "6                 techno endura           0 to 1 Yr   Delhi6  \n",
       "7  desnor destination pvt. ltd.          0 to 4 Yrs   Delhi4  \n",
       "8  desnor destination pvt. ltd.          0 to 4 Yrs   Delhi4  \n",
       "9                 techno endura           0 to 1 Yr   Delhi6  "
      ]
     },
     "execution_count": 114,
     "metadata": {},
     "output_type": "execute_result"
    }
   ],
   "source": [
    "job_delhi"
   ]
  },
  {
   "cell_type": "markdown",
   "id": "075e9cce",
   "metadata": {},
   "source": [
    "Q4: Scrape data of first 100 sunglasses listings on flipkart.com. You have to scrape four attributes:\n",
    "\n",
    "6. Brand\n",
    "\n",
    "7. Product Description\n",
    "\n",
    "8. Price"
   ]
  },
  {
   "cell_type": "code",
   "execution_count": 116,
   "id": "7b94c968",
   "metadata": {},
   "outputs": [],
   "source": [
    "# Opening an automated web browser and website\n",
    "driver3 = webdriver.Chrome()\n",
    "driver3.get(\"https://www.flipkart.com/\")"
   ]
  },
  {
   "cell_type": "code",
   "execution_count": 134,
   "id": "e9d9d205",
   "metadata": {},
   "outputs": [],
   "source": [
    "import requests"
   ]
  },
  {
   "cell_type": "code",
   "execution_count": 136,
   "id": "dcb36455",
   "metadata": {},
   "outputs": [
    {
     "data": {
      "text/plain": [
       "<Response [500]>"
      ]
     },
     "execution_count": 136,
     "metadata": {},
     "output_type": "execute_result"
    }
   ],
   "source": [
    "# Asking for request code from the webpage since it was not allowing to scrape data\n",
    "page = requests.get(\"https://www.flipkart.com/\")\n",
    "page"
   ]
  },
  {
   "cell_type": "markdown",
   "id": "f3c8ade2",
   "metadata": {},
   "source": [
    "Response code [500]> so scraping data from Flipkart.com is not possible"
   ]
  },
  {
   "cell_type": "markdown",
   "id": "a26bea28",
   "metadata": {},
   "source": [
    "Q5: Scrape 100 reviews data from flipkart.com for iphone11 phone. You have to go the link: https://www.flipkart.com/apple-iphone-11-black-64-gb/product- reviews/itm4e5041ba101fd?pid=MOBFWQ6BXGJCEYNY&lid=LSTMOBFWQ6BXGJCEYNYZXSHRJ&market place=FLIPKART"
   ]
  },
  {
   "cell_type": "code",
   "execution_count": 137,
   "id": "307100f0",
   "metadata": {},
   "outputs": [
    {
     "data": {
      "text/plain": [
       "<Response [500]>"
      ]
     },
     "execution_count": 137,
     "metadata": {},
     "output_type": "execute_result"
    }
   ],
   "source": [
    "# Asking for request code from the webpage since it was not allowing to scrape data\n",
    "url = requests.get(\"https://www.flipkart.com/search?q=iphone11&otracker=search&otracker1=search&marketplace=FLIPKART&as-show=on&as=off\")\n",
    "url"
   ]
  },
  {
   "cell_type": "markdown",
   "id": "39221492",
   "metadata": {},
   "source": [
    "Flipkart.com is sending a response code [500]> making it impossible for data scraping "
   ]
  },
  {
   "cell_type": "markdown",
   "id": "cff81e81",
   "metadata": {},
   "source": [
    "Q6: Scrape data for first 100 sneakers you find when you visit flipkart.com and search for “sneakers” in the search field.\n",
    "You have to scrape 3 attributes of each sneaker:\n",
    "1. Brand\n",
    "2. Product Description\n",
    "3. Price"
   ]
  },
  {
   "cell_type": "code",
   "execution_count": 138,
   "id": "21610c1a",
   "metadata": {},
   "outputs": [
    {
     "data": {
      "text/plain": [
       "<Response [500]>"
      ]
     },
     "execution_count": 138,
     "metadata": {},
     "output_type": "execute_result"
    }
   ],
   "source": [
    "# Asking for request code from the webpage since it was not allowing to scrape data\n",
    "url = requests.get(\"https://www.flipkart.com/\")\n",
    "url"
   ]
  },
  {
   "cell_type": "markdown",
   "id": "2fe65277",
   "metadata": {},
   "source": [
    "Response code [500]>  even after refreshing the page, changing the PHP version and clearing the cache and cookies."
   ]
  },
  {
   "cell_type": "markdown",
   "id": "316ba903",
   "metadata": {},
   "source": [
    "Q7: Go to webpage https://www.amazon.in/ Enter “Laptop” in the search field and then click the search icon. Then set CPU Type filter to “Intel Core i7” as shown in the below image:"
   ]
  },
  {
   "cell_type": "code",
   "execution_count": 139,
   "id": "eb234a6f",
   "metadata": {},
   "outputs": [
    {
     "data": {
      "text/plain": [
       "<Response [503]>"
      ]
     },
     "execution_count": 139,
     "metadata": {},
     "output_type": "execute_result"
    }
   ],
   "source": [
    "# Asking for request code from the webpage since it was not allowing to scrape data\n",
    "url = requests.get(\"https://www.amazon.in/s?k=laptop&rh=n%3A1375424031%2Cp_n_feature_thirteen_browse-bin%3A12598163031&dc&ds=v1%3A8WQPYZm5IlAE3VmvJAkMQDzltjUpUhnw2ijTqCU5g4U&crid=2LAE7ZXB27EE2&qid=1701358389&rnid=12598141031&sprefix=laptop%2Caps%2C198&ref=sr_nr_p_n_feature_thirteen_browse-bin_12\")\n",
    "url"
   ]
  },
  {
   "cell_type": "markdown",
   "id": "b617bcab",
   "metadata": {},
   "source": [
    "Response code showing [503]> the server is overloading and not processing my request"
   ]
  },
  {
   "cell_type": "markdown",
   "id": "e56f6eb1",
   "metadata": {},
   "source": [
    " Q8: Write a python program to scrape data for Top 1000 Quotes of All Time.\n",
    "The above task will be done in following steps:\n",
    "1. First get the webpagehttps://www.azquotes.com/\n",
    "2. Click on Top Quotes\n",
    "3. Than scrap a) Quote b) Author c) Type Of Quotes"
   ]
  },
  {
   "cell_type": "code",
   "execution_count": 142,
   "id": "dcdb967c",
   "metadata": {},
   "outputs": [],
   "source": [
    "# Opening an automated web browser and website\n",
    "driver = webdriver.Chrome()\n",
    "driver.get(\"https://www.azquotes.com/\")"
   ]
  },
  {
   "cell_type": "code",
   "execution_count": 143,
   "id": "452162b7",
   "metadata": {},
   "outputs": [
    {
     "data": {
      "text/plain": [
       "[<selenium.webdriver.remote.webelement.WebElement (session=\"dec8ca6368245c65c4ee6c658583baff\", element=\"B948502FF85F975270E3DA40752F5145_element_167\")>,\n",
       " <selenium.webdriver.remote.webelement.WebElement (session=\"dec8ca6368245c65c4ee6c658583baff\", element=\"B948502FF85F975270E3DA40752F5145_element_1142\")>,\n",
       " <selenium.webdriver.remote.webelement.WebElement (session=\"dec8ca6368245c65c4ee6c658583baff\", element=\"B948502FF85F975270E3DA40752F5145_element_166\")>,\n",
       " <selenium.webdriver.remote.webelement.WebElement (session=\"dec8ca6368245c65c4ee6c658583baff\", element=\"B948502FF85F975270E3DA40752F5145_element_2177\")>,\n",
       " <selenium.webdriver.remote.webelement.WebElement (session=\"dec8ca6368245c65c4ee6c658583baff\", element=\"B948502FF85F975270E3DA40752F5145_element_2178\")>,\n",
       " <selenium.webdriver.remote.webelement.WebElement (session=\"dec8ca6368245c65c4ee6c658583baff\", element=\"B948502FF85F975270E3DA40752F5145_element_2179\")>,\n",
       " <selenium.webdriver.remote.webelement.WebElement (session=\"dec8ca6368245c65c4ee6c658583baff\", element=\"B948502FF85F975270E3DA40752F5145_element_2180\")>,\n",
       " <selenium.webdriver.remote.webelement.WebElement (session=\"dec8ca6368245c65c4ee6c658583baff\", element=\"B948502FF85F975270E3DA40752F5145_element_2181\")>,\n",
       " <selenium.webdriver.remote.webelement.WebElement (session=\"dec8ca6368245c65c4ee6c658583baff\", element=\"B948502FF85F975270E3DA40752F5145_element_2182\")>,\n",
       " <selenium.webdriver.remote.webelement.WebElement (session=\"dec8ca6368245c65c4ee6c658583baff\", element=\"B948502FF85F975270E3DA40752F5145_element_2183\")>,\n",
       " <selenium.webdriver.remote.webelement.WebElement (session=\"dec8ca6368245c65c4ee6c658583baff\", element=\"B948502FF85F975270E3DA40752F5145_element_2184\")>,\n",
       " <selenium.webdriver.remote.webelement.WebElement (session=\"dec8ca6368245c65c4ee6c658583baff\", element=\"B948502FF85F975270E3DA40752F5145_element_2185\")>,\n",
       " <selenium.webdriver.remote.webelement.WebElement (session=\"dec8ca6368245c65c4ee6c658583baff\", element=\"B948502FF85F975270E3DA40752F5145_element_2186\")>,\n",
       " <selenium.webdriver.remote.webelement.WebElement (session=\"dec8ca6368245c65c4ee6c658583baff\", element=\"B948502FF85F975270E3DA40752F5145_element_2187\")>,\n",
       " <selenium.webdriver.remote.webelement.WebElement (session=\"dec8ca6368245c65c4ee6c658583baff\", element=\"B948502FF85F975270E3DA40752F5145_element_2188\")>,\n",
       " <selenium.webdriver.remote.webelement.WebElement (session=\"dec8ca6368245c65c4ee6c658583baff\", element=\"B948502FF85F975270E3DA40752F5145_element_2189\")>,\n",
       " <selenium.webdriver.remote.webelement.WebElement (session=\"dec8ca6368245c65c4ee6c658583baff\", element=\"B948502FF85F975270E3DA40752F5145_element_2190\")>,\n",
       " <selenium.webdriver.remote.webelement.WebElement (session=\"dec8ca6368245c65c4ee6c658583baff\", element=\"B948502FF85F975270E3DA40752F5145_element_2191\")>,\n",
       " <selenium.webdriver.remote.webelement.WebElement (session=\"dec8ca6368245c65c4ee6c658583baff\", element=\"B948502FF85F975270E3DA40752F5145_element_2192\")>,\n",
       " <selenium.webdriver.remote.webelement.WebElement (session=\"dec8ca6368245c65c4ee6c658583baff\", element=\"B948502FF85F975270E3DA40752F5145_element_2193\")>,\n",
       " <selenium.webdriver.remote.webelement.WebElement (session=\"dec8ca6368245c65c4ee6c658583baff\", element=\"B948502FF85F975270E3DA40752F5145_element_2194\")>,\n",
       " <selenium.webdriver.remote.webelement.WebElement (session=\"dec8ca6368245c65c4ee6c658583baff\", element=\"B948502FF85F975270E3DA40752F5145_element_2195\")>,\n",
       " <selenium.webdriver.remote.webelement.WebElement (session=\"dec8ca6368245c65c4ee6c658583baff\", element=\"B948502FF85F975270E3DA40752F5145_element_2196\")>,\n",
       " <selenium.webdriver.remote.webelement.WebElement (session=\"dec8ca6368245c65c4ee6c658583baff\", element=\"B948502FF85F975270E3DA40752F5145_element_2197\")>,\n",
       " <selenium.webdriver.remote.webelement.WebElement (session=\"dec8ca6368245c65c4ee6c658583baff\", element=\"B948502FF85F975270E3DA40752F5145_element_2198\")>,\n",
       " <selenium.webdriver.remote.webelement.WebElement (session=\"dec8ca6368245c65c4ee6c658583baff\", element=\"B948502FF85F975270E3DA40752F5145_element_2199\")>,\n",
       " <selenium.webdriver.remote.webelement.WebElement (session=\"dec8ca6368245c65c4ee6c658583baff\", element=\"B948502FF85F975270E3DA40752F5145_element_2200\")>,\n",
       " <selenium.webdriver.remote.webelement.WebElement (session=\"dec8ca6368245c65c4ee6c658583baff\", element=\"B948502FF85F975270E3DA40752F5145_element_2201\")>,\n",
       " <selenium.webdriver.remote.webelement.WebElement (session=\"dec8ca6368245c65c4ee6c658583baff\", element=\"B948502FF85F975270E3DA40752F5145_element_2202\")>,\n",
       " <selenium.webdriver.remote.webelement.WebElement (session=\"dec8ca6368245c65c4ee6c658583baff\", element=\"B948502FF85F975270E3DA40752F5145_element_2203\")>,\n",
       " <selenium.webdriver.remote.webelement.WebElement (session=\"dec8ca6368245c65c4ee6c658583baff\", element=\"B948502FF85F975270E3DA40752F5145_element_2204\")>,\n",
       " <selenium.webdriver.remote.webelement.WebElement (session=\"dec8ca6368245c65c4ee6c658583baff\", element=\"B948502FF85F975270E3DA40752F5145_element_2205\")>,\n",
       " <selenium.webdriver.remote.webelement.WebElement (session=\"dec8ca6368245c65c4ee6c658583baff\", element=\"B948502FF85F975270E3DA40752F5145_element_2206\")>,\n",
       " <selenium.webdriver.remote.webelement.WebElement (session=\"dec8ca6368245c65c4ee6c658583baff\", element=\"B948502FF85F975270E3DA40752F5145_element_2207\")>,\n",
       " <selenium.webdriver.remote.webelement.WebElement (session=\"dec8ca6368245c65c4ee6c658583baff\", element=\"B948502FF85F975270E3DA40752F5145_element_2208\")>,\n",
       " <selenium.webdriver.remote.webelement.WebElement (session=\"dec8ca6368245c65c4ee6c658583baff\", element=\"B948502FF85F975270E3DA40752F5145_element_2209\")>,\n",
       " <selenium.webdriver.remote.webelement.WebElement (session=\"dec8ca6368245c65c4ee6c658583baff\", element=\"B948502FF85F975270E3DA40752F5145_element_2210\")>,\n",
       " <selenium.webdriver.remote.webelement.WebElement (session=\"dec8ca6368245c65c4ee6c658583baff\", element=\"B948502FF85F975270E3DA40752F5145_element_2211\")>,\n",
       " <selenium.webdriver.remote.webelement.WebElement (session=\"dec8ca6368245c65c4ee6c658583baff\", element=\"B948502FF85F975270E3DA40752F5145_element_2212\")>,\n",
       " <selenium.webdriver.remote.webelement.WebElement (session=\"dec8ca6368245c65c4ee6c658583baff\", element=\"B948502FF85F975270E3DA40752F5145_element_2213\")>,\n",
       " <selenium.webdriver.remote.webelement.WebElement (session=\"dec8ca6368245c65c4ee6c658583baff\", element=\"B948502FF85F975270E3DA40752F5145_element_2214\")>,\n",
       " <selenium.webdriver.remote.webelement.WebElement (session=\"dec8ca6368245c65c4ee6c658583baff\", element=\"B948502FF85F975270E3DA40752F5145_element_2215\")>,\n",
       " <selenium.webdriver.remote.webelement.WebElement (session=\"dec8ca6368245c65c4ee6c658583baff\", element=\"B948502FF85F975270E3DA40752F5145_element_2216\")>,\n",
       " <selenium.webdriver.remote.webelement.WebElement (session=\"dec8ca6368245c65c4ee6c658583baff\", element=\"B948502FF85F975270E3DA40752F5145_element_2217\")>,\n",
       " <selenium.webdriver.remote.webelement.WebElement (session=\"dec8ca6368245c65c4ee6c658583baff\", element=\"B948502FF85F975270E3DA40752F5145_element_2218\")>,\n",
       " <selenium.webdriver.remote.webelement.WebElement (session=\"dec8ca6368245c65c4ee6c658583baff\", element=\"B948502FF85F975270E3DA40752F5145_element_2219\")>,\n",
       " <selenium.webdriver.remote.webelement.WebElement (session=\"dec8ca6368245c65c4ee6c658583baff\", element=\"B948502FF85F975270E3DA40752F5145_element_2220\")>,\n",
       " <selenium.webdriver.remote.webelement.WebElement (session=\"dec8ca6368245c65c4ee6c658583baff\", element=\"B948502FF85F975270E3DA40752F5145_element_2221\")>,\n",
       " <selenium.webdriver.remote.webelement.WebElement (session=\"dec8ca6368245c65c4ee6c658583baff\", element=\"B948502FF85F975270E3DA40752F5145_element_2222\")>,\n",
       " <selenium.webdriver.remote.webelement.WebElement (session=\"dec8ca6368245c65c4ee6c658583baff\", element=\"B948502FF85F975270E3DA40752F5145_element_2223\")>,\n",
       " <selenium.webdriver.remote.webelement.WebElement (session=\"dec8ca6368245c65c4ee6c658583baff\", element=\"B948502FF85F975270E3DA40752F5145_element_2224\")>,\n",
       " <selenium.webdriver.remote.webelement.WebElement (session=\"dec8ca6368245c65c4ee6c658583baff\", element=\"B948502FF85F975270E3DA40752F5145_element_2225\")>,\n",
       " <selenium.webdriver.remote.webelement.WebElement (session=\"dec8ca6368245c65c4ee6c658583baff\", element=\"B948502FF85F975270E3DA40752F5145_element_2226\")>,\n",
       " <selenium.webdriver.remote.webelement.WebElement (session=\"dec8ca6368245c65c4ee6c658583baff\", element=\"B948502FF85F975270E3DA40752F5145_element_2227\")>,\n",
       " <selenium.webdriver.remote.webelement.WebElement (session=\"dec8ca6368245c65c4ee6c658583baff\", element=\"B948502FF85F975270E3DA40752F5145_element_2228\")>,\n",
       " <selenium.webdriver.remote.webelement.WebElement (session=\"dec8ca6368245c65c4ee6c658583baff\", element=\"B948502FF85F975270E3DA40752F5145_element_2229\")>,\n",
       " <selenium.webdriver.remote.webelement.WebElement (session=\"dec8ca6368245c65c4ee6c658583baff\", element=\"B948502FF85F975270E3DA40752F5145_element_2230\")>,\n",
       " <selenium.webdriver.remote.webelement.WebElement (session=\"dec8ca6368245c65c4ee6c658583baff\", element=\"B948502FF85F975270E3DA40752F5145_element_2231\")>,\n",
       " <selenium.webdriver.remote.webelement.WebElement (session=\"dec8ca6368245c65c4ee6c658583baff\", element=\"B948502FF85F975270E3DA40752F5145_element_2232\")>,\n",
       " <selenium.webdriver.remote.webelement.WebElement (session=\"dec8ca6368245c65c4ee6c658583baff\", element=\"B948502FF85F975270E3DA40752F5145_element_2233\")>,\n",
       " <selenium.webdriver.remote.webelement.WebElement (session=\"dec8ca6368245c65c4ee6c658583baff\", element=\"B948502FF85F975270E3DA40752F5145_element_2234\")>,\n",
       " <selenium.webdriver.remote.webelement.WebElement (session=\"dec8ca6368245c65c4ee6c658583baff\", element=\"B948502FF85F975270E3DA40752F5145_element_2235\")>,\n",
       " <selenium.webdriver.remote.webelement.WebElement (session=\"dec8ca6368245c65c4ee6c658583baff\", element=\"B948502FF85F975270E3DA40752F5145_element_2236\")>,\n",
       " <selenium.webdriver.remote.webelement.WebElement (session=\"dec8ca6368245c65c4ee6c658583baff\", element=\"B948502FF85F975270E3DA40752F5145_element_2237\")>,\n",
       " <selenium.webdriver.remote.webelement.WebElement (session=\"dec8ca6368245c65c4ee6c658583baff\", element=\"B948502FF85F975270E3DA40752F5145_element_2238\")>,\n",
       " <selenium.webdriver.remote.webelement.WebElement (session=\"dec8ca6368245c65c4ee6c658583baff\", element=\"B948502FF85F975270E3DA40752F5145_element_2239\")>,\n",
       " <selenium.webdriver.remote.webelement.WebElement (session=\"dec8ca6368245c65c4ee6c658583baff\", element=\"B948502FF85F975270E3DA40752F5145_element_2240\")>,\n",
       " <selenium.webdriver.remote.webelement.WebElement (session=\"dec8ca6368245c65c4ee6c658583baff\", element=\"B948502FF85F975270E3DA40752F5145_element_2241\")>,\n",
       " <selenium.webdriver.remote.webelement.WebElement (session=\"dec8ca6368245c65c4ee6c658583baff\", element=\"B948502FF85F975270E3DA40752F5145_element_2242\")>,\n",
       " <selenium.webdriver.remote.webelement.WebElement (session=\"dec8ca6368245c65c4ee6c658583baff\", element=\"B948502FF85F975270E3DA40752F5145_element_2243\")>,\n",
       " <selenium.webdriver.remote.webelement.WebElement (session=\"dec8ca6368245c65c4ee6c658583baff\", element=\"B948502FF85F975270E3DA40752F5145_element_2244\")>,\n",
       " <selenium.webdriver.remote.webelement.WebElement (session=\"dec8ca6368245c65c4ee6c658583baff\", element=\"B948502FF85F975270E3DA40752F5145_element_2245\")>,\n",
       " <selenium.webdriver.remote.webelement.WebElement (session=\"dec8ca6368245c65c4ee6c658583baff\", element=\"B948502FF85F975270E3DA40752F5145_element_2246\")>,\n",
       " <selenium.webdriver.remote.webelement.WebElement (session=\"dec8ca6368245c65c4ee6c658583baff\", element=\"B948502FF85F975270E3DA40752F5145_element_2247\")>,\n",
       " <selenium.webdriver.remote.webelement.WebElement (session=\"dec8ca6368245c65c4ee6c658583baff\", element=\"B948502FF85F975270E3DA40752F5145_element_2248\")>,\n",
       " <selenium.webdriver.remote.webelement.WebElement (session=\"dec8ca6368245c65c4ee6c658583baff\", element=\"B948502FF85F975270E3DA40752F5145_element_2249\")>,\n",
       " <selenium.webdriver.remote.webelement.WebElement (session=\"dec8ca6368245c65c4ee6c658583baff\", element=\"B948502FF85F975270E3DA40752F5145_element_2250\")>,\n",
       " <selenium.webdriver.remote.webelement.WebElement (session=\"dec8ca6368245c65c4ee6c658583baff\", element=\"B948502FF85F975270E3DA40752F5145_element_2251\")>,\n",
       " <selenium.webdriver.remote.webelement.WebElement (session=\"dec8ca6368245c65c4ee6c658583baff\", element=\"B948502FF85F975270E3DA40752F5145_element_2252\")>,\n",
       " <selenium.webdriver.remote.webelement.WebElement (session=\"dec8ca6368245c65c4ee6c658583baff\", element=\"B948502FF85F975270E3DA40752F5145_element_2253\")>,\n",
       " <selenium.webdriver.remote.webelement.WebElement (session=\"dec8ca6368245c65c4ee6c658583baff\", element=\"B948502FF85F975270E3DA40752F5145_element_2254\")>,\n",
       " <selenium.webdriver.remote.webelement.WebElement (session=\"dec8ca6368245c65c4ee6c658583baff\", element=\"B948502FF85F975270E3DA40752F5145_element_2255\")>,\n",
       " <selenium.webdriver.remote.webelement.WebElement (session=\"dec8ca6368245c65c4ee6c658583baff\", element=\"B948502FF85F975270E3DA40752F5145_element_2256\")>,\n",
       " <selenium.webdriver.remote.webelement.WebElement (session=\"dec8ca6368245c65c4ee6c658583baff\", element=\"B948502FF85F975270E3DA40752F5145_element_2257\")>,\n",
       " <selenium.webdriver.remote.webelement.WebElement (session=\"dec8ca6368245c65c4ee6c658583baff\", element=\"B948502FF85F975270E3DA40752F5145_element_2258\")>,\n",
       " <selenium.webdriver.remote.webelement.WebElement (session=\"dec8ca6368245c65c4ee6c658583baff\", element=\"B948502FF85F975270E3DA40752F5145_element_2259\")>,\n",
       " <selenium.webdriver.remote.webelement.WebElement (session=\"dec8ca6368245c65c4ee6c658583baff\", element=\"B948502FF85F975270E3DA40752F5145_element_2260\")>,\n",
       " <selenium.webdriver.remote.webelement.WebElement (session=\"dec8ca6368245c65c4ee6c658583baff\", element=\"B948502FF85F975270E3DA40752F5145_element_2261\")>,\n",
       " <selenium.webdriver.remote.webelement.WebElement (session=\"dec8ca6368245c65c4ee6c658583baff\", element=\"B948502FF85F975270E3DA40752F5145_element_2262\")>,\n",
       " <selenium.webdriver.remote.webelement.WebElement (session=\"dec8ca6368245c65c4ee6c658583baff\", element=\"B948502FF85F975270E3DA40752F5145_element_2263\")>,\n",
       " <selenium.webdriver.remote.webelement.WebElement (session=\"dec8ca6368245c65c4ee6c658583baff\", element=\"B948502FF85F975270E3DA40752F5145_element_2264\")>,\n",
       " <selenium.webdriver.remote.webelement.WebElement (session=\"dec8ca6368245c65c4ee6c658583baff\", element=\"B948502FF85F975270E3DA40752F5145_element_2265\")>,\n",
       " <selenium.webdriver.remote.webelement.WebElement (session=\"dec8ca6368245c65c4ee6c658583baff\", element=\"B948502FF85F975270E3DA40752F5145_element_2266\")>,\n",
       " <selenium.webdriver.remote.webelement.WebElement (session=\"dec8ca6368245c65c4ee6c658583baff\", element=\"B948502FF85F975270E3DA40752F5145_element_2267\")>,\n",
       " <selenium.webdriver.remote.webelement.WebElement (session=\"dec8ca6368245c65c4ee6c658583baff\", element=\"B948502FF85F975270E3DA40752F5145_element_2268\")>,\n",
       " <selenium.webdriver.remote.webelement.WebElement (session=\"dec8ca6368245c65c4ee6c658583baff\", element=\"B948502FF85F975270E3DA40752F5145_element_2269\")>,\n",
       " <selenium.webdriver.remote.webelement.WebElement (session=\"dec8ca6368245c65c4ee6c658583baff\", element=\"B948502FF85F975270E3DA40752F5145_element_2270\")>,\n",
       " <selenium.webdriver.remote.webelement.WebElement (session=\"dec8ca6368245c65c4ee6c658583baff\", element=\"B948502FF85F975270E3DA40752F5145_element_2271\")>,\n",
       " <selenium.webdriver.remote.webelement.WebElement (session=\"dec8ca6368245c65c4ee6c658583baff\", element=\"B948502FF85F975270E3DA40752F5145_element_2272\")>,\n",
       " <selenium.webdriver.remote.webelement.WebElement (session=\"dec8ca6368245c65c4ee6c658583baff\", element=\"B948502FF85F975270E3DA40752F5145_element_2273\")>]"
      ]
     },
     "execution_count": 143,
     "metadata": {},
     "output_type": "execute_result"
    }
   ],
   "source": [
    "# Scraping Data for Quotes from the website\n",
    "quote_tag = driver.find_elements(By.XPATH,'//a[@class=\"title\"]')\n",
    "quote_tag"
   ]
  },
  {
   "cell_type": "code",
   "execution_count": 144,
   "id": "bf6e39a9",
   "metadata": {},
   "outputs": [
    {
     "data": {
      "text/plain": [
       "['The essence of strategy is choosing what not to do.',\n",
       " 'One cannot and must not try to erase the past merely because it does not fit the present.',\n",
       " 'Patriotism means to stand by the country. It does not mean to stand by the president.',\n",
       " 'Death is something inevitable. When a man has done what he considers to be his duty to his people and his country, he can rest in peace. I believe I have made that effort and that is, therefore, why I will sleep for the eternity.',\n",
       " 'You have to love a nation that celebrates its independence every July 4, not with a parade of guns, tanks, and soldiers who file by the White House in a show of strength and muscle, but with family picnics where kids throw Frisbees, the potato salad gets iffy, and the flies die from happiness. You may think you have overeaten, but it is patriotism.',\n",
       " 'Be more concerned with your character than your reputation, because your character is what you really are, while your reputation is merely what others think you are.',\n",
       " 'Weak people revenge. Strong people forgive. Intelligent People Ignore.',\n",
       " \"A mind is like a parachute. It doesn't work if it is not open.\",\n",
       " 'Never be afraid to raise your voice for honesty and truth and compassion against injustice and lying and greed. If people all over the world...would do this, it would change the earth.',\n",
       " 'There are three kinds of men. The one that learns by reading. The few who learn by observation. The rest of them have to pee on the electric fence for themselves.',\n",
       " \"A strong nation, like a strong person, can afford to be gentle, firm, thoughtful, and restrained. It can afford to extend a helping hand to others. It's a weak nation, like a weak person, that must behave with bluster and boasting and rashness and other signs of insecurity.\",\n",
       " 'The difference between stupidity and genius is that genius has its limits.',\n",
       " 'We the people are the rightful masters of both Congress and the courts, not to overthrow the Constitution but to overthrow the men who pervert the Constitution.',\n",
       " 'With or without religion, you would have good people doing good things and evil people doing evil things. But for good people to do evil things, that takes religion.',\n",
       " 'Human kindness has never weakened the stamina or softened the fiber of a free people. A nation does not have to be cruel to be tough.',\n",
       " 'A person who never made a mistake never tried anything new.',\n",
       " 'My mission in life is not merely to survive, but to thrive; and to do so with some passion, some compassion, some humor, and some style',\n",
       " 'Life is short, Break the Rules. Forgive quickly, Kiss slowly. Love truly. Laugh uncontrollably And never regret ANYTHING That makes you smile.',\n",
       " 'This country will not be a good place for any of us to live in unless we make it a good place for all of us to live in.',\n",
       " 'In a world filled with hate, we must still dare to hope. In a world filled with anger, we must still dare to comfort. In a world filled with despair, we must still dare to dream. And in a world filled with distrust, we must still dare to believe.',\n",
       " 'Darkness cannot drive out darkness; only light can do that. Hate cannot drive out hate; only love can do that.',\n",
       " 'To be a Christian means to forgive the inexcusable because God has forgiven the inexcusable in you.',\n",
       " 'A man who is good enough to shed his blood for the country is good enough to be given a square deal afterwards.',\n",
       " 'Kindness is the language which the deaf can hear and the blind can see.',\n",
       " 'Most folks are as happy as they make up their minds to be.',\n",
       " 'A happy marriage is the union of two good forgivers.',\n",
       " 'I believe in Christianity as I believe that the sun has risen: not only because I see it, but because by it I see everything else.',\n",
       " 'Politics is the art of looking for trouble, finding it everywhere, diagnosing it incorrectly and applying the wrong remedies.',\n",
       " \"I believe in everything until it's disproved. So I believe in fairies, the myths, dragons. It all exists, even if it's in your mind. Who's to say that dreams and nightmares aren't as real as the here and now?\",\n",
       " 'At the end of your life, you will never regret not having passed one more test, not winning one more verdict or not closing one more deal. You will regret time not spent with a husband, a friend, a child, or a parent.',\n",
       " 'I never think of the future - it comes soon enough.',\n",
       " \"Our greatest fear should not be of failure but of succeeding at things in life that don't really matter.\",\n",
       " 'Failure is simply the opportunity to begin again, this time more intelligently.',\n",
       " 'Music expresses that which cannot be put into words.',\n",
       " 'Good actions are a guard against the blows of adversity.',\n",
       " 'Positive thinking will let you do everything better than negative thinking will.',\n",
       " \"You have enemies? Good. That means you've stood up for something, sometime in your life.\",\n",
       " \"You don't have to be great to start, but you have to start to be great\",\n",
       " 'Let every nation know, whether it wishes us well or ill, that we shall pay any price, bear any burden, meet any hardship, support any friend, oppose any foe to assure the survival and the success of liberty.',\n",
       " \"If you want total security, go to prison. There you're fed, clothed, given medical care and so on. The only thing lacking... is freedom.\",\n",
       " 'Socialism is a philosophy of failure, the creed of ignorance, and the gospel of envy, its inherent virtue is the equal sharing of misery.',\n",
       " 'It is the supreme art of the teacher to awaken joy in creative expression and knowledge.',\n",
       " \"Once you replace negative thoughts with positive ones, you'll start having positive results.\",\n",
       " \"You build on failure. You use it as a stepping stone. Close the door on the past. You don't try to forget the mistakes, but you don't dwell on it. You don't let it have any of your energy, or any of your time, or any of your space.\",\n",
       " 'All my life through, the new sights of Nature made me rejoice like a child.',\n",
       " \"I've learned that people will forget what you said, people will forget what you did, but people will never forget how you made them feel.\",\n",
       " 'Marriage is not a ritual or an end. It is a long, intricate, intimate dance together and nothing matters more than your own sense of balance and your choice of partner.',\n",
       " 'When obstacles arise, you change your direction to reach your goal; you do not change your decision to get there.',\n",
       " 'Time you enjoy wasting, was not wasted.',\n",
       " 'The next time some academics tell you how important diversity is, ask how many Republicans there are in their sociology department.',\n",
       " 'Faith is not the belief that God will do what you want. It is the belief that God will do what is right.',\n",
       " \"If you can't fly then run, if you can't run then walk, if you can't walk then crawl, but whatever you do you have to keep moving forward.\",\n",
       " 'It is hard to imagine a more stupid or more dangerous way of making decisions than by putting those decisions in the hands of people who pay no price for being wrong.',\n",
       " 'I say that the most liberating thing about beauty is realizing that you are the beholder.',\n",
       " 'The ultimate measure of a man is not where he stands in moments of comfort and convenience, but where he stands at times of challenge and controversy.',\n",
       " 'The soldier, above all other people, prays for peace, for he must suffer and bear the deepest wounds and scars of war.',\n",
       " 'A true leader has the confidence to stand alone, the courage to make tough decisions, and the compassion to listen to the needs of others. He does not set out to be a leader, but becomes one by the equality of his actions and the integrity of his intent.',\n",
       " 'I am a Soldier, I fight where I am told, and I win where I fight.',\n",
       " \"Trying to do the Lord's work in your own strength is the most confusing, exhausting, and tedious of all work. But when you are filled with the Holy Spirit, then the ministry of Jesus just flows out of you.\",\n",
       " \"Sports for me is when a guy walks off the court, and you really can't tell whether he won or lost, when he carries himself with pride either way.\",\n",
       " 'Expect the best. Prepare for the worst. Capitalize on what comes.',\n",
       " 'I became insane, with long intervals of horrible sanity.',\n",
       " 'Failure is a detour, not a dead-end street.',\n",
       " 'I am not a product of my circumstances. I am a product of my decisions.',\n",
       " 'You can cut all the flowers but you cannot keep spring from coming.',\n",
       " \"Life doesn't run away from nobody. Life runs at people.\",\n",
       " 'In order to succeed, your desire for success should be greater than your fear of failure.',\n",
       " \"It's difficult to think anything but pleasant thoughts while eating a homegrown tomato.\",\n",
       " 'Too many of us are not living our dreams because we are living our fears.',\n",
       " 'If the only prayer you ever say in your entire life is thank you, it will be enough.',\n",
       " \"It's just a job. Grass grows, birds fly, waves pound the sand. I beat people up.\",\n",
       " 'A man must be big enough to admit his mistakes, smart enough to profit from them, and strong enough to correct them.',\n",
       " 'Our greatest weakness lies in giving up. The most certain way to succeed is always to try just one more time.',\n",
       " 'This is one small step for a man, one giant leap for mankind.',\n",
       " \"It has been said, 'time heals all wounds.' I do not agree. The wounds remain. In time, the mind, protecting its sanity, covers them with scar tissue and the pain lessens. But it is never gone.\",\n",
       " \"I have held many things in my hands, and I have lost them all; but whatever I have placed in God's hands, that I still possess.\",\n",
       " \"Welfare's purpose should be to eliminate, as far as possible, the need for its own existence.\",\n",
       " 'Each time, before you intercede, be quiet first, and worship God in His glory. Think of what He can do, and how He delights to hear the prayers of His redeemed people. Think of your place and privilege in Christ, and expect great things!',\n",
       " \"Failure is not the opposite of success; it's part of success.\",\n",
       " 'No one has ever become poor by giving.',\n",
       " 'It is not my ability, but my response to God’s ability, that counts.',\n",
       " 'No one is born hating another person because of the color of his skin, or his background, or his religion. People must learn to hate, and if they can learn to hate, they can be taught to love, for love comes more naturally to the human heart than its opposite.',\n",
       " 'No matter what people tell you, words and ideas can change the world.',\n",
       " 'A man should never neglect his family for business.',\n",
       " 'Those who dare to fail miserably can achieve greatly.',\n",
       " 'The two most important days in your life are the day you are born and the day you find out why.',\n",
       " 'We must be global Christians with a global vision because our God is a global God.',\n",
       " 'With everything that has happened to you, you can either feel sorry for yourself or treat what has happened as a gift. Everything is either an opportunity to grow or an obstacle to keep you from growing. You get to choose.',\n",
       " 'Don’t let the noise of others’ opinions drown out your own inner voice.',\n",
       " 'History, despite its wrenching pain, cannot be unlived, but if faced with courage, need not be lived again.',\n",
       " \"How old would you be if you didn't know how old you are?\",\n",
       " 'Leadership is a privilege to better the lives of others. It is not an opportunity to satisfy personal greed.',\n",
       " 'If you have good thoughts they will shine out of your face like sunbeams and you will always look lovely.',\n",
       " 'Never cut a tree down in the wintertime. Never make a negative decision in the low time. Never make your most important decisions when you are in your worst moods. Wait. Be patient. The storm will pass. The spring will come.',\n",
       " 'An optimist stays up until midnight to see the new year in. A pessimist stays up to make sure the old year leaves.',\n",
       " 'When the going gets weird, the weird turn pro.',\n",
       " \"When a train goes through a tunnel and it gets dark, you don't throw away the ticket and jump off. You sit still and trust the engineer.\",\n",
       " 'If you think you are too small to make a difference, try sleeping with a mosquito.',\n",
       " \"God doesn't require us to succeed, he only requires that you try.\",\n",
       " 'Change your thoughts and you change your world.']"
      ]
     },
     "execution_count": 144,
     "metadata": {},
     "output_type": "execute_result"
    }
   ],
   "source": [
    "# Creating an empty list for quotes and looping through them\n",
    "quote = []\n",
    "for i in quote_tag:\n",
    "    quote.append(i.text)\n",
    "    \n",
    "    \n",
    "quote"
   ]
  },
  {
   "cell_type": "code",
   "execution_count": 146,
   "id": "e6ef7b59",
   "metadata": {},
   "outputs": [
    {
     "data": {
      "text/plain": [
       "[<selenium.webdriver.remote.webelement.WebElement (session=\"dec8ca6368245c65c4ee6c658583baff\", element=\"B948502FF85F975270E3DA40752F5145_element_125\")>,\n",
       " <selenium.webdriver.remote.webelement.WebElement (session=\"dec8ca6368245c65c4ee6c658583baff\", element=\"B948502FF85F975270E3DA40752F5145_element_2000\")>,\n",
       " <selenium.webdriver.remote.webelement.WebElement (session=\"dec8ca6368245c65c4ee6c658583baff\", element=\"B948502FF85F975270E3DA40752F5145_element_2289\")>,\n",
       " <selenium.webdriver.remote.webelement.WebElement (session=\"dec8ca6368245c65c4ee6c658583baff\", element=\"B948502FF85F975270E3DA40752F5145_element_2290\")>,\n",
       " <selenium.webdriver.remote.webelement.WebElement (session=\"dec8ca6368245c65c4ee6c658583baff\", element=\"B948502FF85F975270E3DA40752F5145_element_2291\")>,\n",
       " <selenium.webdriver.remote.webelement.WebElement (session=\"dec8ca6368245c65c4ee6c658583baff\", element=\"B948502FF85F975270E3DA40752F5145_element_2292\")>,\n",
       " <selenium.webdriver.remote.webelement.WebElement (session=\"dec8ca6368245c65c4ee6c658583baff\", element=\"B948502FF85F975270E3DA40752F5145_element_2293\")>,\n",
       " <selenium.webdriver.remote.webelement.WebElement (session=\"dec8ca6368245c65c4ee6c658583baff\", element=\"B948502FF85F975270E3DA40752F5145_element_2294\")>,\n",
       " <selenium.webdriver.remote.webelement.WebElement (session=\"dec8ca6368245c65c4ee6c658583baff\", element=\"B948502FF85F975270E3DA40752F5145_element_2295\")>,\n",
       " <selenium.webdriver.remote.webelement.WebElement (session=\"dec8ca6368245c65c4ee6c658583baff\", element=\"B948502FF85F975270E3DA40752F5145_element_2296\")>,\n",
       " <selenium.webdriver.remote.webelement.WebElement (session=\"dec8ca6368245c65c4ee6c658583baff\", element=\"B948502FF85F975270E3DA40752F5145_element_2297\")>,\n",
       " <selenium.webdriver.remote.webelement.WebElement (session=\"dec8ca6368245c65c4ee6c658583baff\", element=\"B948502FF85F975270E3DA40752F5145_element_2298\")>,\n",
       " <selenium.webdriver.remote.webelement.WebElement (session=\"dec8ca6368245c65c4ee6c658583baff\", element=\"B948502FF85F975270E3DA40752F5145_element_2299\")>,\n",
       " <selenium.webdriver.remote.webelement.WebElement (session=\"dec8ca6368245c65c4ee6c658583baff\", element=\"B948502FF85F975270E3DA40752F5145_element_2300\")>,\n",
       " <selenium.webdriver.remote.webelement.WebElement (session=\"dec8ca6368245c65c4ee6c658583baff\", element=\"B948502FF85F975270E3DA40752F5145_element_2301\")>,\n",
       " <selenium.webdriver.remote.webelement.WebElement (session=\"dec8ca6368245c65c4ee6c658583baff\", element=\"B948502FF85F975270E3DA40752F5145_element_2302\")>,\n",
       " <selenium.webdriver.remote.webelement.WebElement (session=\"dec8ca6368245c65c4ee6c658583baff\", element=\"B948502FF85F975270E3DA40752F5145_element_2303\")>,\n",
       " <selenium.webdriver.remote.webelement.WebElement (session=\"dec8ca6368245c65c4ee6c658583baff\", element=\"B948502FF85F975270E3DA40752F5145_element_2304\")>,\n",
       " <selenium.webdriver.remote.webelement.WebElement (session=\"dec8ca6368245c65c4ee6c658583baff\", element=\"B948502FF85F975270E3DA40752F5145_element_2305\")>,\n",
       " <selenium.webdriver.remote.webelement.WebElement (session=\"dec8ca6368245c65c4ee6c658583baff\", element=\"B948502FF85F975270E3DA40752F5145_element_2306\")>,\n",
       " <selenium.webdriver.remote.webelement.WebElement (session=\"dec8ca6368245c65c4ee6c658583baff\", element=\"B948502FF85F975270E3DA40752F5145_element_2307\")>,\n",
       " <selenium.webdriver.remote.webelement.WebElement (session=\"dec8ca6368245c65c4ee6c658583baff\", element=\"B948502FF85F975270E3DA40752F5145_element_2308\")>,\n",
       " <selenium.webdriver.remote.webelement.WebElement (session=\"dec8ca6368245c65c4ee6c658583baff\", element=\"B948502FF85F975270E3DA40752F5145_element_2309\")>,\n",
       " <selenium.webdriver.remote.webelement.WebElement (session=\"dec8ca6368245c65c4ee6c658583baff\", element=\"B948502FF85F975270E3DA40752F5145_element_2310\")>,\n",
       " <selenium.webdriver.remote.webelement.WebElement (session=\"dec8ca6368245c65c4ee6c658583baff\", element=\"B948502FF85F975270E3DA40752F5145_element_2311\")>,\n",
       " <selenium.webdriver.remote.webelement.WebElement (session=\"dec8ca6368245c65c4ee6c658583baff\", element=\"B948502FF85F975270E3DA40752F5145_element_2312\")>,\n",
       " <selenium.webdriver.remote.webelement.WebElement (session=\"dec8ca6368245c65c4ee6c658583baff\", element=\"B948502FF85F975270E3DA40752F5145_element_2313\")>,\n",
       " <selenium.webdriver.remote.webelement.WebElement (session=\"dec8ca6368245c65c4ee6c658583baff\", element=\"B948502FF85F975270E3DA40752F5145_element_2314\")>,\n",
       " <selenium.webdriver.remote.webelement.WebElement (session=\"dec8ca6368245c65c4ee6c658583baff\", element=\"B948502FF85F975270E3DA40752F5145_element_2315\")>,\n",
       " <selenium.webdriver.remote.webelement.WebElement (session=\"dec8ca6368245c65c4ee6c658583baff\", element=\"B948502FF85F975270E3DA40752F5145_element_2316\")>,\n",
       " <selenium.webdriver.remote.webelement.WebElement (session=\"dec8ca6368245c65c4ee6c658583baff\", element=\"B948502FF85F975270E3DA40752F5145_element_2317\")>,\n",
       " <selenium.webdriver.remote.webelement.WebElement (session=\"dec8ca6368245c65c4ee6c658583baff\", element=\"B948502FF85F975270E3DA40752F5145_element_2318\")>,\n",
       " <selenium.webdriver.remote.webelement.WebElement (session=\"dec8ca6368245c65c4ee6c658583baff\", element=\"B948502FF85F975270E3DA40752F5145_element_2319\")>,\n",
       " <selenium.webdriver.remote.webelement.WebElement (session=\"dec8ca6368245c65c4ee6c658583baff\", element=\"B948502FF85F975270E3DA40752F5145_element_2320\")>,\n",
       " <selenium.webdriver.remote.webelement.WebElement (session=\"dec8ca6368245c65c4ee6c658583baff\", element=\"B948502FF85F975270E3DA40752F5145_element_2321\")>,\n",
       " <selenium.webdriver.remote.webelement.WebElement (session=\"dec8ca6368245c65c4ee6c658583baff\", element=\"B948502FF85F975270E3DA40752F5145_element_2322\")>,\n",
       " <selenium.webdriver.remote.webelement.WebElement (session=\"dec8ca6368245c65c4ee6c658583baff\", element=\"B948502FF85F975270E3DA40752F5145_element_2323\")>,\n",
       " <selenium.webdriver.remote.webelement.WebElement (session=\"dec8ca6368245c65c4ee6c658583baff\", element=\"B948502FF85F975270E3DA40752F5145_element_2324\")>,\n",
       " <selenium.webdriver.remote.webelement.WebElement (session=\"dec8ca6368245c65c4ee6c658583baff\", element=\"B948502FF85F975270E3DA40752F5145_element_2325\")>,\n",
       " <selenium.webdriver.remote.webelement.WebElement (session=\"dec8ca6368245c65c4ee6c658583baff\", element=\"B948502FF85F975270E3DA40752F5145_element_2326\")>,\n",
       " <selenium.webdriver.remote.webelement.WebElement (session=\"dec8ca6368245c65c4ee6c658583baff\", element=\"B948502FF85F975270E3DA40752F5145_element_2327\")>,\n",
       " <selenium.webdriver.remote.webelement.WebElement (session=\"dec8ca6368245c65c4ee6c658583baff\", element=\"B948502FF85F975270E3DA40752F5145_element_2328\")>,\n",
       " <selenium.webdriver.remote.webelement.WebElement (session=\"dec8ca6368245c65c4ee6c658583baff\", element=\"B948502FF85F975270E3DA40752F5145_element_2329\")>,\n",
       " <selenium.webdriver.remote.webelement.WebElement (session=\"dec8ca6368245c65c4ee6c658583baff\", element=\"B948502FF85F975270E3DA40752F5145_element_2330\")>,\n",
       " <selenium.webdriver.remote.webelement.WebElement (session=\"dec8ca6368245c65c4ee6c658583baff\", element=\"B948502FF85F975270E3DA40752F5145_element_2331\")>,\n",
       " <selenium.webdriver.remote.webelement.WebElement (session=\"dec8ca6368245c65c4ee6c658583baff\", element=\"B948502FF85F975270E3DA40752F5145_element_2332\")>,\n",
       " <selenium.webdriver.remote.webelement.WebElement (session=\"dec8ca6368245c65c4ee6c658583baff\", element=\"B948502FF85F975270E3DA40752F5145_element_2333\")>,\n",
       " <selenium.webdriver.remote.webelement.WebElement (session=\"dec8ca6368245c65c4ee6c658583baff\", element=\"B948502FF85F975270E3DA40752F5145_element_2334\")>,\n",
       " <selenium.webdriver.remote.webelement.WebElement (session=\"dec8ca6368245c65c4ee6c658583baff\", element=\"B948502FF85F975270E3DA40752F5145_element_2335\")>,\n",
       " <selenium.webdriver.remote.webelement.WebElement (session=\"dec8ca6368245c65c4ee6c658583baff\", element=\"B948502FF85F975270E3DA40752F5145_element_2336\")>,\n",
       " <selenium.webdriver.remote.webelement.WebElement (session=\"dec8ca6368245c65c4ee6c658583baff\", element=\"B948502FF85F975270E3DA40752F5145_element_2337\")>,\n",
       " <selenium.webdriver.remote.webelement.WebElement (session=\"dec8ca6368245c65c4ee6c658583baff\", element=\"B948502FF85F975270E3DA40752F5145_element_2338\")>,\n",
       " <selenium.webdriver.remote.webelement.WebElement (session=\"dec8ca6368245c65c4ee6c658583baff\", element=\"B948502FF85F975270E3DA40752F5145_element_2339\")>,\n",
       " <selenium.webdriver.remote.webelement.WebElement (session=\"dec8ca6368245c65c4ee6c658583baff\", element=\"B948502FF85F975270E3DA40752F5145_element_2340\")>,\n",
       " <selenium.webdriver.remote.webelement.WebElement (session=\"dec8ca6368245c65c4ee6c658583baff\", element=\"B948502FF85F975270E3DA40752F5145_element_2341\")>,\n",
       " <selenium.webdriver.remote.webelement.WebElement (session=\"dec8ca6368245c65c4ee6c658583baff\", element=\"B948502FF85F975270E3DA40752F5145_element_2342\")>,\n",
       " <selenium.webdriver.remote.webelement.WebElement (session=\"dec8ca6368245c65c4ee6c658583baff\", element=\"B948502FF85F975270E3DA40752F5145_element_2343\")>,\n",
       " <selenium.webdriver.remote.webelement.WebElement (session=\"dec8ca6368245c65c4ee6c658583baff\", element=\"B948502FF85F975270E3DA40752F5145_element_2344\")>,\n",
       " <selenium.webdriver.remote.webelement.WebElement (session=\"dec8ca6368245c65c4ee6c658583baff\", element=\"B948502FF85F975270E3DA40752F5145_element_2345\")>,\n",
       " <selenium.webdriver.remote.webelement.WebElement (session=\"dec8ca6368245c65c4ee6c658583baff\", element=\"B948502FF85F975270E3DA40752F5145_element_2346\")>,\n",
       " <selenium.webdriver.remote.webelement.WebElement (session=\"dec8ca6368245c65c4ee6c658583baff\", element=\"B948502FF85F975270E3DA40752F5145_element_2347\")>,\n",
       " <selenium.webdriver.remote.webelement.WebElement (session=\"dec8ca6368245c65c4ee6c658583baff\", element=\"B948502FF85F975270E3DA40752F5145_element_2348\")>,\n",
       " <selenium.webdriver.remote.webelement.WebElement (session=\"dec8ca6368245c65c4ee6c658583baff\", element=\"B948502FF85F975270E3DA40752F5145_element_2349\")>,\n",
       " <selenium.webdriver.remote.webelement.WebElement (session=\"dec8ca6368245c65c4ee6c658583baff\", element=\"B948502FF85F975270E3DA40752F5145_element_2350\")>,\n",
       " <selenium.webdriver.remote.webelement.WebElement (session=\"dec8ca6368245c65c4ee6c658583baff\", element=\"B948502FF85F975270E3DA40752F5145_element_2351\")>,\n",
       " <selenium.webdriver.remote.webelement.WebElement (session=\"dec8ca6368245c65c4ee6c658583baff\", element=\"B948502FF85F975270E3DA40752F5145_element_2352\")>,\n",
       " <selenium.webdriver.remote.webelement.WebElement (session=\"dec8ca6368245c65c4ee6c658583baff\", element=\"B948502FF85F975270E3DA40752F5145_element_2353\")>,\n",
       " <selenium.webdriver.remote.webelement.WebElement (session=\"dec8ca6368245c65c4ee6c658583baff\", element=\"B948502FF85F975270E3DA40752F5145_element_2354\")>,\n",
       " <selenium.webdriver.remote.webelement.WebElement (session=\"dec8ca6368245c65c4ee6c658583baff\", element=\"B948502FF85F975270E3DA40752F5145_element_2355\")>,\n",
       " <selenium.webdriver.remote.webelement.WebElement (session=\"dec8ca6368245c65c4ee6c658583baff\", element=\"B948502FF85F975270E3DA40752F5145_element_2356\")>,\n",
       " <selenium.webdriver.remote.webelement.WebElement (session=\"dec8ca6368245c65c4ee6c658583baff\", element=\"B948502FF85F975270E3DA40752F5145_element_2357\")>,\n",
       " <selenium.webdriver.remote.webelement.WebElement (session=\"dec8ca6368245c65c4ee6c658583baff\", element=\"B948502FF85F975270E3DA40752F5145_element_2358\")>,\n",
       " <selenium.webdriver.remote.webelement.WebElement (session=\"dec8ca6368245c65c4ee6c658583baff\", element=\"B948502FF85F975270E3DA40752F5145_element_2359\")>,\n",
       " <selenium.webdriver.remote.webelement.WebElement (session=\"dec8ca6368245c65c4ee6c658583baff\", element=\"B948502FF85F975270E3DA40752F5145_element_2360\")>,\n",
       " <selenium.webdriver.remote.webelement.WebElement (session=\"dec8ca6368245c65c4ee6c658583baff\", element=\"B948502FF85F975270E3DA40752F5145_element_2361\")>,\n",
       " <selenium.webdriver.remote.webelement.WebElement (session=\"dec8ca6368245c65c4ee6c658583baff\", element=\"B948502FF85F975270E3DA40752F5145_element_2362\")>,\n",
       " <selenium.webdriver.remote.webelement.WebElement (session=\"dec8ca6368245c65c4ee6c658583baff\", element=\"B948502FF85F975270E3DA40752F5145_element_2363\")>,\n",
       " <selenium.webdriver.remote.webelement.WebElement (session=\"dec8ca6368245c65c4ee6c658583baff\", element=\"B948502FF85F975270E3DA40752F5145_element_2364\")>,\n",
       " <selenium.webdriver.remote.webelement.WebElement (session=\"dec8ca6368245c65c4ee6c658583baff\", element=\"B948502FF85F975270E3DA40752F5145_element_2365\")>,\n",
       " <selenium.webdriver.remote.webelement.WebElement (session=\"dec8ca6368245c65c4ee6c658583baff\", element=\"B948502FF85F975270E3DA40752F5145_element_2366\")>,\n",
       " <selenium.webdriver.remote.webelement.WebElement (session=\"dec8ca6368245c65c4ee6c658583baff\", element=\"B948502FF85F975270E3DA40752F5145_element_2367\")>,\n",
       " <selenium.webdriver.remote.webelement.WebElement (session=\"dec8ca6368245c65c4ee6c658583baff\", element=\"B948502FF85F975270E3DA40752F5145_element_2368\")>,\n",
       " <selenium.webdriver.remote.webelement.WebElement (session=\"dec8ca6368245c65c4ee6c658583baff\", element=\"B948502FF85F975270E3DA40752F5145_element_2369\")>,\n",
       " <selenium.webdriver.remote.webelement.WebElement (session=\"dec8ca6368245c65c4ee6c658583baff\", element=\"B948502FF85F975270E3DA40752F5145_element_2370\")>,\n",
       " <selenium.webdriver.remote.webelement.WebElement (session=\"dec8ca6368245c65c4ee6c658583baff\", element=\"B948502FF85F975270E3DA40752F5145_element_2371\")>,\n",
       " <selenium.webdriver.remote.webelement.WebElement (session=\"dec8ca6368245c65c4ee6c658583baff\", element=\"B948502FF85F975270E3DA40752F5145_element_2372\")>,\n",
       " <selenium.webdriver.remote.webelement.WebElement (session=\"dec8ca6368245c65c4ee6c658583baff\", element=\"B948502FF85F975270E3DA40752F5145_element_2373\")>,\n",
       " <selenium.webdriver.remote.webelement.WebElement (session=\"dec8ca6368245c65c4ee6c658583baff\", element=\"B948502FF85F975270E3DA40752F5145_element_2374\")>,\n",
       " <selenium.webdriver.remote.webelement.WebElement (session=\"dec8ca6368245c65c4ee6c658583baff\", element=\"B948502FF85F975270E3DA40752F5145_element_2375\")>,\n",
       " <selenium.webdriver.remote.webelement.WebElement (session=\"dec8ca6368245c65c4ee6c658583baff\", element=\"B948502FF85F975270E3DA40752F5145_element_2376\")>,\n",
       " <selenium.webdriver.remote.webelement.WebElement (session=\"dec8ca6368245c65c4ee6c658583baff\", element=\"B948502FF85F975270E3DA40752F5145_element_2377\")>,\n",
       " <selenium.webdriver.remote.webelement.WebElement (session=\"dec8ca6368245c65c4ee6c658583baff\", element=\"B948502FF85F975270E3DA40752F5145_element_2378\")>,\n",
       " <selenium.webdriver.remote.webelement.WebElement (session=\"dec8ca6368245c65c4ee6c658583baff\", element=\"B948502FF85F975270E3DA40752F5145_element_2379\")>,\n",
       " <selenium.webdriver.remote.webelement.WebElement (session=\"dec8ca6368245c65c4ee6c658583baff\", element=\"B948502FF85F975270E3DA40752F5145_element_2380\")>,\n",
       " <selenium.webdriver.remote.webelement.WebElement (session=\"dec8ca6368245c65c4ee6c658583baff\", element=\"B948502FF85F975270E3DA40752F5145_element_2381\")>,\n",
       " <selenium.webdriver.remote.webelement.WebElement (session=\"dec8ca6368245c65c4ee6c658583baff\", element=\"B948502FF85F975270E3DA40752F5145_element_2382\")>,\n",
       " <selenium.webdriver.remote.webelement.WebElement (session=\"dec8ca6368245c65c4ee6c658583baff\", element=\"B948502FF85F975270E3DA40752F5145_element_2383\")>,\n",
       " <selenium.webdriver.remote.webelement.WebElement (session=\"dec8ca6368245c65c4ee6c658583baff\", element=\"B948502FF85F975270E3DA40752F5145_element_2384\")>,\n",
       " <selenium.webdriver.remote.webelement.WebElement (session=\"dec8ca6368245c65c4ee6c658583baff\", element=\"B948502FF85F975270E3DA40752F5145_element_2385\")>,\n",
       " <selenium.webdriver.remote.webelement.WebElement (session=\"dec8ca6368245c65c4ee6c658583baff\", element=\"B948502FF85F975270E3DA40752F5145_element_2386\")>]"
      ]
     },
     "execution_count": 146,
     "metadata": {},
     "output_type": "execute_result"
    }
   ],
   "source": [
    "# Scraping author names from the website\n",
    "author_tags = driver.find_elements(By.XPATH,'//div[@class=\"author\"]')\n",
    "author_tags"
   ]
  },
  {
   "cell_type": "code",
   "execution_count": 147,
   "id": "6b677853",
   "metadata": {},
   "outputs": [
    {
     "data": {
      "text/plain": [
       "['Michael Porter',\n",
       " 'Golda Meir',\n",
       " 'Theodore Roosevelt',\n",
       " 'Nelson Mandela',\n",
       " 'Erma Bombeck',\n",
       " 'John Wooden',\n",
       " 'Albert Einstein',\n",
       " 'Frank Zappa',\n",
       " 'William Faulkner',\n",
       " 'Will Rogers',\n",
       " 'Jimmy Carter',\n",
       " 'Albert Einstein',\n",
       " 'Abraham Lincoln',\n",
       " 'Steven Weinberg',\n",
       " 'Franklin D. Roosevelt',\n",
       " 'Albert Einstein',\n",
       " 'Maya Angelou',\n",
       " 'Mark Twain',\n",
       " 'Theodore Roosevelt',\n",
       " 'Michael Jackson',\n",
       " 'Martin Luther King, Jr.',\n",
       " 'C. S. Lewis',\n",
       " 'Theodore Roosevelt',\n",
       " 'Mark Twain',\n",
       " 'Abraham Lincoln',\n",
       " 'Ruth Graham',\n",
       " 'C. S. Lewis',\n",
       " 'Groucho Marx',\n",
       " 'John Lennon',\n",
       " 'Barbara Bush',\n",
       " 'Albert Einstein',\n",
       " 'Francis Chan',\n",
       " 'Henry Ford',\n",
       " 'Victor Hugo',\n",
       " 'Abu Bakr',\n",
       " 'Zig Ziglar',\n",
       " 'Winston Churchill',\n",
       " 'Zig Ziglar',\n",
       " 'John F. Kennedy',\n",
       " 'Dwight D. Eisenhower',\n",
       " 'Winston Churchill',\n",
       " 'Albert Einstein',\n",
       " 'Willie Nelson',\n",
       " 'Johnny Cash',\n",
       " 'Marie Curie',\n",
       " 'Maya Angelou',\n",
       " 'Amy Bloom',\n",
       " 'Zig Ziglar',\n",
       " 'John Lennon',\n",
       " 'Thomas Sowell',\n",
       " 'Max Lucado',\n",
       " 'Martin Luther King, Jr.',\n",
       " 'Thomas Sowell',\n",
       " 'Salma Hayek',\n",
       " 'Martin Luther King, Jr.',\n",
       " 'Douglas MacArthur',\n",
       " 'Douglas MacArthur',\n",
       " 'George S. Patton',\n",
       " 'Corrie Ten Boom',\n",
       " 'Jim Courier',\n",
       " 'Zig Ziglar',\n",
       " 'Edgar Allan Poe',\n",
       " 'Zig Ziglar',\n",
       " 'Stephen Covey',\n",
       " 'Pablo Neruda',\n",
       " 'Joe Frazier',\n",
       " 'Bill Cosby',\n",
       " 'Lewis Grizzard',\n",
       " 'Les Brown',\n",
       " 'Meister Eckhart',\n",
       " 'Muhammad Ali',\n",
       " 'John C. Maxwell',\n",
       " 'Thomas A. Edison',\n",
       " 'Neil Armstrong',\n",
       " 'Rose Kennedy',\n",
       " 'Martin Luther',\n",
       " 'Ronald Reagan',\n",
       " 'Andrew Murray',\n",
       " 'Arianna Huffington',\n",
       " 'Anne Frank',\n",
       " 'Corrie Ten Boom',\n",
       " 'Nelson Mandela',\n",
       " 'Robin Williams',\n",
       " 'Walt Disney',\n",
       " 'John F. Kennedy',\n",
       " 'Mark Twain',\n",
       " 'John Stott',\n",
       " 'Wayne Dyer',\n",
       " 'Steve Jobs',\n",
       " 'Maya Angelou',\n",
       " 'Satchel Paige',\n",
       " 'Mwai Kibaki',\n",
       " 'Roald Dahl',\n",
       " 'Robert H. Schuller',\n",
       " 'Bill Vaughan',\n",
       " 'Hunter S. Thompson',\n",
       " 'Corrie Ten Boom',\n",
       " 'Dalai Lama',\n",
       " 'Mother Teresa',\n",
       " 'Norman Vincent Peale']"
      ]
     },
     "execution_count": 147,
     "metadata": {},
     "output_type": "execute_result"
    }
   ],
   "source": [
    "# Creating an empty list for author names and looping through them\n",
    "author = []\n",
    "for i in author_tags:\n",
    "    author.append(i.text)\n",
    "    \n",
    "author"
   ]
  },
  {
   "cell_type": "code",
   "execution_count": 148,
   "id": "d374e63f",
   "metadata": {},
   "outputs": [
    {
     "data": {
      "text/plain": [
       "[<selenium.webdriver.remote.webelement.WebElement (session=\"dec8ca6368245c65c4ee6c658583baff\", element=\"B948502FF85F975270E3DA40752F5145_element_2411\")>,\n",
       " <selenium.webdriver.remote.webelement.WebElement (session=\"dec8ca6368245c65c4ee6c658583baff\", element=\"B948502FF85F975270E3DA40752F5145_element_2424\")>,\n",
       " <selenium.webdriver.remote.webelement.WebElement (session=\"dec8ca6368245c65c4ee6c658583baff\", element=\"B948502FF85F975270E3DA40752F5145_element_2425\")>,\n",
       " <selenium.webdriver.remote.webelement.WebElement (session=\"dec8ca6368245c65c4ee6c658583baff\", element=\"B948502FF85F975270E3DA40752F5145_element_2426\")>,\n",
       " <selenium.webdriver.remote.webelement.WebElement (session=\"dec8ca6368245c65c4ee6c658583baff\", element=\"B948502FF85F975270E3DA40752F5145_element_2427\")>,\n",
       " <selenium.webdriver.remote.webelement.WebElement (session=\"dec8ca6368245c65c4ee6c658583baff\", element=\"B948502FF85F975270E3DA40752F5145_element_2428\")>,\n",
       " <selenium.webdriver.remote.webelement.WebElement (session=\"dec8ca6368245c65c4ee6c658583baff\", element=\"B948502FF85F975270E3DA40752F5145_element_2429\")>,\n",
       " <selenium.webdriver.remote.webelement.WebElement (session=\"dec8ca6368245c65c4ee6c658583baff\", element=\"B948502FF85F975270E3DA40752F5145_element_2430\")>,\n",
       " <selenium.webdriver.remote.webelement.WebElement (session=\"dec8ca6368245c65c4ee6c658583baff\", element=\"B948502FF85F975270E3DA40752F5145_element_2431\")>,\n",
       " <selenium.webdriver.remote.webelement.WebElement (session=\"dec8ca6368245c65c4ee6c658583baff\", element=\"B948502FF85F975270E3DA40752F5145_element_2432\")>,\n",
       " <selenium.webdriver.remote.webelement.WebElement (session=\"dec8ca6368245c65c4ee6c658583baff\", element=\"B948502FF85F975270E3DA40752F5145_element_2433\")>,\n",
       " <selenium.webdriver.remote.webelement.WebElement (session=\"dec8ca6368245c65c4ee6c658583baff\", element=\"B948502FF85F975270E3DA40752F5145_element_2434\")>,\n",
       " <selenium.webdriver.remote.webelement.WebElement (session=\"dec8ca6368245c65c4ee6c658583baff\", element=\"B948502FF85F975270E3DA40752F5145_element_2435\")>,\n",
       " <selenium.webdriver.remote.webelement.WebElement (session=\"dec8ca6368245c65c4ee6c658583baff\", element=\"B948502FF85F975270E3DA40752F5145_element_2436\")>,\n",
       " <selenium.webdriver.remote.webelement.WebElement (session=\"dec8ca6368245c65c4ee6c658583baff\", element=\"B948502FF85F975270E3DA40752F5145_element_2437\")>,\n",
       " <selenium.webdriver.remote.webelement.WebElement (session=\"dec8ca6368245c65c4ee6c658583baff\", element=\"B948502FF85F975270E3DA40752F5145_element_2438\")>,\n",
       " <selenium.webdriver.remote.webelement.WebElement (session=\"dec8ca6368245c65c4ee6c658583baff\", element=\"B948502FF85F975270E3DA40752F5145_element_2439\")>,\n",
       " <selenium.webdriver.remote.webelement.WebElement (session=\"dec8ca6368245c65c4ee6c658583baff\", element=\"B948502FF85F975270E3DA40752F5145_element_2440\")>,\n",
       " <selenium.webdriver.remote.webelement.WebElement (session=\"dec8ca6368245c65c4ee6c658583baff\", element=\"B948502FF85F975270E3DA40752F5145_element_2441\")>,\n",
       " <selenium.webdriver.remote.webelement.WebElement (session=\"dec8ca6368245c65c4ee6c658583baff\", element=\"B948502FF85F975270E3DA40752F5145_element_2442\")>,\n",
       " <selenium.webdriver.remote.webelement.WebElement (session=\"dec8ca6368245c65c4ee6c658583baff\", element=\"B948502FF85F975270E3DA40752F5145_element_2443\")>,\n",
       " <selenium.webdriver.remote.webelement.WebElement (session=\"dec8ca6368245c65c4ee6c658583baff\", element=\"B948502FF85F975270E3DA40752F5145_element_2444\")>,\n",
       " <selenium.webdriver.remote.webelement.WebElement (session=\"dec8ca6368245c65c4ee6c658583baff\", element=\"B948502FF85F975270E3DA40752F5145_element_2445\")>,\n",
       " <selenium.webdriver.remote.webelement.WebElement (session=\"dec8ca6368245c65c4ee6c658583baff\", element=\"B948502FF85F975270E3DA40752F5145_element_2446\")>,\n",
       " <selenium.webdriver.remote.webelement.WebElement (session=\"dec8ca6368245c65c4ee6c658583baff\", element=\"B948502FF85F975270E3DA40752F5145_element_2447\")>,\n",
       " <selenium.webdriver.remote.webelement.WebElement (session=\"dec8ca6368245c65c4ee6c658583baff\", element=\"B948502FF85F975270E3DA40752F5145_element_2448\")>,\n",
       " <selenium.webdriver.remote.webelement.WebElement (session=\"dec8ca6368245c65c4ee6c658583baff\", element=\"B948502FF85F975270E3DA40752F5145_element_2449\")>,\n",
       " <selenium.webdriver.remote.webelement.WebElement (session=\"dec8ca6368245c65c4ee6c658583baff\", element=\"B948502FF85F975270E3DA40752F5145_element_2450\")>,\n",
       " <selenium.webdriver.remote.webelement.WebElement (session=\"dec8ca6368245c65c4ee6c658583baff\", element=\"B948502FF85F975270E3DA40752F5145_element_2451\")>,\n",
       " <selenium.webdriver.remote.webelement.WebElement (session=\"dec8ca6368245c65c4ee6c658583baff\", element=\"B948502FF85F975270E3DA40752F5145_element_2452\")>,\n",
       " <selenium.webdriver.remote.webelement.WebElement (session=\"dec8ca6368245c65c4ee6c658583baff\", element=\"B948502FF85F975270E3DA40752F5145_element_2453\")>,\n",
       " <selenium.webdriver.remote.webelement.WebElement (session=\"dec8ca6368245c65c4ee6c658583baff\", element=\"B948502FF85F975270E3DA40752F5145_element_2454\")>,\n",
       " <selenium.webdriver.remote.webelement.WebElement (session=\"dec8ca6368245c65c4ee6c658583baff\", element=\"B948502FF85F975270E3DA40752F5145_element_2455\")>,\n",
       " <selenium.webdriver.remote.webelement.WebElement (session=\"dec8ca6368245c65c4ee6c658583baff\", element=\"B948502FF85F975270E3DA40752F5145_element_2456\")>,\n",
       " <selenium.webdriver.remote.webelement.WebElement (session=\"dec8ca6368245c65c4ee6c658583baff\", element=\"B948502FF85F975270E3DA40752F5145_element_2457\")>,\n",
       " <selenium.webdriver.remote.webelement.WebElement (session=\"dec8ca6368245c65c4ee6c658583baff\", element=\"B948502FF85F975270E3DA40752F5145_element_2458\")>,\n",
       " <selenium.webdriver.remote.webelement.WebElement (session=\"dec8ca6368245c65c4ee6c658583baff\", element=\"B948502FF85F975270E3DA40752F5145_element_2459\")>,\n",
       " <selenium.webdriver.remote.webelement.WebElement (session=\"dec8ca6368245c65c4ee6c658583baff\", element=\"B948502FF85F975270E3DA40752F5145_element_2460\")>,\n",
       " <selenium.webdriver.remote.webelement.WebElement (session=\"dec8ca6368245c65c4ee6c658583baff\", element=\"B948502FF85F975270E3DA40752F5145_element_2461\")>,\n",
       " <selenium.webdriver.remote.webelement.WebElement (session=\"dec8ca6368245c65c4ee6c658583baff\", element=\"B948502FF85F975270E3DA40752F5145_element_2462\")>,\n",
       " <selenium.webdriver.remote.webelement.WebElement (session=\"dec8ca6368245c65c4ee6c658583baff\", element=\"B948502FF85F975270E3DA40752F5145_element_2463\")>,\n",
       " <selenium.webdriver.remote.webelement.WebElement (session=\"dec8ca6368245c65c4ee6c658583baff\", element=\"B948502FF85F975270E3DA40752F5145_element_2464\")>,\n",
       " <selenium.webdriver.remote.webelement.WebElement (session=\"dec8ca6368245c65c4ee6c658583baff\", element=\"B948502FF85F975270E3DA40752F5145_element_2465\")>,\n",
       " <selenium.webdriver.remote.webelement.WebElement (session=\"dec8ca6368245c65c4ee6c658583baff\", element=\"B948502FF85F975270E3DA40752F5145_element_2466\")>,\n",
       " <selenium.webdriver.remote.webelement.WebElement (session=\"dec8ca6368245c65c4ee6c658583baff\", element=\"B948502FF85F975270E3DA40752F5145_element_2467\")>,\n",
       " <selenium.webdriver.remote.webelement.WebElement (session=\"dec8ca6368245c65c4ee6c658583baff\", element=\"B948502FF85F975270E3DA40752F5145_element_2468\")>,\n",
       " <selenium.webdriver.remote.webelement.WebElement (session=\"dec8ca6368245c65c4ee6c658583baff\", element=\"B948502FF85F975270E3DA40752F5145_element_2469\")>,\n",
       " <selenium.webdriver.remote.webelement.WebElement (session=\"dec8ca6368245c65c4ee6c658583baff\", element=\"B948502FF85F975270E3DA40752F5145_element_2470\")>,\n",
       " <selenium.webdriver.remote.webelement.WebElement (session=\"dec8ca6368245c65c4ee6c658583baff\", element=\"B948502FF85F975270E3DA40752F5145_element_2471\")>,\n",
       " <selenium.webdriver.remote.webelement.WebElement (session=\"dec8ca6368245c65c4ee6c658583baff\", element=\"B948502FF85F975270E3DA40752F5145_element_2472\")>,\n",
       " <selenium.webdriver.remote.webelement.WebElement (session=\"dec8ca6368245c65c4ee6c658583baff\", element=\"B948502FF85F975270E3DA40752F5145_element_2473\")>,\n",
       " <selenium.webdriver.remote.webelement.WebElement (session=\"dec8ca6368245c65c4ee6c658583baff\", element=\"B948502FF85F975270E3DA40752F5145_element_2474\")>,\n",
       " <selenium.webdriver.remote.webelement.WebElement (session=\"dec8ca6368245c65c4ee6c658583baff\", element=\"B948502FF85F975270E3DA40752F5145_element_2475\")>,\n",
       " <selenium.webdriver.remote.webelement.WebElement (session=\"dec8ca6368245c65c4ee6c658583baff\", element=\"B948502FF85F975270E3DA40752F5145_element_2476\")>,\n",
       " <selenium.webdriver.remote.webelement.WebElement (session=\"dec8ca6368245c65c4ee6c658583baff\", element=\"B948502FF85F975270E3DA40752F5145_element_2477\")>,\n",
       " <selenium.webdriver.remote.webelement.WebElement (session=\"dec8ca6368245c65c4ee6c658583baff\", element=\"B948502FF85F975270E3DA40752F5145_element_2478\")>,\n",
       " <selenium.webdriver.remote.webelement.WebElement (session=\"dec8ca6368245c65c4ee6c658583baff\", element=\"B948502FF85F975270E3DA40752F5145_element_2479\")>,\n",
       " <selenium.webdriver.remote.webelement.WebElement (session=\"dec8ca6368245c65c4ee6c658583baff\", element=\"B948502FF85F975270E3DA40752F5145_element_2480\")>,\n",
       " <selenium.webdriver.remote.webelement.WebElement (session=\"dec8ca6368245c65c4ee6c658583baff\", element=\"B948502FF85F975270E3DA40752F5145_element_2481\")>,\n",
       " <selenium.webdriver.remote.webelement.WebElement (session=\"dec8ca6368245c65c4ee6c658583baff\", element=\"B948502FF85F975270E3DA40752F5145_element_2482\")>,\n",
       " <selenium.webdriver.remote.webelement.WebElement (session=\"dec8ca6368245c65c4ee6c658583baff\", element=\"B948502FF85F975270E3DA40752F5145_element_2483\")>,\n",
       " <selenium.webdriver.remote.webelement.WebElement (session=\"dec8ca6368245c65c4ee6c658583baff\", element=\"B948502FF85F975270E3DA40752F5145_element_2484\")>,\n",
       " <selenium.webdriver.remote.webelement.WebElement (session=\"dec8ca6368245c65c4ee6c658583baff\", element=\"B948502FF85F975270E3DA40752F5145_element_2485\")>,\n",
       " <selenium.webdriver.remote.webelement.WebElement (session=\"dec8ca6368245c65c4ee6c658583baff\", element=\"B948502FF85F975270E3DA40752F5145_element_2486\")>,\n",
       " <selenium.webdriver.remote.webelement.WebElement (session=\"dec8ca6368245c65c4ee6c658583baff\", element=\"B948502FF85F975270E3DA40752F5145_element_2487\")>,\n",
       " <selenium.webdriver.remote.webelement.WebElement (session=\"dec8ca6368245c65c4ee6c658583baff\", element=\"B948502FF85F975270E3DA40752F5145_element_2488\")>,\n",
       " <selenium.webdriver.remote.webelement.WebElement (session=\"dec8ca6368245c65c4ee6c658583baff\", element=\"B948502FF85F975270E3DA40752F5145_element_2489\")>,\n",
       " <selenium.webdriver.remote.webelement.WebElement (session=\"dec8ca6368245c65c4ee6c658583baff\", element=\"B948502FF85F975270E3DA40752F5145_element_2490\")>,\n",
       " <selenium.webdriver.remote.webelement.WebElement (session=\"dec8ca6368245c65c4ee6c658583baff\", element=\"B948502FF85F975270E3DA40752F5145_element_2491\")>,\n",
       " <selenium.webdriver.remote.webelement.WebElement (session=\"dec8ca6368245c65c4ee6c658583baff\", element=\"B948502FF85F975270E3DA40752F5145_element_2492\")>,\n",
       " <selenium.webdriver.remote.webelement.WebElement (session=\"dec8ca6368245c65c4ee6c658583baff\", element=\"B948502FF85F975270E3DA40752F5145_element_2493\")>,\n",
       " <selenium.webdriver.remote.webelement.WebElement (session=\"dec8ca6368245c65c4ee6c658583baff\", element=\"B948502FF85F975270E3DA40752F5145_element_2494\")>,\n",
       " <selenium.webdriver.remote.webelement.WebElement (session=\"dec8ca6368245c65c4ee6c658583baff\", element=\"B948502FF85F975270E3DA40752F5145_element_2495\")>,\n",
       " <selenium.webdriver.remote.webelement.WebElement (session=\"dec8ca6368245c65c4ee6c658583baff\", element=\"B948502FF85F975270E3DA40752F5145_element_2496\")>,\n",
       " <selenium.webdriver.remote.webelement.WebElement (session=\"dec8ca6368245c65c4ee6c658583baff\", element=\"B948502FF85F975270E3DA40752F5145_element_2497\")>,\n",
       " <selenium.webdriver.remote.webelement.WebElement (session=\"dec8ca6368245c65c4ee6c658583baff\", element=\"B948502FF85F975270E3DA40752F5145_element_2498\")>,\n",
       " <selenium.webdriver.remote.webelement.WebElement (session=\"dec8ca6368245c65c4ee6c658583baff\", element=\"B948502FF85F975270E3DA40752F5145_element_2499\")>,\n",
       " <selenium.webdriver.remote.webelement.WebElement (session=\"dec8ca6368245c65c4ee6c658583baff\", element=\"B948502FF85F975270E3DA40752F5145_element_2500\")>,\n",
       " <selenium.webdriver.remote.webelement.WebElement (session=\"dec8ca6368245c65c4ee6c658583baff\", element=\"B948502FF85F975270E3DA40752F5145_element_2501\")>,\n",
       " <selenium.webdriver.remote.webelement.WebElement (session=\"dec8ca6368245c65c4ee6c658583baff\", element=\"B948502FF85F975270E3DA40752F5145_element_2502\")>,\n",
       " <selenium.webdriver.remote.webelement.WebElement (session=\"dec8ca6368245c65c4ee6c658583baff\", element=\"B948502FF85F975270E3DA40752F5145_element_2503\")>,\n",
       " <selenium.webdriver.remote.webelement.WebElement (session=\"dec8ca6368245c65c4ee6c658583baff\", element=\"B948502FF85F975270E3DA40752F5145_element_2504\")>,\n",
       " <selenium.webdriver.remote.webelement.WebElement (session=\"dec8ca6368245c65c4ee6c658583baff\", element=\"B948502FF85F975270E3DA40752F5145_element_2505\")>,\n",
       " <selenium.webdriver.remote.webelement.WebElement (session=\"dec8ca6368245c65c4ee6c658583baff\", element=\"B948502FF85F975270E3DA40752F5145_element_2506\")>,\n",
       " <selenium.webdriver.remote.webelement.WebElement (session=\"dec8ca6368245c65c4ee6c658583baff\", element=\"B948502FF85F975270E3DA40752F5145_element_2507\")>,\n",
       " <selenium.webdriver.remote.webelement.WebElement (session=\"dec8ca6368245c65c4ee6c658583baff\", element=\"B948502FF85F975270E3DA40752F5145_element_2508\")>,\n",
       " <selenium.webdriver.remote.webelement.WebElement (session=\"dec8ca6368245c65c4ee6c658583baff\", element=\"B948502FF85F975270E3DA40752F5145_element_2509\")>,\n",
       " <selenium.webdriver.remote.webelement.WebElement (session=\"dec8ca6368245c65c4ee6c658583baff\", element=\"B948502FF85F975270E3DA40752F5145_element_2510\")>,\n",
       " <selenium.webdriver.remote.webelement.WebElement (session=\"dec8ca6368245c65c4ee6c658583baff\", element=\"B948502FF85F975270E3DA40752F5145_element_2511\")>,\n",
       " <selenium.webdriver.remote.webelement.WebElement (session=\"dec8ca6368245c65c4ee6c658583baff\", element=\"B948502FF85F975270E3DA40752F5145_element_2512\")>,\n",
       " <selenium.webdriver.remote.webelement.WebElement (session=\"dec8ca6368245c65c4ee6c658583baff\", element=\"B948502FF85F975270E3DA40752F5145_element_2513\")>,\n",
       " <selenium.webdriver.remote.webelement.WebElement (session=\"dec8ca6368245c65c4ee6c658583baff\", element=\"B948502FF85F975270E3DA40752F5145_element_2514\")>,\n",
       " <selenium.webdriver.remote.webelement.WebElement (session=\"dec8ca6368245c65c4ee6c658583baff\", element=\"B948502FF85F975270E3DA40752F5145_element_2515\")>,\n",
       " <selenium.webdriver.remote.webelement.WebElement (session=\"dec8ca6368245c65c4ee6c658583baff\", element=\"B948502FF85F975270E3DA40752F5145_element_2516\")>,\n",
       " <selenium.webdriver.remote.webelement.WebElement (session=\"dec8ca6368245c65c4ee6c658583baff\", element=\"B948502FF85F975270E3DA40752F5145_element_2517\")>,\n",
       " <selenium.webdriver.remote.webelement.WebElement (session=\"dec8ca6368245c65c4ee6c658583baff\", element=\"B948502FF85F975270E3DA40752F5145_element_2518\")>,\n",
       " <selenium.webdriver.remote.webelement.WebElement (session=\"dec8ca6368245c65c4ee6c658583baff\", element=\"B948502FF85F975270E3DA40752F5145_element_2519\")>,\n",
       " <selenium.webdriver.remote.webelement.WebElement (session=\"dec8ca6368245c65c4ee6c658583baff\", element=\"B948502FF85F975270E3DA40752F5145_element_2520\")>,\n",
       " <selenium.webdriver.remote.webelement.WebElement (session=\"dec8ca6368245c65c4ee6c658583baff\", element=\"B948502FF85F975270E3DA40752F5145_element_2521\")>,\n",
       " <selenium.webdriver.remote.webelement.WebElement (session=\"dec8ca6368245c65c4ee6c658583baff\", element=\"B948502FF85F975270E3DA40752F5145_element_2522\")>]"
      ]
     },
     "execution_count": 148,
     "metadata": {},
     "output_type": "execute_result"
    }
   ],
   "source": [
    "# Scraping details of the quote type from the website\n",
    "type_tags = driver.find_elements(By.XPATH,'//div[@class=\"tags\"]')\n",
    "type_tags"
   ]
  },
  {
   "cell_type": "code",
   "execution_count": 149,
   "id": "d7e5d909",
   "metadata": {},
   "outputs": [
    {
     "data": {
      "text/plain": [
       "['Essence, Deep Thought, Transcendentalism',\n",
       " 'Inspiration, Past, Trying',\n",
       " 'Country, Peace, War',\n",
       " 'Inspirational, Motivational, Death',\n",
       " '4th Of July, Food, Patriotic',\n",
       " 'Inspirational, Success, Basketball',\n",
       " 'Strong, Revenge, Intelligent',\n",
       " 'Inspirational, Teacher, Religious',\n",
       " 'Truth, Honesty, Lying',\n",
       " 'Funny, Reading, Learning',\n",
       " 'Strong, Thoughtful, Compassion',\n",
       " 'Love, Funny, Life',\n",
       " 'Freedom, Men, Democracies Have',\n",
       " 'God, Religious, Atheist',\n",
       " 'Respect, Kindness, Character',\n",
       " 'Inspirational, Motivational, Change',\n",
       " 'Inspirational, Life, Inspiring',\n",
       " 'Love, Inspirational, Life',\n",
       " 'Inspiring, Country, 4th Of July',\n",
       " 'Inspirational, Dream, Hate',\n",
       " 'Love, Inspirational, Life',\n",
       " 'Forgiveness, God, Christian',\n",
       " 'Country, Men, Squares',\n",
       " 'Inspirational, Relationship, Positive',\n",
       " 'Inspirational, Motivational, Positive',\n",
       " 'Love, Friendship, Relationship',\n",
       " 'Faith, God, Christian',\n",
       " 'Art, Freedom, Political Will',\n",
       " 'Inspirational, Life, Faith',\n",
       " 'Inspirational, Life, Meaningful',\n",
       " 'Happiness, Time, Clever',\n",
       " 'Inspirational, Inspiring, Success',\n",
       " 'Love, Inspirational, Life',\n",
       " 'Music, Sound And Music, Musical Life',\n",
       " 'Adversity, Blow, Action',\n",
       " 'Positive, Thinking Of You, Attitude',\n",
       " 'Inspirational, Funny, Life',\n",
       " 'Inspirational, Life, Motivational',\n",
       " 'Inspirational, Memorial Day, Freedom',\n",
       " 'Freedom, Patriotic, Vaccines',\n",
       " 'Philosophy, Ignorance, Democratic Socialism',\n",
       " 'Inspirational, Dance, Education',\n",
       " 'Life, Change, Positive',\n",
       " 'Life, Bullying, Mistake',\n",
       " 'Life, Nature, Children',\n",
       " 'Inspirational, Life, Motivational',\n",
       " 'Marriage, Love You, Long',\n",
       " 'Inspirational, Motivational, Success',\n",
       " 'Love, Inspirational, Life',\n",
       " 'Diversity, Important, Liberty',\n",
       " 'Inspirational, God, Faith',\n",
       " 'Inspirational, Motivational, Inspiring',\n",
       " 'Business, Stupid, Government',\n",
       " 'Beauty, Love Yourself, Your Beautiful',\n",
       " 'Inspirational, Life, Motivational',\n",
       " 'Peace, Military, War',\n",
       " 'Inspirational, Leadership, Confidence',\n",
       " 'Motivational, Military, War',\n",
       " 'Christian, Jesus, Confusing',\n",
       " 'Inspirational, Success, Sports',\n",
       " 'Inspirational, Motivational, Success',\n",
       " 'Inspirational, Life, Clever',\n",
       " 'Inspirational, Death, Failure',\n",
       " 'Inspirational, Life, Motivational',\n",
       " 'Inspiring, Hope, Spring',\n",
       " 'Motivational, Running, People',\n",
       " 'Inspirational, Motivational, Positive',\n",
       " 'Summer, Food, Garden',\n",
       " 'Inspirational, Life, Motivational',\n",
       " 'Inspirational, Life, Thank You',\n",
       " 'Funny, Sports, Jobs',\n",
       " 'Being Strong, Wisdom, Stay Strong',\n",
       " 'Inspirational, Motivational, Positive',\n",
       " 'Motivational, Positive, Moon',\n",
       " 'Time, Pain, Get Well',\n",
       " 'Life, God, Christian',\n",
       " 'President, Needs, Purpose',\n",
       " 'God, Faith, Christian',\n",
       " 'Women, Failure, Successful',\n",
       " 'Inspirational, Morning, Kindness',\n",
       " 'Hiding Place, Ability, Baby Boom',\n",
       " 'Love, Inspirational, Life',\n",
       " 'Inspirational, Change, Philosophy',\n",
       " 'Inspirational, Family, Inspiring',\n",
       " 'Inspirational, Success, Courage',\n",
       " 'Inspirational, Life, Motivational',\n",
       " 'Christian, Vision, Missionary',\n",
       " 'Inspirational, Positive, Regret',\n",
       " 'Love, Inspirational, Life',\n",
       " 'Inspirational, Life, Encouragement',\n",
       " 'Happy Birthday, Baseball, Fun',\n",
       " 'Leadership, Power, Opportunity',\n",
       " 'Inspirational, Life, Positive',\n",
       " 'Inspirational, Encouraging, Patience',\n",
       " 'New Year, Fun, New Beginnings',\n",
       " 'Music, Sports, Hunting',\n",
       " 'Trust, Encouraging, Uplifting',\n",
       " 'Inspirational, Funny, Change',\n",
       " 'Success, God, Mother',\n",
       " 'Inspirational, Motivational, Change']"
      ]
     },
     "execution_count": 149,
     "metadata": {},
     "output_type": "execute_result"
    }
   ],
   "source": [
    "# Creating an empty list for the details of the quote and looping through it\n",
    "type_of_quote = []\n",
    "for i in type_tags:\n",
    "    type_of_quote.append(i.text)\n",
    "    \n",
    "type_of_quote"
   ]
  },
  {
   "cell_type": "code",
   "execution_count": 150,
   "id": "c3ba95e7",
   "metadata": {},
   "outputs": [],
   "source": [
    "# Creating a Pandas Dataframe for the data\n",
    "df = pd.DataFrame({})\n",
    "df[\"Quote\"] = quote\n",
    "df[\"Author\"] = author\n",
    "df[\"Quote Type\"] = type_of_quote"
   ]
  },
  {
   "cell_type": "code",
   "execution_count": 151,
   "id": "4ab49cd8",
   "metadata": {},
   "outputs": [
    {
     "data": {
      "text/html": [
       "<div>\n",
       "<style scoped>\n",
       "    .dataframe tbody tr th:only-of-type {\n",
       "        vertical-align: middle;\n",
       "    }\n",
       "\n",
       "    .dataframe tbody tr th {\n",
       "        vertical-align: top;\n",
       "    }\n",
       "\n",
       "    .dataframe thead th {\n",
       "        text-align: right;\n",
       "    }\n",
       "</style>\n",
       "<table border=\"1\" class=\"dataframe\">\n",
       "  <thead>\n",
       "    <tr style=\"text-align: right;\">\n",
       "      <th></th>\n",
       "      <th>Quote</th>\n",
       "      <th>Author</th>\n",
       "      <th>Quote Type</th>\n",
       "    </tr>\n",
       "  </thead>\n",
       "  <tbody>\n",
       "    <tr>\n",
       "      <th>0</th>\n",
       "      <td>The essence of strategy is choosing what not t...</td>\n",
       "      <td>Michael Porter</td>\n",
       "      <td>Essence, Deep Thought, Transcendentalism</td>\n",
       "    </tr>\n",
       "    <tr>\n",
       "      <th>1</th>\n",
       "      <td>One cannot and must not try to erase the past ...</td>\n",
       "      <td>Golda Meir</td>\n",
       "      <td>Inspiration, Past, Trying</td>\n",
       "    </tr>\n",
       "    <tr>\n",
       "      <th>2</th>\n",
       "      <td>Patriotism means to stand by the country. It d...</td>\n",
       "      <td>Theodore Roosevelt</td>\n",
       "      <td>Country, Peace, War</td>\n",
       "    </tr>\n",
       "    <tr>\n",
       "      <th>3</th>\n",
       "      <td>Death is something inevitable. When a man has ...</td>\n",
       "      <td>Nelson Mandela</td>\n",
       "      <td>Inspirational, Motivational, Death</td>\n",
       "    </tr>\n",
       "    <tr>\n",
       "      <th>4</th>\n",
       "      <td>You have to love a nation that celebrates its ...</td>\n",
       "      <td>Erma Bombeck</td>\n",
       "      <td>4th Of July, Food, Patriotic</td>\n",
       "    </tr>\n",
       "    <tr>\n",
       "      <th>...</th>\n",
       "      <td>...</td>\n",
       "      <td>...</td>\n",
       "      <td>...</td>\n",
       "    </tr>\n",
       "    <tr>\n",
       "      <th>95</th>\n",
       "      <td>When the going gets weird, the weird turn pro.</td>\n",
       "      <td>Hunter S. Thompson</td>\n",
       "      <td>Music, Sports, Hunting</td>\n",
       "    </tr>\n",
       "    <tr>\n",
       "      <th>96</th>\n",
       "      <td>When a train goes through a tunnel and it gets...</td>\n",
       "      <td>Corrie Ten Boom</td>\n",
       "      <td>Trust, Encouraging, Uplifting</td>\n",
       "    </tr>\n",
       "    <tr>\n",
       "      <th>97</th>\n",
       "      <td>If you think you are too small to make a diffe...</td>\n",
       "      <td>Dalai Lama</td>\n",
       "      <td>Inspirational, Funny, Change</td>\n",
       "    </tr>\n",
       "    <tr>\n",
       "      <th>98</th>\n",
       "      <td>God doesn't require us to succeed, he only req...</td>\n",
       "      <td>Mother Teresa</td>\n",
       "      <td>Success, God, Mother</td>\n",
       "    </tr>\n",
       "    <tr>\n",
       "      <th>99</th>\n",
       "      <td>Change your thoughts and you change your world.</td>\n",
       "      <td>Norman Vincent Peale</td>\n",
       "      <td>Inspirational, Motivational, Change</td>\n",
       "    </tr>\n",
       "  </tbody>\n",
       "</table>\n",
       "<p>100 rows × 3 columns</p>\n",
       "</div>"
      ],
      "text/plain": [
       "                                                Quote                Author  \\\n",
       "0   The essence of strategy is choosing what not t...        Michael Porter   \n",
       "1   One cannot and must not try to erase the past ...            Golda Meir   \n",
       "2   Patriotism means to stand by the country. It d...    Theodore Roosevelt   \n",
       "3   Death is something inevitable. When a man has ...        Nelson Mandela   \n",
       "4   You have to love a nation that celebrates its ...          Erma Bombeck   \n",
       "..                                                ...                   ...   \n",
       "95     When the going gets weird, the weird turn pro.    Hunter S. Thompson   \n",
       "96  When a train goes through a tunnel and it gets...       Corrie Ten Boom   \n",
       "97  If you think you are too small to make a diffe...            Dalai Lama   \n",
       "98  God doesn't require us to succeed, he only req...         Mother Teresa   \n",
       "99    Change your thoughts and you change your world.  Norman Vincent Peale   \n",
       "\n",
       "                                  Quote Type  \n",
       "0   Essence, Deep Thought, Transcendentalism  \n",
       "1                  Inspiration, Past, Trying  \n",
       "2                        Country, Peace, War  \n",
       "3         Inspirational, Motivational, Death  \n",
       "4               4th Of July, Food, Patriotic  \n",
       "..                                       ...  \n",
       "95                    Music, Sports, Hunting  \n",
       "96             Trust, Encouraging, Uplifting  \n",
       "97              Inspirational, Funny, Change  \n",
       "98                      Success, God, Mother  \n",
       "99       Inspirational, Motivational, Change  \n",
       "\n",
       "[100 rows x 3 columns]"
      ]
     },
     "execution_count": 151,
     "metadata": {},
     "output_type": "execute_result"
    }
   ],
   "source": [
    "df"
   ]
  },
  {
   "cell_type": "markdown",
   "id": "9dfc16b8",
   "metadata": {},
   "source": [
    "Q9: Write a python program to display list of respected former Prime Ministers of India(i.e. Name, Born-Dead, Term of office, Remarks) from https://www.jagranjosh.com/.\n",
    "This task will be done in following steps:\n",
    "1. First get the webpagehttps://www.jagranjosh.com/\n",
    "2. Then You have to click on the GK option\n",
    "3. Then click on the List of all Prime Ministers of India\n",
    "4. Then scrap the mentioned data and make theDataFrame."
   ]
  },
  {
   "cell_type": "code",
   "execution_count": 152,
   "id": "ce81a8d2",
   "metadata": {},
   "outputs": [],
   "source": [
    "driver = webdriver.Chrome()\n",
    "driver.get(\"https://www.jagranjosh.com/\")"
   ]
  },
  {
   "cell_type": "code",
   "execution_count": 153,
   "id": "3c0a1044",
   "metadata": {},
   "outputs": [
    {
     "data": {
      "text/plain": [
       "[<selenium.webdriver.remote.webelement.WebElement (session=\"b721292fd6f255bb46386fbb4d285494\", element=\"5533F75D25240F063C84131DBFD43E52_element_1026\")>,\n",
       " <selenium.webdriver.remote.webelement.WebElement (session=\"b721292fd6f255bb46386fbb4d285494\", element=\"5533F75D25240F063C84131DBFD43E52_element_1027\")>,\n",
       " <selenium.webdriver.remote.webelement.WebElement (session=\"b721292fd6f255bb46386fbb4d285494\", element=\"5533F75D25240F063C84131DBFD43E52_element_1028\")>,\n",
       " <selenium.webdriver.remote.webelement.WebElement (session=\"b721292fd6f255bb46386fbb4d285494\", element=\"5533F75D25240F063C84131DBFD43E52_element_1029\")>,\n",
       " <selenium.webdriver.remote.webelement.WebElement (session=\"b721292fd6f255bb46386fbb4d285494\", element=\"5533F75D25240F063C84131DBFD43E52_element_1030\")>,\n",
       " <selenium.webdriver.remote.webelement.WebElement (session=\"b721292fd6f255bb46386fbb4d285494\", element=\"5533F75D25240F063C84131DBFD43E52_element_1031\")>,\n",
       " <selenium.webdriver.remote.webelement.WebElement (session=\"b721292fd6f255bb46386fbb4d285494\", element=\"5533F75D25240F063C84131DBFD43E52_element_300\")>,\n",
       " <selenium.webdriver.remote.webelement.WebElement (session=\"b721292fd6f255bb46386fbb4d285494\", element=\"5533F75D25240F063C84131DBFD43E52_element_1032\")>,\n",
       " <selenium.webdriver.remote.webelement.WebElement (session=\"b721292fd6f255bb46386fbb4d285494\", element=\"5533F75D25240F063C84131DBFD43E52_element_1033\")>,\n",
       " <selenium.webdriver.remote.webelement.WebElement (session=\"b721292fd6f255bb46386fbb4d285494\", element=\"5533F75D25240F063C84131DBFD43E52_element_1034\")>,\n",
       " <selenium.webdriver.remote.webelement.WebElement (session=\"b721292fd6f255bb46386fbb4d285494\", element=\"5533F75D25240F063C84131DBFD43E52_element_1035\")>,\n",
       " <selenium.webdriver.remote.webelement.WebElement (session=\"b721292fd6f255bb46386fbb4d285494\", element=\"5533F75D25240F063C84131DBFD43E52_element_1036\")>,\n",
       " <selenium.webdriver.remote.webelement.WebElement (session=\"b721292fd6f255bb46386fbb4d285494\", element=\"5533F75D25240F063C84131DBFD43E52_element_1037\")>,\n",
       " <selenium.webdriver.remote.webelement.WebElement (session=\"b721292fd6f255bb46386fbb4d285494\", element=\"5533F75D25240F063C84131DBFD43E52_element_1038\")>,\n",
       " <selenium.webdriver.remote.webelement.WebElement (session=\"b721292fd6f255bb46386fbb4d285494\", element=\"5533F75D25240F063C84131DBFD43E52_element_1039\")>,\n",
       " <selenium.webdriver.remote.webelement.WebElement (session=\"b721292fd6f255bb46386fbb4d285494\", element=\"5533F75D25240F063C84131DBFD43E52_element_1040\")>,\n",
       " <selenium.webdriver.remote.webelement.WebElement (session=\"b721292fd6f255bb46386fbb4d285494\", element=\"5533F75D25240F063C84131DBFD43E52_element_1041\")>,\n",
       " <selenium.webdriver.remote.webelement.WebElement (session=\"b721292fd6f255bb46386fbb4d285494\", element=\"5533F75D25240F063C84131DBFD43E52_element_1042\")>,\n",
       " <selenium.webdriver.remote.webelement.WebElement (session=\"b721292fd6f255bb46386fbb4d285494\", element=\"5533F75D25240F063C84131DBFD43E52_element_1043\")>,\n",
       " <selenium.webdriver.remote.webelement.WebElement (session=\"b721292fd6f255bb46386fbb4d285494\", element=\"5533F75D25240F063C84131DBFD43E52_element_1044\")>,\n",
       " <selenium.webdriver.remote.webelement.WebElement (session=\"b721292fd6f255bb46386fbb4d285494\", element=\"5533F75D25240F063C84131DBFD43E52_element_1045\")>,\n",
       " <selenium.webdriver.remote.webelement.WebElement (session=\"b721292fd6f255bb46386fbb4d285494\", element=\"5533F75D25240F063C84131DBFD43E52_element_1046\")>,\n",
       " <selenium.webdriver.remote.webelement.WebElement (session=\"b721292fd6f255bb46386fbb4d285494\", element=\"5533F75D25240F063C84131DBFD43E52_element_1047\")>,\n",
       " <selenium.webdriver.remote.webelement.WebElement (session=\"b721292fd6f255bb46386fbb4d285494\", element=\"5533F75D25240F063C84131DBFD43E52_element_1048\")>,\n",
       " <selenium.webdriver.remote.webelement.WebElement (session=\"b721292fd6f255bb46386fbb4d285494\", element=\"5533F75D25240F063C84131DBFD43E52_element_1049\")>]"
      ]
     },
     "execution_count": 153,
     "metadata": {},
     "output_type": "execute_result"
    }
   ],
   "source": [
    "name_tags = driver.find_elements(By.XPATH,'//a[@target=\"_blank\"]')\n",
    "name_tags"
   ]
  },
  {
   "cell_type": "code",
   "execution_count": 154,
   "id": "c1a09321",
   "metadata": {},
   "outputs": [
    {
     "data": {
      "text/plain": [
       "['SRM UNIVERSITY',\n",
       " 'NIKHARDA PUNJAB',\n",
       " '',\n",
       " '',\n",
       " '',\n",
       " '',\n",
       " 'Jawahar Lal Nehru',\n",
       " 'Indira Gandhi',\n",
       " 'Indira Gandhi',\n",
       " 'Rajiv Gandhi',\n",
       " 'Chandra Shekhar',\n",
       " 'Atal Bihari Vajpayee',\n",
       " 'Atal Bihari Vajpayee',\n",
       " 'Manmohan Singh',\n",
       " 'Narendra Modi',\n",
       " 'Prime Minister',\n",
       " 'President',\n",
       " 'List of all Presidents of India',\n",
       " 'List of Nicknames of Indian Prime Ministers',\n",
       " '',\n",
       " '',\n",
       " '',\n",
       " '',\n",
       " '',\n",
       " '']"
      ]
     },
     "execution_count": 154,
     "metadata": {},
     "output_type": "execute_result"
    }
   ],
   "source": [
    "name = []\n",
    "for i in name_tags:\n",
    "    name.append(i.text)\n",
    "    \n",
    "name"
   ]
  },
  {
   "cell_type": "code",
   "execution_count": 155,
   "id": "45951e63",
   "metadata": {},
   "outputs": [
    {
     "data": {
      "text/plain": [
       "[]"
      ]
     },
     "execution_count": 155,
     "metadata": {},
     "output_type": "execute_result"
    }
   ],
   "source": [
    "life_tags = driver.find_elements(By.XPATH,'//p[@class=\"empty\"]')\n",
    "life_tags"
   ]
  },
  {
   "cell_type": "code",
   "execution_count": 156,
   "id": "5c0940e6",
   "metadata": {},
   "outputs": [],
   "source": [
    "life = []\n",
    "for i in life_tags:\n",
    "    life.append(i.text)"
   ]
  },
  {
   "cell_type": "code",
   "execution_count": 157,
   "id": "60cbf387",
   "metadata": {},
   "outputs": [],
   "source": [
    "office_tags = driver.find_elements(By.XPATH,'//span[@class=\"empty\"]')"
   ]
  },
  {
   "cell_type": "code",
   "execution_count": null,
   "id": "29530fed",
   "metadata": {},
   "outputs": [],
   "source": [
    "office = []\n",
    "for i in office_tags:\n",
    "    office.append(i.text)"
   ]
  },
  {
   "cell_type": "code",
   "execution_count": 158,
   "id": "140d7178",
   "metadata": {},
   "outputs": [],
   "source": [
    "remarks_tags = driver.find_elements(By.XPATH,'//p[@class=\"empty\"]')"
   ]
  },
  {
   "cell_type": "code",
   "execution_count": null,
   "id": "b552aebd",
   "metadata": {},
   "outputs": [],
   "source": [
    "remarks = []\n",
    "for i in remarks_tags:\n",
    "    remarks.append(i.text)"
   ]
  },
  {
   "cell_type": "code",
   "execution_count": null,
   "id": "8430fb20",
   "metadata": {},
   "outputs": [],
   "source": [
    "df1 = pd.DataFrame({})\n",
    "df1[\"Name\"] = name\n",
    "df1[\"Born and Death\"] = life\n",
    "df1[\"Term of Office\"] = office\n",
    "df1[\"Remarks\"] = remarks"
   ]
  },
  {
   "cell_type": "markdown",
   "id": "5b31e1e3",
   "metadata": {},
   "source": [
    "Q10: Write a python program to display list of 50 Most expensive cars in the world (i.e. Car name and Price) from https://www.motor1.com/\n",
    "This task will be done in following steps:\n",
    "1. First get the webpage https://www.motor1.com/\n",
    "2. Then You have to type in the search bar ’50 most expensive cars’\n",
    "3. Then click on 50 most expensive cars in the world..\n",
    "4. Then scrap the mentioned data and make the dataframe."
   ]
  },
  {
   "cell_type": "code",
   "execution_count": 159,
   "id": "53e829ae",
   "metadata": {},
   "outputs": [],
   "source": [
    "driver = webdriver.Chrome()\n",
    "driver.get(\"https://www.motor1.com/\")"
   ]
  },
  {
   "cell_type": "code",
   "execution_count": 160,
   "id": "afe2c75f",
   "metadata": {},
   "outputs": [
    {
     "data": {
      "text/plain": [
       "[<selenium.webdriver.remote.webelement.WebElement (session=\"fbbd882bdf0ba1f09e7abe7dc96fee58\", element=\"08A583417AC58CAC922B34104E81A1C9_element_128\")>,\n",
       " <selenium.webdriver.remote.webelement.WebElement (session=\"fbbd882bdf0ba1f09e7abe7dc96fee58\", element=\"08A583417AC58CAC922B34104E81A1C9_element_392\")>,\n",
       " <selenium.webdriver.remote.webelement.WebElement (session=\"fbbd882bdf0ba1f09e7abe7dc96fee58\", element=\"08A583417AC58CAC922B34104E81A1C9_element_396\")>,\n",
       " <selenium.webdriver.remote.webelement.WebElement (session=\"fbbd882bdf0ba1f09e7abe7dc96fee58\", element=\"08A583417AC58CAC922B34104E81A1C9_element_402\")>,\n",
       " <selenium.webdriver.remote.webelement.WebElement (session=\"fbbd882bdf0ba1f09e7abe7dc96fee58\", element=\"08A583417AC58CAC922B34104E81A1C9_element_407\")>,\n",
       " <selenium.webdriver.remote.webelement.WebElement (session=\"fbbd882bdf0ba1f09e7abe7dc96fee58\", element=\"08A583417AC58CAC922B34104E81A1C9_element_412\")>,\n",
       " <selenium.webdriver.remote.webelement.WebElement (session=\"fbbd882bdf0ba1f09e7abe7dc96fee58\", element=\"08A583417AC58CAC922B34104E81A1C9_element_416\")>,\n",
       " <selenium.webdriver.remote.webelement.WebElement (session=\"fbbd882bdf0ba1f09e7abe7dc96fee58\", element=\"08A583417AC58CAC922B34104E81A1C9_element_421\")>,\n",
       " <selenium.webdriver.remote.webelement.WebElement (session=\"fbbd882bdf0ba1f09e7abe7dc96fee58\", element=\"08A583417AC58CAC922B34104E81A1C9_element_426\")>,\n",
       " <selenium.webdriver.remote.webelement.WebElement (session=\"fbbd882bdf0ba1f09e7abe7dc96fee58\", element=\"08A583417AC58CAC922B34104E81A1C9_element_430\")>,\n",
       " <selenium.webdriver.remote.webelement.WebElement (session=\"fbbd882bdf0ba1f09e7abe7dc96fee58\", element=\"08A583417AC58CAC922B34104E81A1C9_element_435\")>,\n",
       " <selenium.webdriver.remote.webelement.WebElement (session=\"fbbd882bdf0ba1f09e7abe7dc96fee58\", element=\"08A583417AC58CAC922B34104E81A1C9_element_441\")>,\n",
       " <selenium.webdriver.remote.webelement.WebElement (session=\"fbbd882bdf0ba1f09e7abe7dc96fee58\", element=\"08A583417AC58CAC922B34104E81A1C9_element_446\")>,\n",
       " <selenium.webdriver.remote.webelement.WebElement (session=\"fbbd882bdf0ba1f09e7abe7dc96fee58\", element=\"08A583417AC58CAC922B34104E81A1C9_element_450\")>,\n",
       " <selenium.webdriver.remote.webelement.WebElement (session=\"fbbd882bdf0ba1f09e7abe7dc96fee58\", element=\"08A583417AC58CAC922B34104E81A1C9_element_455\")>,\n",
       " <selenium.webdriver.remote.webelement.WebElement (session=\"fbbd882bdf0ba1f09e7abe7dc96fee58\", element=\"08A583417AC58CAC922B34104E81A1C9_element_460\")>,\n",
       " <selenium.webdriver.remote.webelement.WebElement (session=\"fbbd882bdf0ba1f09e7abe7dc96fee58\", element=\"08A583417AC58CAC922B34104E81A1C9_element_464\")>,\n",
       " <selenium.webdriver.remote.webelement.WebElement (session=\"fbbd882bdf0ba1f09e7abe7dc96fee58\", element=\"08A583417AC58CAC922B34104E81A1C9_element_469\")>,\n",
       " <selenium.webdriver.remote.webelement.WebElement (session=\"fbbd882bdf0ba1f09e7abe7dc96fee58\", element=\"08A583417AC58CAC922B34104E81A1C9_element_473\")>,\n",
       " <selenium.webdriver.remote.webelement.WebElement (session=\"fbbd882bdf0ba1f09e7abe7dc96fee58\", element=\"08A583417AC58CAC922B34104E81A1C9_element_478\")>,\n",
       " <selenium.webdriver.remote.webelement.WebElement (session=\"fbbd882bdf0ba1f09e7abe7dc96fee58\", element=\"08A583417AC58CAC922B34104E81A1C9_element_484\")>,\n",
       " <selenium.webdriver.remote.webelement.WebElement (session=\"fbbd882bdf0ba1f09e7abe7dc96fee58\", element=\"08A583417AC58CAC922B34104E81A1C9_element_488\")>,\n",
       " <selenium.webdriver.remote.webelement.WebElement (session=\"fbbd882bdf0ba1f09e7abe7dc96fee58\", element=\"08A583417AC58CAC922B34104E81A1C9_element_492\")>,\n",
       " <selenium.webdriver.remote.webelement.WebElement (session=\"fbbd882bdf0ba1f09e7abe7dc96fee58\", element=\"08A583417AC58CAC922B34104E81A1C9_element_498\")>,\n",
       " <selenium.webdriver.remote.webelement.WebElement (session=\"fbbd882bdf0ba1f09e7abe7dc96fee58\", element=\"08A583417AC58CAC922B34104E81A1C9_element_502\")>,\n",
       " <selenium.webdriver.remote.webelement.WebElement (session=\"fbbd882bdf0ba1f09e7abe7dc96fee58\", element=\"08A583417AC58CAC922B34104E81A1C9_element_506\")>,\n",
       " <selenium.webdriver.remote.webelement.WebElement (session=\"fbbd882bdf0ba1f09e7abe7dc96fee58\", element=\"08A583417AC58CAC922B34104E81A1C9_element_511\")>,\n",
       " <selenium.webdriver.remote.webelement.WebElement (session=\"fbbd882bdf0ba1f09e7abe7dc96fee58\", element=\"08A583417AC58CAC922B34104E81A1C9_element_515\")>,\n",
       " <selenium.webdriver.remote.webelement.WebElement (session=\"fbbd882bdf0ba1f09e7abe7dc96fee58\", element=\"08A583417AC58CAC922B34104E81A1C9_element_520\")>,\n",
       " <selenium.webdriver.remote.webelement.WebElement (session=\"fbbd882bdf0ba1f09e7abe7dc96fee58\", element=\"08A583417AC58CAC922B34104E81A1C9_element_525\")>,\n",
       " <selenium.webdriver.remote.webelement.WebElement (session=\"fbbd882bdf0ba1f09e7abe7dc96fee58\", element=\"08A583417AC58CAC922B34104E81A1C9_element_529\")>,\n",
       " <selenium.webdriver.remote.webelement.WebElement (session=\"fbbd882bdf0ba1f09e7abe7dc96fee58\", element=\"08A583417AC58CAC922B34104E81A1C9_element_533\")>,\n",
       " <selenium.webdriver.remote.webelement.WebElement (session=\"fbbd882bdf0ba1f09e7abe7dc96fee58\", element=\"08A583417AC58CAC922B34104E81A1C9_element_539\")>,\n",
       " <selenium.webdriver.remote.webelement.WebElement (session=\"fbbd882bdf0ba1f09e7abe7dc96fee58\", element=\"08A583417AC58CAC922B34104E81A1C9_element_543\")>,\n",
       " <selenium.webdriver.remote.webelement.WebElement (session=\"fbbd882bdf0ba1f09e7abe7dc96fee58\", element=\"08A583417AC58CAC922B34104E81A1C9_element_547\")>,\n",
       " <selenium.webdriver.remote.webelement.WebElement (session=\"fbbd882bdf0ba1f09e7abe7dc96fee58\", element=\"08A583417AC58CAC922B34104E81A1C9_element_552\")>,\n",
       " <selenium.webdriver.remote.webelement.WebElement (session=\"fbbd882bdf0ba1f09e7abe7dc96fee58\", element=\"08A583417AC58CAC922B34104E81A1C9_element_556\")>,\n",
       " <selenium.webdriver.remote.webelement.WebElement (session=\"fbbd882bdf0ba1f09e7abe7dc96fee58\", element=\"08A583417AC58CAC922B34104E81A1C9_element_560\")>,\n",
       " <selenium.webdriver.remote.webelement.WebElement (session=\"fbbd882bdf0ba1f09e7abe7dc96fee58\", element=\"08A583417AC58CAC922B34104E81A1C9_element_566\")>,\n",
       " <selenium.webdriver.remote.webelement.WebElement (session=\"fbbd882bdf0ba1f09e7abe7dc96fee58\", element=\"08A583417AC58CAC922B34104E81A1C9_element_571\")>,\n",
       " <selenium.webdriver.remote.webelement.WebElement (session=\"fbbd882bdf0ba1f09e7abe7dc96fee58\", element=\"08A583417AC58CAC922B34104E81A1C9_element_576\")>,\n",
       " <selenium.webdriver.remote.webelement.WebElement (session=\"fbbd882bdf0ba1f09e7abe7dc96fee58\", element=\"08A583417AC58CAC922B34104E81A1C9_element_581\")>,\n",
       " <selenium.webdriver.remote.webelement.WebElement (session=\"fbbd882bdf0ba1f09e7abe7dc96fee58\", element=\"08A583417AC58CAC922B34104E81A1C9_element_586\")>,\n",
       " <selenium.webdriver.remote.webelement.WebElement (session=\"fbbd882bdf0ba1f09e7abe7dc96fee58\", element=\"08A583417AC58CAC922B34104E81A1C9_element_590\")>,\n",
       " <selenium.webdriver.remote.webelement.WebElement (session=\"fbbd882bdf0ba1f09e7abe7dc96fee58\", element=\"08A583417AC58CAC922B34104E81A1C9_element_596\")>,\n",
       " <selenium.webdriver.remote.webelement.WebElement (session=\"fbbd882bdf0ba1f09e7abe7dc96fee58\", element=\"08A583417AC58CAC922B34104E81A1C9_element_601\")>,\n",
       " <selenium.webdriver.remote.webelement.WebElement (session=\"fbbd882bdf0ba1f09e7abe7dc96fee58\", element=\"08A583417AC58CAC922B34104E81A1C9_element_605\")>,\n",
       " <selenium.webdriver.remote.webelement.WebElement (session=\"fbbd882bdf0ba1f09e7abe7dc96fee58\", element=\"08A583417AC58CAC922B34104E81A1C9_element_611\")>,\n",
       " <selenium.webdriver.remote.webelement.WebElement (session=\"fbbd882bdf0ba1f09e7abe7dc96fee58\", element=\"08A583417AC58CAC922B34104E81A1C9_element_616\")>,\n",
       " <selenium.webdriver.remote.webelement.WebElement (session=\"fbbd882bdf0ba1f09e7abe7dc96fee58\", element=\"08A583417AC58CAC922B34104E81A1C9_element_620\")>,\n",
       " <selenium.webdriver.remote.webelement.WebElement (session=\"fbbd882bdf0ba1f09e7abe7dc96fee58\", element=\"08A583417AC58CAC922B34104E81A1C9_element_626\")>]"
      ]
     },
     "execution_count": 160,
     "metadata": {},
     "output_type": "execute_result"
    }
   ],
   "source": [
    "name_tags_car = driver.find_elements(By.XPATH,'//h3[@class=\"subheader\"]')\n",
    "name_tags_car"
   ]
  },
  {
   "cell_type": "code",
   "execution_count": 161,
   "id": "55932494",
   "metadata": {},
   "outputs": [
    {
     "data": {
      "text/plain": [
       "['Aston Martin Valour',\n",
       " 'McLaren Elva',\n",
       " 'Czinger 21C',\n",
       " 'Ferrari Monza',\n",
       " 'Gordon Murray T.33',\n",
       " 'Koenigsegg Gemera',\n",
       " 'Zenvo TSR-S',\n",
       " 'Hennessey Venom F5',\n",
       " 'Bentley Bacalar',\n",
       " 'Hispano Suiza Carmen Boulogne',\n",
       " 'Bentley Mulliner Batur',\n",
       " 'Deus Vayanne',\n",
       " 'SSC Tuatara',\n",
       " 'Lotus Evija',\n",
       " 'Aston Martin Vulcan',\n",
       " 'Delage D12',\n",
       " 'Ferrari Daytona SP3',\n",
       " 'McLaren Speedtail',\n",
       " 'Rimac Nevera',\n",
       " 'Pagani Utopia',\n",
       " 'Pininfarina Battista',\n",
       " 'Gordon Murray T.50',\n",
       " 'Lamborghini Countach',\n",
       " 'Mercedes-AMG Project One',\n",
       " 'Zenvo Aurora',\n",
       " 'Aston Martin Victor',\n",
       " 'Hennessey Venom F5 Roadster',\n",
       " 'Koenigsegg Jesko',\n",
       " 'Aston Martin Valkyrie',\n",
       " 'W Motors Lykan Hypersport',\n",
       " 'McLaren Solus',\n",
       " 'Lamborghini Sian',\n",
       " 'Koenigsegg CC850',\n",
       " 'Bugatti Chiron Super Sport 300+',\n",
       " 'Lamborghini Veneno',\n",
       " 'Bugatti Bolide',\n",
       " 'Pininfarina B95 Speedster',\n",
       " 'Bugatti Mistral',\n",
       " 'Pagani Huayra Imola',\n",
       " 'Bugatti Divo',\n",
       " 'SP Automotive Chaos',\n",
       " 'Pagani Codalunga',\n",
       " '777 Hypercar',\n",
       " 'Mercedes-Maybach Exelero',\n",
       " 'Bugatti Centodieci',\n",
       " 'Bugatti Chiron Profilée',\n",
       " 'Rolls-Royce Sweptail',\n",
       " 'Bugatti La Voiture Noire',\n",
       " 'Rolls-Royce Boat Tail*',\n",
       " 'Rolls-Royce La Rose Noire Droptail',\n",
       " 'Most Expensive Cars In The World']"
      ]
     },
     "execution_count": 161,
     "metadata": {},
     "output_type": "execute_result"
    }
   ],
   "source": [
    "name = []\n",
    "for i in name_tags_car:\n",
    "    name.append(i.text)\n",
    "    \n",
    "name"
   ]
  },
  {
   "cell_type": "code",
   "execution_count": 162,
   "id": "c749e0c8",
   "metadata": {},
   "outputs": [],
   "source": [
    "price_tags = driver.find_elements(By.XPATH,'//strong[@class=\"empty\"]')"
   ]
  },
  {
   "cell_type": "code",
   "execution_count": 163,
   "id": "14b33662",
   "metadata": {},
   "outputs": [],
   "source": [
    "price = []\n",
    "for i in price_tags:\n",
    "    price.append(i.text)"
   ]
  },
  {
   "cell_type": "code",
   "execution_count": null,
   "id": "ffcae8d6",
   "metadata": {},
   "outputs": [],
   "source": [
    "df_cars = pd.DataFrame({})\n",
    "df_cars[\"Name of Car\"] = name\n",
    "df[\"Price of Car\"] = price"
   ]
  }
 ],
 "metadata": {
  "kernelspec": {
   "display_name": "Python 3",
   "language": "python",
   "name": "python3"
  },
  "language_info": {
   "codemirror_mode": {
    "name": "ipython",
    "version": 3
   },
   "file_extension": ".py",
   "mimetype": "text/x-python",
   "name": "python",
   "nbconvert_exporter": "python",
   "pygments_lexer": "ipython3",
   "version": "3.8.8"
  }
 },
 "nbformat": 4,
 "nbformat_minor": 5
}
